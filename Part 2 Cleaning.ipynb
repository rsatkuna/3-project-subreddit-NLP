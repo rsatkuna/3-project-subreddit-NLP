{
 "cells": [
  {
   "cell_type": "markdown",
   "id": "03533de6-52f7-4bd5-83ff-69fcdfd468e2",
   "metadata": {},
   "source": [
    "# Project 3: Web APIs & NLP Part 2 Data Cleaning"
   ]
  },
  {
   "cell_type": "code",
   "execution_count": 1,
   "id": "42bf9694-8049-4871-9595-c252bd6f5b0c",
   "metadata": {},
   "outputs": [],
   "source": [
    "# imports\n",
    "import pandas as pd\n",
    "import matplotlib.pyplot as plt\n",
    "import numpy as np\n",
    "import re\n",
    "import warnings\n",
    "warnings.filterwarnings('ignore')\n",
    "%matplotlib inline\n"
   ]
  },
  {
   "cell_type": "code",
   "execution_count": 2,
   "id": "ca5d50a6-ed5c-4784-aec0-c741ccb45640",
   "metadata": {},
   "outputs": [],
   "source": [
    "# import raw data of initial scrapes of techsupport subreddit\n",
    "techsupport = pd.read_csv('data2/raw_techsupport_initial_scrape.csv')\n",
    "# import raw data of initial scrapes of creative writing subreddit\n",
    "creative = pd.read_csv('data2/raw_creative_initial_scrape.csv')\n"
   ]
  },
  {
   "cell_type": "code",
   "execution_count": 3,
   "id": "1d74bc75-1798-4804-a7fd-88b7bfad4809",
   "metadata": {},
   "outputs": [],
   "source": [
    "# to make DataFrames easier to navigate through during cleaning/EDA\n",
    "pd.set_option('display.max_columns',100)\n",
    "pd.set_option('display.max_rows', 500)\n",
    "pd.set_option('display.max_colwidth', None)\n",
    "\n"
   ]
  },
  {
   "cell_type": "markdown",
   "id": "29f2e675-e20a-4779-b93d-d8eb935c6a4e",
   "metadata": {},
   "source": [
    "## Cleaning Data"
   ]
  },
  {
   "cell_type": "code",
   "execution_count": 4,
   "id": "7f51f950-3c59-44a7-ad42-04fd490784b0",
   "metadata": {},
   "outputs": [
    {
     "data": {
      "text/plain": [
       "(20040, 94)"
      ]
     },
     "execution_count": 4,
     "metadata": {},
     "output_type": "execute_result"
    }
   ],
   "source": [
    "# checking shape of techsupport subreddit DataFrame\n",
    "techsupport.shape"
   ]
  },
  {
   "cell_type": "code",
   "execution_count": 5,
   "id": "89efadcc-4026-4958-baa2-39d876447d72",
   "metadata": {},
   "outputs": [
    {
     "data": {
      "text/plain": [
       "(20095, 90)"
      ]
     },
     "execution_count": 5,
     "metadata": {},
     "output_type": "execute_result"
    }
   ],
   "source": [
    "# checking shape of creative writing subreddit DataFrame\n",
    "creative.shape"
   ]
  },
  {
   "cell_type": "code",
   "execution_count": 6,
   "id": "f24553ee-1b0a-4af7-971f-c8d2d3596324",
   "metadata": {},
   "outputs": [
    {
     "data": {
      "text/plain": [
       "Index(['Unnamed: 0', 'all_awardings', 'allow_live_comments', 'author',\n",
       "       'author_flair_css_class', 'author_flair_richtext', 'author_flair_text',\n",
       "       'author_flair_type', 'author_fullname', 'author_is_blocked',\n",
       "       'author_patreon_flair', 'author_premium', 'awarders', 'can_mod_post',\n",
       "       'contest_mode', 'created_utc', 'domain', 'full_link', 'gildings', 'id',\n",
       "       'is_created_from_ads_ui', 'is_crosspostable', 'is_meta',\n",
       "       'is_original_content', 'is_reddit_media_domain', 'is_robot_indexable',\n",
       "       'is_self', 'is_video', 'link_flair_background_color',\n",
       "       'link_flair_richtext', 'link_flair_text_color', 'link_flair_type',\n",
       "       'locked', 'media_only', 'no_follow', 'num_comments', 'num_crossposts',\n",
       "       'over_18', 'parent_whitelist_status', 'permalink', 'pinned', 'pwls',\n",
       "       'removed_by_category', 'retrieved_on', 'score', 'selftext',\n",
       "       'send_replies', 'spoiler', 'stickied', 'subreddit', 'subreddit_id',\n",
       "       'subreddit_subscribers', 'subreddit_type', 'thumbnail', 'title',\n",
       "       'total_awards_received', 'treatment_tags', 'upvote_ratio', 'url',\n",
       "       'whitelist_status', 'wls', 'link_flair_css_class', 'link_flair_text',\n",
       "       'author_flair_background_color', 'author_flair_text_color', 'banned_by',\n",
       "       'author_flair_template_id', 'post_hint', 'preview', 'crosspost_parent',\n",
       "       'crosspost_parent_list', 'url_overridden_by_dest', 'author_cakeday',\n",
       "       'call_to_action', 'category', 'thumbnail_height', 'thumbnail_width',\n",
       "       'edited', 'link_flair_template_id', 'gilded', 'distinguished',\n",
       "       'steward_reports', 'removed_by', 'updated_utc', 'og_description',\n",
       "       'og_title', 'rte_mode', 'brand_safe', 'approved_at_utc',\n",
       "       'author_created_utc', 'banned_at_utc', 'media_embed',\n",
       "       'secure_media_embed', 'suggested_sort'],\n",
       "      dtype='object')"
      ]
     },
     "execution_count": 6,
     "metadata": {},
     "output_type": "execute_result"
    }
   ],
   "source": [
    "# looking at columns to decide which ones to drop\n",
    "techsupport.columns"
   ]
  },
  {
   "cell_type": "code",
   "execution_count": 7,
   "id": "c409ed56-6599-492a-9b28-f4236ead086e",
   "metadata": {},
   "outputs": [],
   "source": [
    "# selecting 'selftext','author' and 'title' columns as these seem most relevant\n",
    "techsupport = techsupport[['selftext', 'author','title']]"
   ]
  },
  {
   "cell_type": "code",
   "execution_count": 8,
   "id": "9296d00a-5773-4f64-97c1-ced8a9b23636",
   "metadata": {},
   "outputs": [],
   "source": [
    "creative = creative[['selftext', 'author','title']]"
   ]
  },
  {
   "cell_type": "code",
   "execution_count": 9,
   "id": "38eb6561-c092-4c0e-8f4f-540bf9b0b865",
   "metadata": {},
   "outputs": [
    {
     "data": {
      "text/html": [
       "<div>\n",
       "<style scoped>\n",
       "    .dataframe tbody tr th:only-of-type {\n",
       "        vertical-align: middle;\n",
       "    }\n",
       "\n",
       "    .dataframe tbody tr th {\n",
       "        vertical-align: top;\n",
       "    }\n",
       "\n",
       "    .dataframe thead th {\n",
       "        text-align: right;\n",
       "    }\n",
       "</style>\n",
       "<table border=\"1\" class=\"dataframe\">\n",
       "  <thead>\n",
       "    <tr style=\"text-align: right;\">\n",
       "      <th></th>\n",
       "      <th>selftext</th>\n",
       "      <th>author</th>\n",
       "      <th>title</th>\n",
       "    </tr>\n",
       "  </thead>\n",
       "  <tbody>\n",
       "    <tr>\n",
       "      <th>0</th>\n",
       "      <td>[removed]</td>\n",
       "      <td>DihedralStem</td>\n",
       "      <td>Unexpected global perspective</td>\n",
       "    </tr>\n",
       "    <tr>\n",
       "      <th>1</th>\n",
       "      <td>During college I worked for the University helpdesk. I had just gotten my first promotion and was finally allowed to go on-site and work in our walk-in area. One of the people working phones got a call from a student about their Nintendo Switch not connecting to the Residence Hall internet. This is a somewhat common call as Switches are incompatible with the  802.1X authentication our network used. \\n\\nThe person working the phone did their best to explain this in English to an astonished customer, and long story short the customer flipped. He threatened the phone agent, found our address, then said he'd be over in 10 minutes to kill us all unless we let his Switch on the network. Essentially being a glorified receptionist this was relayed to me and fulltime staff were made aware and decided to invite the University Police over, who happened to be our office neighbors. \\n\\n10 minutes go by and there's me, 3 staff members, and 2 cops standing in our dingy little walk-up area, when a student who must've been 5'6\" 120 lbs walked in with one hand in a fist and the other cradling his Switch. Beyond that, it wasn't particularly eventful but it was the first arrest of several I saw in my two years working there.</td>\n",
       "      <td>FrostyPaddy</td>\n",
       "      <td>My First Helpdesk Arrest</td>\n",
       "    </tr>\n",
       "    <tr>\n",
       "      <th>2</th>\n",
       "      <td>&amp;gt; $worksTooMuch: Hey, Ging, can you look at this item in the call queue for me?\\n\\n&amp;gt; $gingBeard: Yeah. Uh, does that say they've been on hold for six hours?\\n\\n&amp;gt; $worksTooMuch: OK. I wanted to make sure I wasn't misreading that. I'm going to change the phone priority and have $breaker take it. Would you warn him?\\n\\n&amp;gt; $gingBeard: $Breaker? If you say so.\\n\\nThe MSP we worked for would gave discounts to customers (all businesses) if they agreed to be bumped down the call priority. I guess this was a fine enough deal for companies that only had us for calls outside business hours. Then, there's was $KioskCo, who sent us tickets twice in the year I was there. Both handled by $breaker and both involved a several hour wait because they decided they wanted max discount and were always at the bottom of the call priority. Always. \\n\\nAs $Breaker told it, the call went like this:\\n\\n*Introductions*\\n\\n&amp;gt; $KioskCo: Because of [ERROR: REASON NOT FOUND] the last girl started a print job that's going to print, uh, maybe six or seven thousand pages? Well the printer started smoking so I called you. \\n\\n&amp;gt; $Breaker: The printer is running a six or seven thousand page job and started smoking when you called six hours ago?\\n\\n&amp;gt; $KioskCo: Yes.\\n\\n&amp;gt; $Breaker: Is, is the printer still running? \\n\\n&amp;gt; $KioskCo: Yes. The print job isn't finished. And the smoke coming out of it is getting pretty dark\\n\\nAtleast 30 seconds of uninterrupted silence pass as his prefrontal cortex BSoD's and reboots. \\n\\n&amp;gt; $Breaker: Can you stop the print job? And then unplug the printer.\\n\\n&amp;gt; $KioskCo: But the print job isn't finished. \\n\\n&amp;gt; $Breaker: I'll, I'll fix that after. \\n\\nAfter convincing the woman to unplug the printer he got her to take the printed pages out of the room and call (I think) an electrician and their local non-emergency emergency services phone number.\\n\\nI don't know if he ever fixed the interrupted print job.</td>\n",
       "      <td>WantDebianThanks</td>\n",
       "      <td>LP0: Printer on Fire</td>\n",
       "    </tr>\n",
       "    <tr>\n",
       "      <th>3</th>\n",
       "      <td>So as I mentioned in my previous post I'm a call center agent for a bank and our training recently finished last week and so I'll now have full shifts starting earlier today,the problem with working in the Philippines and your clientele being in the US is that the time zones are wonky,seeing as I'm day shift 6am-3pm AKA 5pm to 2am EST \\n\\nNow one may think hey at least it'll slow down that last few hours right,that's what I thought as well,but being the only 3 people there in production as well as my coworker who shares a shift with me and my support,means that we're the only one taking calls and so the calls come one after the other,or queueing as we call it here\\n\\nPlease go to sleep Americans XD jk but it was fulfilling and tiring my first ever full shift</td>\n",
       "      <td>polkarrty</td>\n",
       "      <td>my first full 7.5 hour shift</td>\n",
       "    </tr>\n",
       "    <tr>\n",
       "      <th>4</th>\n",
       "      <td>[removed]</td>\n",
       "      <td>Zeewulfeh</td>\n",
       "      <td>More From Aviation Maintenance: Bad Conduct Discharge</td>\n",
       "    </tr>\n",
       "  </tbody>\n",
       "</table>\n",
       "</div>"
      ],
      "text/plain": [
       "                                                                                                                                                                                                                                                                                                                                                                                                                                                                                                                                                                                                                                                                                                                                                                                                                                                                                                                                                                                                                                                                                                                                                                                                                                                                                                                                                                                                                                                                                                                                                                                                                                                                                                                                                                                                                                                                                                                                                                                                                                 selftext  \\\n",
       "0                                                                                                                                                                                                                                                                                                                                                                                                                                                                                                                                                                                                                                                                                                                                                                                                                                                                                                                                                                                                                                                                                                                                                                                                                                                                                                                                                                                                                                                                                                                                                                                                                                                                                                                                                                                                                                                                                                                                                                                                                               [removed]   \n",
       "1                                                                                                                                                                                                                                                                                                                                                                                                                                                                                                                                                                                                                                                                                                                                                                During college I worked for the University helpdesk. I had just gotten my first promotion and was finally allowed to go on-site and work in our walk-in area. One of the people working phones got a call from a student about their Nintendo Switch not connecting to the Residence Hall internet. This is a somewhat common call as Switches are incompatible with the  802.1X authentication our network used. \\n\\nThe person working the phone did their best to explain this in English to an astonished customer, and long story short the customer flipped. He threatened the phone agent, found our address, then said he'd be over in 10 minutes to kill us all unless we let his Switch on the network. Essentially being a glorified receptionist this was relayed to me and fulltime staff were made aware and decided to invite the University Police over, who happened to be our office neighbors. \\n\\n10 minutes go by and there's me, 3 staff members, and 2 cops standing in our dingy little walk-up area, when a student who must've been 5'6\" 120 lbs walked in with one hand in a fist and the other cradling his Switch. Beyond that, it wasn't particularly eventful but it was the first arrest of several I saw in my two years working there.   \n",
       "2  &gt; $worksTooMuch: Hey, Ging, can you look at this item in the call queue for me?\\n\\n&gt; $gingBeard: Yeah. Uh, does that say they've been on hold for six hours?\\n\\n&gt; $worksTooMuch: OK. I wanted to make sure I wasn't misreading that. I'm going to change the phone priority and have $breaker take it. Would you warn him?\\n\\n&gt; $gingBeard: $Breaker? If you say so.\\n\\nThe MSP we worked for would gave discounts to customers (all businesses) if they agreed to be bumped down the call priority. I guess this was a fine enough deal for companies that only had us for calls outside business hours. Then, there's was $KioskCo, who sent us tickets twice in the year I was there. Both handled by $breaker and both involved a several hour wait because they decided they wanted max discount and were always at the bottom of the call priority. Always. \\n\\nAs $Breaker told it, the call went like this:\\n\\n*Introductions*\\n\\n&gt; $KioskCo: Because of [ERROR: REASON NOT FOUND] the last girl started a print job that's going to print, uh, maybe six or seven thousand pages? Well the printer started smoking so I called you. \\n\\n&gt; $Breaker: The printer is running a six or seven thousand page job and started smoking when you called six hours ago?\\n\\n&gt; $KioskCo: Yes.\\n\\n&gt; $Breaker: Is, is the printer still running? \\n\\n&gt; $KioskCo: Yes. The print job isn't finished. And the smoke coming out of it is getting pretty dark\\n\\nAtleast 30 seconds of uninterrupted silence pass as his prefrontal cortex BSoD's and reboots. \\n\\n&gt; $Breaker: Can you stop the print job? And then unplug the printer.\\n\\n&gt; $KioskCo: But the print job isn't finished. \\n\\n&gt; $Breaker: I'll, I'll fix that after. \\n\\nAfter convincing the woman to unplug the printer he got her to take the printed pages out of the room and call (I think) an electrician and their local non-emergency emergency services phone number.\\n\\nI don't know if he ever fixed the interrupted print job.   \n",
       "3                                                                                                                                                                                                                                                                                                                                                                                                                                                                                                                                                                                                                                                                                                                                                                                                                                                                                                                                                                                                                                                                                                                                                                                                                                        So as I mentioned in my previous post I'm a call center agent for a bank and our training recently finished last week and so I'll now have full shifts starting earlier today,the problem with working in the Philippines and your clientele being in the US is that the time zones are wonky,seeing as I'm day shift 6am-3pm AKA 5pm to 2am EST \\n\\nNow one may think hey at least it'll slow down that last few hours right,that's what I thought as well,but being the only 3 people there in production as well as my coworker who shares a shift with me and my support,means that we're the only one taking calls and so the calls come one after the other,or queueing as we call it here\\n\\nPlease go to sleep Americans XD jk but it was fulfilling and tiring my first ever full shift   \n",
       "4                                                                                                                                                                                                                                                                                                                                                                                                                                                                                                                                                                                                                                                                                                                                                                                                                                                                                                                                                                                                                                                                                                                                                                                                                                                                                                                                                                                                                                                                                                                                                                                                                                                                                                                                                                                                                                                                                                                                                                                                                               [removed]   \n",
       "\n",
       "             author                                                  title  \n",
       "0      DihedralStem                          Unexpected global perspective  \n",
       "1       FrostyPaddy                               My First Helpdesk Arrest  \n",
       "2  WantDebianThanks                                   LP0: Printer on Fire  \n",
       "3         polkarrty                           my first full 7.5 hour shift  \n",
       "4         Zeewulfeh  More From Aviation Maintenance: Bad Conduct Discharge  "
      ]
     },
     "execution_count": 9,
     "metadata": {},
     "output_type": "execute_result"
    }
   ],
   "source": [
    "techsupport.head()"
   ]
  },
  {
   "cell_type": "code",
   "execution_count": 10,
   "id": "d7c9cd0a-ba07-44ca-aef5-2feb8909c013",
   "metadata": {},
   "outputs": [
    {
     "data": {
      "text/plain": [
       "2669"
      ]
     },
     "execution_count": 10,
     "metadata": {},
     "output_type": "execute_result"
    }
   ],
   "source": [
    "# checking for null values in selftext column\n",
    "techsupport['selftext'].isna().sum()"
   ]
  },
  {
   "cell_type": "code",
   "execution_count": 11,
   "id": "b6a1eaf0-139d-4659-b2d7-91e89f07976b",
   "metadata": {},
   "outputs": [],
   "source": [
    "# replacing removed/deleted textposts with null values so that we can drop them\n",
    "techsupport['selftext']=techsupport['selftext'].replace('[removed]', np.nan)\n",
    "techsupport['selftext']=techsupport['selftext'].replace('[deleted]', np.nan)\n",
    "techsupport=techsupport.dropna(subset=['selftext'])\n",
    "creative['selftext']=creative['selftext'].replace('[removed]', np.nan)\n",
    "creative['selftext']=creative['selftext'].replace('[deleted]', np.nan)\n",
    "creative=creative.dropna(subset=['selftext'])"
   ]
  },
  {
   "cell_type": "code",
   "execution_count": 12,
   "id": "d223affb-0f02-4571-95bb-c5aa25d2e991",
   "metadata": {},
   "outputs": [
    {
     "name": "stdout",
     "output_type": "stream",
     "text": [
      "The shape of the tech support dataframe is (14004, 3) and there are 0 null values\n",
      "The shape of the creative writing dataframe is (18096, 3) and there are 0 null values\n"
     ]
    }
   ],
   "source": [
    "# checking shape of  DataFrame and number of null values after deleting\n",
    "print(f\"The shape of the tech support dataframe is {techsupport.shape} and there are {techsupport['selftext'].isna().sum()} null values\")\n",
    "print(f\"The shape of the creative writing dataframe is {creative.shape} and there are {creative['selftext'].isna().sum()} null values\")\n"
   ]
  },
  {
   "cell_type": "code",
   "execution_count": 13,
   "id": "3fb3379c-801a-4f72-af0d-c55134b106cb",
   "metadata": {},
   "outputs": [],
   "source": [
    "# dropping duplicate values in selftext and choosing to keep the first\n",
    "techsupport=techsupport.drop_duplicates(subset='selftext', keep='first', inplace=False)\n",
    "creative=creative.drop_duplicates(subset='selftext', keep='first', inplace=False)"
   ]
  },
  {
   "cell_type": "code",
   "execution_count": 14,
   "id": "7561e1ca-d330-467f-82f9-15f280713e59",
   "metadata": {},
   "outputs": [],
   "source": [
    "# creating dictionary of subreddit moderators so that we can filter out posts made by them\n",
    "techsupport_mods = ['Kumorigoe','Willz12h','doctoroctoclops','mandevwin','PipeItToDevNull','Jalad25','ocupi','BigCatSanctuary','Geeknificient','manawolf146']\n",
    "creative_mods = ['KingBeetle','carbon107','KrisAlmighty','metastasis_d','NO_TOUCHING__lol','JesperTV']\n",
    "techsupport = techsupport[~techsupport['author'].isin(techsupport_mods)]\n",
    "creative = creative[~creative['author'].isin(creative_mods)]"
   ]
  },
  {
   "cell_type": "code",
   "execution_count": 15,
   "id": "34018f31-001f-450b-b1f2-30d7952a77e2",
   "metadata": {},
   "outputs": [
    {
     "name": "stdout",
     "output_type": "stream",
     "text": [
      "The shape of the tech support dataframe is (5134, 3)\n",
      "The shape of the creative writing dataframe is (7150, 3)\n"
     ]
    }
   ],
   "source": [
    "# checking shape of  DataFrame after filtering out moderator posts\n",
    "print(f\"The shape of the tech support dataframe is {techsupport.shape}\")\n",
    "print(f\"The shape of the creative writing dataframe is {creative.shape}\")\n"
   ]
  },
  {
   "cell_type": "code",
   "execution_count": 16,
   "id": "b4cee5ee-10f8-4f24-890b-98e1378f99dd",
   "metadata": {},
   "outputs": [],
   "source": [
    "# thru the magic of Ben Mathis and their regex abilities I am able filter out any URLs\n",
    "techsupport['selftext']=techsupport['selftext'].apply(lambda x: re.sub(r'http\\S+', '', x))\n",
    "creative['selftext']=creative['selftext'].apply(lambda x: re.sub(r'http\\S+', '', x))"
   ]
  },
  {
   "cell_type": "code",
   "execution_count": 17,
   "id": "36327cf4-018f-46ff-a0e0-ef0cb476aaab",
   "metadata": {},
   "outputs": [],
   "source": [
    "# replacing titles that are just 'title' with null values so we can remove them\n",
    "techsupport['title']=techsupport['title'].replace('title', np.nan)\n",
    "creative['title']=creative['title'].replace('title', np.nan)\n",
    "creative=creative.dropna(subset=['title'])\n",
    "techsupport=techsupport.dropna(subset=['title'])"
   ]
  },
  {
   "cell_type": "code",
   "execution_count": 18,
   "id": "9b2e3392-56a6-4f4b-b4b6-1bafe7310904",
   "metadata": {},
   "outputs": [],
   "source": [
    "# dropping duplicate titles in title column\n",
    "techsupport=techsupport.drop_duplicates(subset='title', keep='first', inplace=False)\n",
    "creative=creative.drop_duplicates(subset='title', keep='first', inplace=False)"
   ]
  },
  {
   "cell_type": "code",
   "execution_count": 19,
   "id": "5f72c30b-ce50-4e60-bd06-23ff5f50c620",
   "metadata": {},
   "outputs": [],
   "source": [
    "# dropping blank entries in DataFrames\n",
    "creative = creative[~(creative['selftext'] =='')]\n",
    "techsupport = techsupport[~(techsupport['selftext']=='')]\n",
    "creative = creative[~(creative['title'] =='')]\n",
    "techsupport = techsupport[~(techsupport['title']=='')]\n",
    "creative = creative[~(creative['author'] =='')]\n",
    "techsupport = techsupport[~(techsupport['author']=='')]"
   ]
  },
  {
   "cell_type": "code",
   "execution_count": 20,
   "id": "bc5884cc-8170-46e6-ba11-7addb2f432b5",
   "metadata": {},
   "outputs": [
    {
     "name": "stdout",
     "output_type": "stream",
     "text": [
      "The final shape of the cleaned tech support dataframe is 5120 rows and 3 columns and there are 0 null values\n",
      "The final shape of the cleaned creative writing dataframe is 6928 rows and 3 columns and there are 0 null values\n"
     ]
    }
   ],
   "source": [
    "# checking cleaned DataFrames\n",
    "print(f\"The final shape of the cleaned tech support dataframe is {techsupport.shape[0]} rows and {techsupport.shape[1]} columns and there are {techsupport.isna().sum().sum()} null values\")\n",
    "print(f\"The final shape of the cleaned creative writing dataframe is {creative.shape[0]} rows and {creative.shape[1]} columns and there are {creative.isna().sum().sum()} null values\")\n"
   ]
  },
  {
   "cell_type": "code",
   "execution_count": 22,
   "id": "42343c7a-0113-42bf-997e-b70ca5888394",
   "metadata": {},
   "outputs": [],
   "source": [
    "# exporting cleaned dataframes of tech support and creative writing \n",
    "techsupport.to_csv('data2/cleaned_techsupport.csv', index=False)\n",
    "creative.to_csv('data2/cleaned_creativewriting.csv',index=False)\n"
   ]
  }
 ],
 "metadata": {
  "kernelspec": {
   "display_name": "Python [conda env:dsi]",
   "language": "python",
   "name": "conda-env-dsi-py"
  },
  "language_info": {
   "codemirror_mode": {
    "name": "ipython",
    "version": 3
   },
   "file_extension": ".py",
   "mimetype": "text/x-python",
   "name": "python",
   "nbconvert_exporter": "python",
   "pygments_lexer": "ipython3",
   "version": "3.9.7"
  }
 },
 "nbformat": 4,
 "nbformat_minor": 5
}
