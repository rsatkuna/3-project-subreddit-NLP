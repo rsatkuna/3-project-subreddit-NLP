{
 "cells": [
  {
   "cell_type": "markdown",
   "id": "11f1c5ca-8837-448f-a199-a05c25aee693",
   "metadata": {},
   "source": [
    "# Project 3: Web APIs & NLP Part 3 Natural Language Processing"
   ]
  },
  {
   "cell_type": "code",
   "execution_count": 1,
   "id": "bdf0dfbc-ac25-4b59-b0f1-0c3b3d9c3a98",
   "metadata": {},
   "outputs": [],
   "source": [
    "# imports\n",
    "import numpy as np\n",
    "import pandas as pd\n",
    "from nltk.corpus import stopwords\n",
    "from nltk.tokenize import RegexpTokenizer\n",
    "from nltk.stem import WordNetLemmatizer\n",
    "from nltk.stem.porter import PorterStemmer\n",
    "import matplotlib.pyplot as plt\n",
    "from sklearn.model_selection import train_test_split, cross_val_score, cross_val_predict, KFold\n",
    "import re\n",
    "import unicodedata\n",
    "import nltk\n"
   ]
  },
  {
   "cell_type": "markdown",
   "id": "8802ba56-d57a-4ddc-a7c6-918c465e955c",
   "metadata": {
    "tags": []
   },
   "source": [
    "## Importing and Exploring Data"
   ]
  },
  {
   "cell_type": "code",
   "execution_count": 2,
   "id": "b28f1e22-2371-4a59-9934-fc8d3c012a25",
   "metadata": {},
   "outputs": [],
   "source": [
    "# to make DataFrames easier to navigate through during cleaning/EDA\n",
    "pd.set_option('display.max_columns',10000)\n",
    "pd.set_option('display.max_rows', 500)\n",
    "pd.set_option('display.max_colwidth', None)\n"
   ]
  },
  {
   "cell_type": "code",
   "execution_count": 3,
   "id": "8aacc37f-7914-45da-9f59-4186fb9e7960",
   "metadata": {},
   "outputs": [],
   "source": [
    "# importing cleaned creative writing and tech support subreddit DataFrames\n",
    "creative = pd.read_csv('data2/cleaned_creativewriting.csv')\n",
    "techsupport = pd.read_csv('data2/cleaned_techsupport.csv')"
   ]
  },
  {
   "cell_type": "code",
   "execution_count": 4,
   "id": "fb5dae6c-bab1-456b-b949-7a51bba78b24",
   "metadata": {},
   "outputs": [
    {
     "name": "stdout",
     "output_type": "stream",
     "text": [
      "The cleaned technical support DataFrame has 5120 rows and 3 columns\n",
      "The cleaned creative writing DataFrame has 6928 rows and 3 columns\n"
     ]
    }
   ],
   "source": [
    "# checking cleaned DataFrames' shapes\n",
    "print(f\"The cleaned technical support DataFrame has {techsupport.shape[0]} rows and {techsupport.shape[1]} columns\")\n",
    "print(f\"The cleaned creative writing DataFrame has {creative.shape[0]} rows and {creative.shape[1]} columns\")\n",
    "\n"
   ]
  },
  {
   "cell_type": "code",
   "execution_count": 5,
   "id": "e8d2276d-a170-44a5-8df2-588cde7ef095",
   "metadata": {},
   "outputs": [],
   "source": [
    "# creating new column for Classification with creative set to 0 and techsupport set to 1\n",
    "creative['subreddit'] = 0\n",
    "techsupport['subreddit'] = 1"
   ]
  },
  {
   "cell_type": "code",
   "execution_count": 6,
   "id": "32298878-d01a-4bc6-aa64-fc44075e1211",
   "metadata": {},
   "outputs": [],
   "source": [
    "# combining DataFrames\n",
    "combo = pd.concat([creative,techsupport])"
   ]
  },
  {
   "cell_type": "code",
   "execution_count": 7,
   "id": "9de4a872-c1a7-47d6-90d8-cfc805c6e6ff",
   "metadata": {},
   "outputs": [
    {
     "data": {
      "text/plain": [
       "selftext     object\n",
       "author       object\n",
       "title        object\n",
       "subreddit     int64\n",
       "dtype: object"
      ]
     },
     "execution_count": 7,
     "metadata": {},
     "output_type": "execute_result"
    }
   ],
   "source": [
    "# checking datatypes \n",
    "combo.dtypes"
   ]
  },
  {
   "cell_type": "code",
   "execution_count": 8,
   "id": "6f17ec2f-926c-49f9-90b6-95452f996bed",
   "metadata": {},
   "outputs": [],
   "source": [
    "# creating new column 'fulltext' combining selftext and title\n",
    "combo['fulltext']=combo[['selftext','title']].agg(' '.join, axis =1)"
   ]
  },
  {
   "cell_type": "code",
   "execution_count": 9,
   "id": "3c86433c-1bb8-4e3e-b480-cb673b5e8c2c",
   "metadata": {},
   "outputs": [
    {
     "data": {
      "text/html": [
       "<div>\n",
       "<style scoped>\n",
       "    .dataframe tbody tr th:only-of-type {\n",
       "        vertical-align: middle;\n",
       "    }\n",
       "\n",
       "    .dataframe tbody tr th {\n",
       "        vertical-align: top;\n",
       "    }\n",
       "\n",
       "    .dataframe thead th {\n",
       "        text-align: right;\n",
       "    }\n",
       "</style>\n",
       "<table border=\"1\" class=\"dataframe\">\n",
       "  <thead>\n",
       "    <tr style=\"text-align: right;\">\n",
       "      <th></th>\n",
       "      <th>selftext</th>\n",
       "      <th>author</th>\n",
       "      <th>title</th>\n",
       "      <th>subreddit</th>\n",
       "      <th>fulltext</th>\n",
       "    </tr>\n",
       "  </thead>\n",
       "  <tbody>\n",
       "    <tr>\n",
       "      <th>0</th>\n",
       "      <td>if you happend to make a blog/ecommerce store  about sex play and maybe sex toys how you would name it ? My first idea was Whipped - but domain is taken .. www.....com.   \\ni would like something that is not straightforward like 69store or sexer but something mysterious and fun but on point   \\nThank you,</td>\n",
       "      <td>raygreeen</td>\n",
       "      <td>Asking for a friend</td>\n",
       "      <td>0</td>\n",
       "      <td>if you happend to make a blog/ecommerce store  about sex play and maybe sex toys how you would name it ? My first idea was Whipped - but domain is taken .. www.....com.   \\ni would like something that is not straightforward like 69store or sexer but something mysterious and fun but on point   \\nThank you, Asking for a friend</td>\n",
       "    </tr>\n",
       "    <tr>\n",
       "      <th>1</th>\n",
       "      <td>The floor is cold like it was that  that night.\\n\\nI had tried to run into the street. \\n\\nYour look of betrayal burned into my sight. \\n\\nI am nothing but a bona-fide creep.\\n\\nAll of our memories now a blight.\\n\\nEvery sunrise is a burden without sleep.</td>\n",
       "      <td>a_deceased_person</td>\n",
       "      <td>That Night 🌙</td>\n",
       "      <td>0</td>\n",
       "      <td>The floor is cold like it was that  that night.\\n\\nI had tried to run into the street. \\n\\nYour look of betrayal burned into my sight. \\n\\nI am nothing but a bona-fide creep.\\n\\nAll of our memories now a blight.\\n\\nEvery sunrise is a burden without sleep. That Night 🌙</td>\n",
       "    </tr>\n",
       "    <tr>\n",
       "      <th>2</th>\n",
       "      <td>In this factory of memories\\n\\nWe went our ways for a while\\n\\nLike a pencil writes a story\\n\\nMaking words or tracing lines\\n\\nDrawing worlds or coloring skies\\n\\nA whole new life for you and i\\n\\n.\\nEven though sometimes the lead broke\\n\\nWe would just sharpen up our hope\\n\\nUntil that pencil was no more\\n\\nAnd today i can see the end\\n\\nSo I wanted to say my thanks\\n\\n.\\nTo you before the rubber erases\\n\\nThe memories that we lived in.</td>\n",
       "      <td>Luxrayguy</td>\n",
       "      <td>Factory</td>\n",
       "      <td>0</td>\n",
       "      <td>In this factory of memories\\n\\nWe went our ways for a while\\n\\nLike a pencil writes a story\\n\\nMaking words or tracing lines\\n\\nDrawing worlds or coloring skies\\n\\nA whole new life for you and i\\n\\n.\\nEven though sometimes the lead broke\\n\\nWe would just sharpen up our hope\\n\\nUntil that pencil was no more\\n\\nAnd today i can see the end\\n\\nSo I wanted to say my thanks\\n\\n.\\nTo you before the rubber erases\\n\\nThe memories that we lived in. Factory</td>\n",
       "    </tr>\n",
       "    <tr>\n",
       "      <th>3</th>\n",
       "      <td>I'm panicking I think. Shoving my mouth into my fist. Silly fool slipping backwards for a regressive wish. A false narrative that loops reality in warmth seeking snakes....\\n\\nWriggling with stoic discomfort just for a taste. But I'm tripping into trouble with you. I hope these feelings aren't just waste.</td>\n",
       "      <td>a_deceased_person</td>\n",
       "      <td>delusions?</td>\n",
       "      <td>0</td>\n",
       "      <td>I'm panicking I think. Shoving my mouth into my fist. Silly fool slipping backwards for a regressive wish. A false narrative that loops reality in warmth seeking snakes....\\n\\nWriggling with stoic discomfort just for a taste. But I'm tripping into trouble with you. I hope these feelings aren't just waste. delusions?</td>\n",
       "    </tr>\n",
       "    <tr>\n",
       "      <th>4</th>\n",
       "      <td>“america no longer creates prophets, only profits &amp;amp; we’re all a lot more poor because of it. “ \\n\\n\\n - my brains thoughts in the early hours of the morning</td>\n",
       "      <td>bmodelic</td>\n",
       "      <td>Desolate America</td>\n",
       "      <td>0</td>\n",
       "      <td>“america no longer creates prophets, only profits &amp;amp; we’re all a lot more poor because of it. “ \\n\\n\\n - my brains thoughts in the early hours of the morning Desolate America</td>\n",
       "    </tr>\n",
       "  </tbody>\n",
       "</table>\n",
       "</div>"
      ],
      "text/plain": [
       "                                                                                                                                                                                                                                                                                                                                                                                                                                                     selftext  \\\n",
       "0                                                                                                                                          if you happend to make a blog/ecommerce store  about sex play and maybe sex toys how you would name it ? My first idea was Whipped - but domain is taken .. www.....com.   \\ni would like something that is not straightforward like 69store or sexer but something mysterious and fun but on point   \\nThank you,   \n",
       "1                                                                                                                                                                                             The floor is cold like it was that  that night.\\n\\nI had tried to run into the street. \\n\\nYour look of betrayal burned into my sight. \\n\\nI am nothing but a bona-fide creep.\\n\\nAll of our memories now a blight.\\n\\nEvery sunrise is a burden without sleep.   \n",
       "2  In this factory of memories\\n\\nWe went our ways for a while\\n\\nLike a pencil writes a story\\n\\nMaking words or tracing lines\\n\\nDrawing worlds or coloring skies\\n\\nA whole new life for you and i\\n\\n.\\nEven though sometimes the lead broke\\n\\nWe would just sharpen up our hope\\n\\nUntil that pencil was no more\\n\\nAnd today i can see the end\\n\\nSo I wanted to say my thanks\\n\\n.\\nTo you before the rubber erases\\n\\nThe memories that we lived in.   \n",
       "3                                                                                                                                          I'm panicking I think. Shoving my mouth into my fist. Silly fool slipping backwards for a regressive wish. A false narrative that loops reality in warmth seeking snakes....\\n\\nWriggling with stoic discomfort just for a taste. But I'm tripping into trouble with you. I hope these feelings aren't just waste.   \n",
       "4                                                                                                                                                                                                                                                                                            “america no longer creates prophets, only profits &amp; we’re all a lot more poor because of it. “ \\n\\n\\n - my brains thoughts in the early hours of the morning   \n",
       "\n",
       "              author                title  subreddit  \\\n",
       "0          raygreeen  Asking for a friend          0   \n",
       "1  a_deceased_person         That Night 🌙          0   \n",
       "2          Luxrayguy              Factory          0   \n",
       "3  a_deceased_person           delusions?          0   \n",
       "4           bmodelic     Desolate America          0   \n",
       "\n",
       "                                                                                                                                                                                                                                                                                                                                                                                                                                                             fulltext  \n",
       "0                                                                                                                              if you happend to make a blog/ecommerce store  about sex play and maybe sex toys how you would name it ? My first idea was Whipped - but domain is taken .. www.....com.   \\ni would like something that is not straightforward like 69store or sexer but something mysterious and fun but on point   \\nThank you, Asking for a friend  \n",
       "1                                                                                                                                                                                        The floor is cold like it was that  that night.\\n\\nI had tried to run into the street. \\n\\nYour look of betrayal burned into my sight. \\n\\nI am nothing but a bona-fide creep.\\n\\nAll of our memories now a blight.\\n\\nEvery sunrise is a burden without sleep. That Night 🌙  \n",
       "2  In this factory of memories\\n\\nWe went our ways for a while\\n\\nLike a pencil writes a story\\n\\nMaking words or tracing lines\\n\\nDrawing worlds or coloring skies\\n\\nA whole new life for you and i\\n\\n.\\nEven though sometimes the lead broke\\n\\nWe would just sharpen up our hope\\n\\nUntil that pencil was no more\\n\\nAnd today i can see the end\\n\\nSo I wanted to say my thanks\\n\\n.\\nTo you before the rubber erases\\n\\nThe memories that we lived in. Factory  \n",
       "3                                                                                                                                       I'm panicking I think. Shoving my mouth into my fist. Silly fool slipping backwards for a regressive wish. A false narrative that loops reality in warmth seeking snakes....\\n\\nWriggling with stoic discomfort just for a taste. But I'm tripping into trouble with you. I hope these feelings aren't just waste. delusions?  \n",
       "4                                                                                                                                                                                                                                                                                   “america no longer creates prophets, only profits &amp; we’re all a lot more poor because of it. “ \\n\\n\\n - my brains thoughts in the early hours of the morning Desolate America  "
      ]
     },
     "execution_count": 9,
     "metadata": {},
     "output_type": "execute_result"
    }
   ],
   "source": [
    "combo.head()"
   ]
  },
  {
   "cell_type": "markdown",
   "id": "d8a6eaa1-c0f7-4f1f-9a26-48aa853f865f",
   "metadata": {},
   "source": [
    "## Natural Language Processing Parsing"
   ]
  },
  {
   "cell_type": "code",
   "execution_count": 10,
   "id": "91995b06-304b-4e09-b0c4-198ee329460d",
   "metadata": {},
   "outputs": [],
   "source": [
    "# making list of columns for primary NLP parsing\n",
    "col_combo = ['fulltext']"
   ]
  },
  {
   "cell_type": "markdown",
   "id": "2ba644cd-2e72-4393-a279-9054992f0b52",
   "metadata": {
    "tags": []
   },
   "source": [
    "### Tokenize text data"
   ]
  },
  {
   "cell_type": "code",
   "execution_count": 11,
   "id": "5ef8f5cd-42da-4108-b7a8-7986497d0e5a",
   "metadata": {},
   "outputs": [],
   "source": [
    "# making function to remove whitespace, keep alphabet characters, and lowercase \n",
    "def tokendata(df,col_list):\n",
    "    token = RegexpTokenizer(r'[\\w\\'\\']+')\n",
    "    for j in col_list:\n",
    "        token_items = [token.tokenize(i.lower()) for i in df[j]]\n",
    "        df[f'tokenized_{j}'] = token_items\n",
    "    return df"
   ]
  },
  {
   "cell_type": "code",
   "execution_count": 12,
   "id": "6e5fce01-44a7-47ba-8d31-14c81cfe9138",
   "metadata": {},
   "outputs": [
    {
     "data": {
      "text/html": [
       "<div>\n",
       "<style scoped>\n",
       "    .dataframe tbody tr th:only-of-type {\n",
       "        vertical-align: middle;\n",
       "    }\n",
       "\n",
       "    .dataframe tbody tr th {\n",
       "        vertical-align: top;\n",
       "    }\n",
       "\n",
       "    .dataframe thead th {\n",
       "        text-align: right;\n",
       "    }\n",
       "</style>\n",
       "<table border=\"1\" class=\"dataframe\">\n",
       "  <thead>\n",
       "    <tr style=\"text-align: right;\">\n",
       "      <th></th>\n",
       "      <th>selftext</th>\n",
       "      <th>author</th>\n",
       "      <th>title</th>\n",
       "      <th>subreddit</th>\n",
       "      <th>fulltext</th>\n",
       "      <th>tokenized_fulltext</th>\n",
       "    </tr>\n",
       "  </thead>\n",
       "  <tbody>\n",
       "    <tr>\n",
       "      <th>0</th>\n",
       "      <td>if you happend to make a blog/ecommerce store  about sex play and maybe sex toys how you would name it ? My first idea was Whipped - but domain is taken .. www.....com.   \\ni would like something that is not straightforward like 69store or sexer but something mysterious and fun but on point   \\nThank you,</td>\n",
       "      <td>raygreeen</td>\n",
       "      <td>Asking for a friend</td>\n",
       "      <td>0</td>\n",
       "      <td>if you happend to make a blog/ecommerce store  about sex play and maybe sex toys how you would name it ? My first idea was Whipped - but domain is taken .. www.....com.   \\ni would like something that is not straightforward like 69store or sexer but something mysterious and fun but on point   \\nThank you, Asking for a friend</td>\n",
       "      <td>[if, you, happend, to, make, a, blog, ecommerce, store, about, sex, play, and, maybe, sex, toys, how, you, would, name, it, my, first, idea, was, whipped, but, domain, is, taken, www, com, i, would, like, something, that, is, not, straightforward, like, 69store, or, sexer, but, something, mysterious, and, fun, but, on, point, thank, you, asking, for, a, friend]</td>\n",
       "    </tr>\n",
       "    <tr>\n",
       "      <th>1</th>\n",
       "      <td>The floor is cold like it was that  that night.\\n\\nI had tried to run into the street. \\n\\nYour look of betrayal burned into my sight. \\n\\nI am nothing but a bona-fide creep.\\n\\nAll of our memories now a blight.\\n\\nEvery sunrise is a burden without sleep.</td>\n",
       "      <td>a_deceased_person</td>\n",
       "      <td>That Night 🌙</td>\n",
       "      <td>0</td>\n",
       "      <td>The floor is cold like it was that  that night.\\n\\nI had tried to run into the street. \\n\\nYour look of betrayal burned into my sight. \\n\\nI am nothing but a bona-fide creep.\\n\\nAll of our memories now a blight.\\n\\nEvery sunrise is a burden without sleep. That Night 🌙</td>\n",
       "      <td>[the, floor, is, cold, like, it, was, that, that, night, i, had, tried, to, run, into, the, street, your, look, of, betrayal, burned, into, my, sight, i, am, nothing, but, a, bona, fide, creep, all, of, our, memories, now, a, blight, every, sunrise, is, a, burden, without, sleep, that, night]</td>\n",
       "    </tr>\n",
       "    <tr>\n",
       "      <th>2</th>\n",
       "      <td>In this factory of memories\\n\\nWe went our ways for a while\\n\\nLike a pencil writes a story\\n\\nMaking words or tracing lines\\n\\nDrawing worlds or coloring skies\\n\\nA whole new life for you and i\\n\\n.\\nEven though sometimes the lead broke\\n\\nWe would just sharpen up our hope\\n\\nUntil that pencil was no more\\n\\nAnd today i can see the end\\n\\nSo I wanted to say my thanks\\n\\n.\\nTo you before the rubber erases\\n\\nThe memories that we lived in.</td>\n",
       "      <td>Luxrayguy</td>\n",
       "      <td>Factory</td>\n",
       "      <td>0</td>\n",
       "      <td>In this factory of memories\\n\\nWe went our ways for a while\\n\\nLike a pencil writes a story\\n\\nMaking words or tracing lines\\n\\nDrawing worlds or coloring skies\\n\\nA whole new life for you and i\\n\\n.\\nEven though sometimes the lead broke\\n\\nWe would just sharpen up our hope\\n\\nUntil that pencil was no more\\n\\nAnd today i can see the end\\n\\nSo I wanted to say my thanks\\n\\n.\\nTo you before the rubber erases\\n\\nThe memories that we lived in. Factory</td>\n",
       "      <td>[in, this, factory, of, memories, we, went, our, ways, for, a, while, like, a, pencil, writes, a, story, making, words, or, tracing, lines, drawing, worlds, or, coloring, skies, a, whole, new, life, for, you, and, i, even, though, sometimes, the, lead, broke, we, would, just, sharpen, up, our, hope, until, that, pencil, was, no, more, and, today, i, can, see, the, end, so, i, wanted, to, say, my, thanks, to, you, before, the, rubber, erases, the, memories, that, we, lived, in, factory]</td>\n",
       "    </tr>\n",
       "    <tr>\n",
       "      <th>3</th>\n",
       "      <td>I'm panicking I think. Shoving my mouth into my fist. Silly fool slipping backwards for a regressive wish. A false narrative that loops reality in warmth seeking snakes....\\n\\nWriggling with stoic discomfort just for a taste. But I'm tripping into trouble with you. I hope these feelings aren't just waste.</td>\n",
       "      <td>a_deceased_person</td>\n",
       "      <td>delusions?</td>\n",
       "      <td>0</td>\n",
       "      <td>I'm panicking I think. Shoving my mouth into my fist. Silly fool slipping backwards for a regressive wish. A false narrative that loops reality in warmth seeking snakes....\\n\\nWriggling with stoic discomfort just for a taste. But I'm tripping into trouble with you. I hope these feelings aren't just waste. delusions?</td>\n",
       "      <td>[i'm, panicking, i, think, shoving, my, mouth, into, my, fist, silly, fool, slipping, backwards, for, a, regressive, wish, a, false, narrative, that, loops, reality, in, warmth, seeking, snakes, wriggling, with, stoic, discomfort, just, for, a, taste, but, i'm, tripping, into, trouble, with, you, i, hope, these, feelings, aren't, just, waste, delusions]</td>\n",
       "    </tr>\n",
       "    <tr>\n",
       "      <th>4</th>\n",
       "      <td>“america no longer creates prophets, only profits &amp;amp; we’re all a lot more poor because of it. “ \\n\\n\\n - my brains thoughts in the early hours of the morning</td>\n",
       "      <td>bmodelic</td>\n",
       "      <td>Desolate America</td>\n",
       "      <td>0</td>\n",
       "      <td>“america no longer creates prophets, only profits &amp;amp; we’re all a lot more poor because of it. “ \\n\\n\\n - my brains thoughts in the early hours of the morning Desolate America</td>\n",
       "      <td>[america, no, longer, creates, prophets, only, profits, amp, we, re, all, a, lot, more, poor, because, of, it, my, brains, thoughts, in, the, early, hours, of, the, morning, desolate, america]</td>\n",
       "    </tr>\n",
       "  </tbody>\n",
       "</table>\n",
       "</div>"
      ],
      "text/plain": [
       "                                                                                                                                                                                                                                                                                                                                                                                                                                                     selftext  \\\n",
       "0                                                                                                                                          if you happend to make a blog/ecommerce store  about sex play and maybe sex toys how you would name it ? My first idea was Whipped - but domain is taken .. www.....com.   \\ni would like something that is not straightforward like 69store or sexer but something mysterious and fun but on point   \\nThank you,   \n",
       "1                                                                                                                                                                                             The floor is cold like it was that  that night.\\n\\nI had tried to run into the street. \\n\\nYour look of betrayal burned into my sight. \\n\\nI am nothing but a bona-fide creep.\\n\\nAll of our memories now a blight.\\n\\nEvery sunrise is a burden without sleep.   \n",
       "2  In this factory of memories\\n\\nWe went our ways for a while\\n\\nLike a pencil writes a story\\n\\nMaking words or tracing lines\\n\\nDrawing worlds or coloring skies\\n\\nA whole new life for you and i\\n\\n.\\nEven though sometimes the lead broke\\n\\nWe would just sharpen up our hope\\n\\nUntil that pencil was no more\\n\\nAnd today i can see the end\\n\\nSo I wanted to say my thanks\\n\\n.\\nTo you before the rubber erases\\n\\nThe memories that we lived in.   \n",
       "3                                                                                                                                          I'm panicking I think. Shoving my mouth into my fist. Silly fool slipping backwards for a regressive wish. A false narrative that loops reality in warmth seeking snakes....\\n\\nWriggling with stoic discomfort just for a taste. But I'm tripping into trouble with you. I hope these feelings aren't just waste.   \n",
       "4                                                                                                                                                                                                                                                                                            “america no longer creates prophets, only profits &amp; we’re all a lot more poor because of it. “ \\n\\n\\n - my brains thoughts in the early hours of the morning   \n",
       "\n",
       "              author                title  subreddit  \\\n",
       "0          raygreeen  Asking for a friend          0   \n",
       "1  a_deceased_person         That Night 🌙          0   \n",
       "2          Luxrayguy              Factory          0   \n",
       "3  a_deceased_person           delusions?          0   \n",
       "4           bmodelic     Desolate America          0   \n",
       "\n",
       "                                                                                                                                                                                                                                                                                                                                                                                                                                                             fulltext  \\\n",
       "0                                                                                                                              if you happend to make a blog/ecommerce store  about sex play and maybe sex toys how you would name it ? My first idea was Whipped - but domain is taken .. www.....com.   \\ni would like something that is not straightforward like 69store or sexer but something mysterious and fun but on point   \\nThank you, Asking for a friend   \n",
       "1                                                                                                                                                                                        The floor is cold like it was that  that night.\\n\\nI had tried to run into the street. \\n\\nYour look of betrayal burned into my sight. \\n\\nI am nothing but a bona-fide creep.\\n\\nAll of our memories now a blight.\\n\\nEvery sunrise is a burden without sleep. That Night 🌙   \n",
       "2  In this factory of memories\\n\\nWe went our ways for a while\\n\\nLike a pencil writes a story\\n\\nMaking words or tracing lines\\n\\nDrawing worlds or coloring skies\\n\\nA whole new life for you and i\\n\\n.\\nEven though sometimes the lead broke\\n\\nWe would just sharpen up our hope\\n\\nUntil that pencil was no more\\n\\nAnd today i can see the end\\n\\nSo I wanted to say my thanks\\n\\n.\\nTo you before the rubber erases\\n\\nThe memories that we lived in. Factory   \n",
       "3                                                                                                                                       I'm panicking I think. Shoving my mouth into my fist. Silly fool slipping backwards for a regressive wish. A false narrative that loops reality in warmth seeking snakes....\\n\\nWriggling with stoic discomfort just for a taste. But I'm tripping into trouble with you. I hope these feelings aren't just waste. delusions?   \n",
       "4                                                                                                                                                                                                                                                                                   “america no longer creates prophets, only profits &amp; we’re all a lot more poor because of it. “ \\n\\n\\n - my brains thoughts in the early hours of the morning Desolate America   \n",
       "\n",
       "                                                                                                                                                                                                                                                                                                                                                                                                                                                                                           tokenized_fulltext  \n",
       "0                                                                                                                                 [if, you, happend, to, make, a, blog, ecommerce, store, about, sex, play, and, maybe, sex, toys, how, you, would, name, it, my, first, idea, was, whipped, but, domain, is, taken, www, com, i, would, like, something, that, is, not, straightforward, like, 69store, or, sexer, but, something, mysterious, and, fun, but, on, point, thank, you, asking, for, a, friend]  \n",
       "1                                                                                                                                                                                                       [the, floor, is, cold, like, it, was, that, that, night, i, had, tried, to, run, into, the, street, your, look, of, betrayal, burned, into, my, sight, i, am, nothing, but, a, bona, fide, creep, all, of, our, memories, now, a, blight, every, sunrise, is, a, burden, without, sleep, that, night]  \n",
       "2  [in, this, factory, of, memories, we, went, our, ways, for, a, while, like, a, pencil, writes, a, story, making, words, or, tracing, lines, drawing, worlds, or, coloring, skies, a, whole, new, life, for, you, and, i, even, though, sometimes, the, lead, broke, we, would, just, sharpen, up, our, hope, until, that, pencil, was, no, more, and, today, i, can, see, the, end, so, i, wanted, to, say, my, thanks, to, you, before, the, rubber, erases, the, memories, that, we, lived, in, factory]  \n",
       "3                                                                                                                                         [i'm, panicking, i, think, shoving, my, mouth, into, my, fist, silly, fool, slipping, backwards, for, a, regressive, wish, a, false, narrative, that, loops, reality, in, warmth, seeking, snakes, wriggling, with, stoic, discomfort, just, for, a, taste, but, i'm, tripping, into, trouble, with, you, i, hope, these, feelings, aren't, just, waste, delusions]  \n",
       "4                                                                                                                                                                                                                                                                                                            [america, no, longer, creates, prophets, only, profits, amp, we, re, all, a, lot, more, poor, because, of, it, my, brains, thoughts, in, the, early, hours, of, the, morning, desolate, america]  "
      ]
     },
     "execution_count": 12,
     "metadata": {},
     "output_type": "execute_result"
    }
   ],
   "source": [
    "# tokenize combined dataframes\n",
    "combo = tokendata(combo, col_combo)\n",
    "combo.head()"
   ]
  },
  {
   "cell_type": "markdown",
   "id": "eb83f36a-c5e6-4f62-8977-055630137032",
   "metadata": {
    "tags": []
   },
   "source": [
    "### Lemmatize text data"
   ]
  },
  {
   "cell_type": "code",
   "execution_count": 13,
   "id": "6b675bfd-e8fd-44bd-aef9-010d0235e73f",
   "metadata": {},
   "outputs": [],
   "source": [
    "cols_list=['tokenized_fulltext']"
   ]
  },
  {
   "cell_type": "code",
   "execution_count": 14,
   "id": "0168a04a-e490-46b1-8d96-2356e4e70ec2",
   "metadata": {},
   "outputs": [],
   "source": [
    "def lemmad(words):\n",
    "    lemma=WordNetLemmatizer()\n",
    "    lemmad_row = [lemma.lemmatize(word) for word in words]\n",
    "    return lemmad_row"
   ]
  },
  {
   "cell_type": "code",
   "execution_count": 15,
   "id": "e690d46e-8665-4e70-8a91-6075811818d8",
   "metadata": {},
   "outputs": [],
   "source": [
    "# making function to lemmatize the text data\n",
    "\n",
    "combo['lemmatized_tokenized_fulltext']=combo['tokenized_fulltext'].apply(lemmad)\n",
    "\n"
   ]
  },
  {
   "cell_type": "code",
   "execution_count": 16,
   "id": "37f8c5a4-db4a-4bbf-9cc2-76530e001c54",
   "metadata": {},
   "outputs": [
    {
     "data": {
      "text/html": [
       "<div>\n",
       "<style scoped>\n",
       "    .dataframe tbody tr th:only-of-type {\n",
       "        vertical-align: middle;\n",
       "    }\n",
       "\n",
       "    .dataframe tbody tr th {\n",
       "        vertical-align: top;\n",
       "    }\n",
       "\n",
       "    .dataframe thead th {\n",
       "        text-align: right;\n",
       "    }\n",
       "</style>\n",
       "<table border=\"1\" class=\"dataframe\">\n",
       "  <thead>\n",
       "    <tr style=\"text-align: right;\">\n",
       "      <th></th>\n",
       "      <th>selftext</th>\n",
       "      <th>author</th>\n",
       "      <th>title</th>\n",
       "      <th>subreddit</th>\n",
       "      <th>fulltext</th>\n",
       "      <th>tokenized_fulltext</th>\n",
       "      <th>lemmatized_tokenized_fulltext</th>\n",
       "    </tr>\n",
       "  </thead>\n",
       "  <tbody>\n",
       "    <tr>\n",
       "      <th>0</th>\n",
       "      <td>if you happend to make a blog/ecommerce store  about sex play and maybe sex toys how you would name it ? My first idea was Whipped - but domain is taken .. www.....com.   \\ni would like something that is not straightforward like 69store or sexer but something mysterious and fun but on point   \\nThank you,</td>\n",
       "      <td>raygreeen</td>\n",
       "      <td>Asking for a friend</td>\n",
       "      <td>0</td>\n",
       "      <td>if you happend to make a blog/ecommerce store  about sex play and maybe sex toys how you would name it ? My first idea was Whipped - but domain is taken .. www.....com.   \\ni would like something that is not straightforward like 69store or sexer but something mysterious and fun but on point   \\nThank you, Asking for a friend</td>\n",
       "      <td>[if, you, happend, to, make, a, blog, ecommerce, store, about, sex, play, and, maybe, sex, toys, how, you, would, name, it, my, first, idea, was, whipped, but, domain, is, taken, www, com, i, would, like, something, that, is, not, straightforward, like, 69store, or, sexer, but, something, mysterious, and, fun, but, on, point, thank, you, asking, for, a, friend]</td>\n",
       "      <td>[if, you, happend, to, make, a, blog, ecommerce, store, about, sex, play, and, maybe, sex, toy, how, you, would, name, it, my, first, idea, wa, whipped, but, domain, is, taken, www, com, i, would, like, something, that, is, not, straightforward, like, 69store, or, sexer, but, something, mysterious, and, fun, but, on, point, thank, you, asking, for, a, friend]</td>\n",
       "    </tr>\n",
       "    <tr>\n",
       "      <th>1</th>\n",
       "      <td>The floor is cold like it was that  that night.\\n\\nI had tried to run into the street. \\n\\nYour look of betrayal burned into my sight. \\n\\nI am nothing but a bona-fide creep.\\n\\nAll of our memories now a blight.\\n\\nEvery sunrise is a burden without sleep.</td>\n",
       "      <td>a_deceased_person</td>\n",
       "      <td>That Night 🌙</td>\n",
       "      <td>0</td>\n",
       "      <td>The floor is cold like it was that  that night.\\n\\nI had tried to run into the street. \\n\\nYour look of betrayal burned into my sight. \\n\\nI am nothing but a bona-fide creep.\\n\\nAll of our memories now a blight.\\n\\nEvery sunrise is a burden without sleep. That Night 🌙</td>\n",
       "      <td>[the, floor, is, cold, like, it, was, that, that, night, i, had, tried, to, run, into, the, street, your, look, of, betrayal, burned, into, my, sight, i, am, nothing, but, a, bona, fide, creep, all, of, our, memories, now, a, blight, every, sunrise, is, a, burden, without, sleep, that, night]</td>\n",
       "      <td>[the, floor, is, cold, like, it, wa, that, that, night, i, had, tried, to, run, into, the, street, your, look, of, betrayal, burned, into, my, sight, i, am, nothing, but, a, bona, fide, creep, all, of, our, memory, now, a, blight, every, sunrise, is, a, burden, without, sleep, that, night]</td>\n",
       "    </tr>\n",
       "    <tr>\n",
       "      <th>2</th>\n",
       "      <td>In this factory of memories\\n\\nWe went our ways for a while\\n\\nLike a pencil writes a story\\n\\nMaking words or tracing lines\\n\\nDrawing worlds or coloring skies\\n\\nA whole new life for you and i\\n\\n.\\nEven though sometimes the lead broke\\n\\nWe would just sharpen up our hope\\n\\nUntil that pencil was no more\\n\\nAnd today i can see the end\\n\\nSo I wanted to say my thanks\\n\\n.\\nTo you before the rubber erases\\n\\nThe memories that we lived in.</td>\n",
       "      <td>Luxrayguy</td>\n",
       "      <td>Factory</td>\n",
       "      <td>0</td>\n",
       "      <td>In this factory of memories\\n\\nWe went our ways for a while\\n\\nLike a pencil writes a story\\n\\nMaking words or tracing lines\\n\\nDrawing worlds or coloring skies\\n\\nA whole new life for you and i\\n\\n.\\nEven though sometimes the lead broke\\n\\nWe would just sharpen up our hope\\n\\nUntil that pencil was no more\\n\\nAnd today i can see the end\\n\\nSo I wanted to say my thanks\\n\\n.\\nTo you before the rubber erases\\n\\nThe memories that we lived in. Factory</td>\n",
       "      <td>[in, this, factory, of, memories, we, went, our, ways, for, a, while, like, a, pencil, writes, a, story, making, words, or, tracing, lines, drawing, worlds, or, coloring, skies, a, whole, new, life, for, you, and, i, even, though, sometimes, the, lead, broke, we, would, just, sharpen, up, our, hope, until, that, pencil, was, no, more, and, today, i, can, see, the, end, so, i, wanted, to, say, my, thanks, to, you, before, the, rubber, erases, the, memories, that, we, lived, in, factory]</td>\n",
       "      <td>[in, this, factory, of, memory, we, went, our, way, for, a, while, like, a, pencil, writes, a, story, making, word, or, tracing, line, drawing, world, or, coloring, sky, a, whole, new, life, for, you, and, i, even, though, sometimes, the, lead, broke, we, would, just, sharpen, up, our, hope, until, that, pencil, wa, no, more, and, today, i, can, see, the, end, so, i, wanted, to, say, my, thanks, to, you, before, the, rubber, era, the, memory, that, we, lived, in, factory]</td>\n",
       "    </tr>\n",
       "    <tr>\n",
       "      <th>3</th>\n",
       "      <td>I'm panicking I think. Shoving my mouth into my fist. Silly fool slipping backwards for a regressive wish. A false narrative that loops reality in warmth seeking snakes....\\n\\nWriggling with stoic discomfort just for a taste. But I'm tripping into trouble with you. I hope these feelings aren't just waste.</td>\n",
       "      <td>a_deceased_person</td>\n",
       "      <td>delusions?</td>\n",
       "      <td>0</td>\n",
       "      <td>I'm panicking I think. Shoving my mouth into my fist. Silly fool slipping backwards for a regressive wish. A false narrative that loops reality in warmth seeking snakes....\\n\\nWriggling with stoic discomfort just for a taste. But I'm tripping into trouble with you. I hope these feelings aren't just waste. delusions?</td>\n",
       "      <td>[i'm, panicking, i, think, shoving, my, mouth, into, my, fist, silly, fool, slipping, backwards, for, a, regressive, wish, a, false, narrative, that, loops, reality, in, warmth, seeking, snakes, wriggling, with, stoic, discomfort, just, for, a, taste, but, i'm, tripping, into, trouble, with, you, i, hope, these, feelings, aren't, just, waste, delusions]</td>\n",
       "      <td>[i'm, panicking, i, think, shoving, my, mouth, into, my, fist, silly, fool, slipping, backwards, for, a, regressive, wish, a, false, narrative, that, loop, reality, in, warmth, seeking, snake, wriggling, with, stoic, discomfort, just, for, a, taste, but, i'm, tripping, into, trouble, with, you, i, hope, these, feeling, aren't, just, waste, delusion]</td>\n",
       "    </tr>\n",
       "    <tr>\n",
       "      <th>4</th>\n",
       "      <td>“america no longer creates prophets, only profits &amp;amp; we’re all a lot more poor because of it. “ \\n\\n\\n - my brains thoughts in the early hours of the morning</td>\n",
       "      <td>bmodelic</td>\n",
       "      <td>Desolate America</td>\n",
       "      <td>0</td>\n",
       "      <td>“america no longer creates prophets, only profits &amp;amp; we’re all a lot more poor because of it. “ \\n\\n\\n - my brains thoughts in the early hours of the morning Desolate America</td>\n",
       "      <td>[america, no, longer, creates, prophets, only, profits, amp, we, re, all, a, lot, more, poor, because, of, it, my, brains, thoughts, in, the, early, hours, of, the, morning, desolate, america]</td>\n",
       "      <td>[america, no, longer, creates, prophet, only, profit, amp, we, re, all, a, lot, more, poor, because, of, it, my, brain, thought, in, the, early, hour, of, the, morning, desolate, america]</td>\n",
       "    </tr>\n",
       "  </tbody>\n",
       "</table>\n",
       "</div>"
      ],
      "text/plain": [
       "                                                                                                                                                                                                                                                                                                                                                                                                                                                     selftext  \\\n",
       "0                                                                                                                                          if you happend to make a blog/ecommerce store  about sex play and maybe sex toys how you would name it ? My first idea was Whipped - but domain is taken .. www.....com.   \\ni would like something that is not straightforward like 69store or sexer but something mysterious and fun but on point   \\nThank you,   \n",
       "1                                                                                                                                                                                             The floor is cold like it was that  that night.\\n\\nI had tried to run into the street. \\n\\nYour look of betrayal burned into my sight. \\n\\nI am nothing but a bona-fide creep.\\n\\nAll of our memories now a blight.\\n\\nEvery sunrise is a burden without sleep.   \n",
       "2  In this factory of memories\\n\\nWe went our ways for a while\\n\\nLike a pencil writes a story\\n\\nMaking words or tracing lines\\n\\nDrawing worlds or coloring skies\\n\\nA whole new life for you and i\\n\\n.\\nEven though sometimes the lead broke\\n\\nWe would just sharpen up our hope\\n\\nUntil that pencil was no more\\n\\nAnd today i can see the end\\n\\nSo I wanted to say my thanks\\n\\n.\\nTo you before the rubber erases\\n\\nThe memories that we lived in.   \n",
       "3                                                                                                                                          I'm panicking I think. Shoving my mouth into my fist. Silly fool slipping backwards for a regressive wish. A false narrative that loops reality in warmth seeking snakes....\\n\\nWriggling with stoic discomfort just for a taste. But I'm tripping into trouble with you. I hope these feelings aren't just waste.   \n",
       "4                                                                                                                                                                                                                                                                                            “america no longer creates prophets, only profits &amp; we’re all a lot more poor because of it. “ \\n\\n\\n - my brains thoughts in the early hours of the morning   \n",
       "\n",
       "              author                title  subreddit  \\\n",
       "0          raygreeen  Asking for a friend          0   \n",
       "1  a_deceased_person         That Night 🌙          0   \n",
       "2          Luxrayguy              Factory          0   \n",
       "3  a_deceased_person           delusions?          0   \n",
       "4           bmodelic     Desolate America          0   \n",
       "\n",
       "                                                                                                                                                                                                                                                                                                                                                                                                                                                             fulltext  \\\n",
       "0                                                                                                                              if you happend to make a blog/ecommerce store  about sex play and maybe sex toys how you would name it ? My first idea was Whipped - but domain is taken .. www.....com.   \\ni would like something that is not straightforward like 69store or sexer but something mysterious and fun but on point   \\nThank you, Asking for a friend   \n",
       "1                                                                                                                                                                                        The floor is cold like it was that  that night.\\n\\nI had tried to run into the street. \\n\\nYour look of betrayal burned into my sight. \\n\\nI am nothing but a bona-fide creep.\\n\\nAll of our memories now a blight.\\n\\nEvery sunrise is a burden without sleep. That Night 🌙   \n",
       "2  In this factory of memories\\n\\nWe went our ways for a while\\n\\nLike a pencil writes a story\\n\\nMaking words or tracing lines\\n\\nDrawing worlds or coloring skies\\n\\nA whole new life for you and i\\n\\n.\\nEven though sometimes the lead broke\\n\\nWe would just sharpen up our hope\\n\\nUntil that pencil was no more\\n\\nAnd today i can see the end\\n\\nSo I wanted to say my thanks\\n\\n.\\nTo you before the rubber erases\\n\\nThe memories that we lived in. Factory   \n",
       "3                                                                                                                                       I'm panicking I think. Shoving my mouth into my fist. Silly fool slipping backwards for a regressive wish. A false narrative that loops reality in warmth seeking snakes....\\n\\nWriggling with stoic discomfort just for a taste. But I'm tripping into trouble with you. I hope these feelings aren't just waste. delusions?   \n",
       "4                                                                                                                                                                                                                                                                                   “america no longer creates prophets, only profits &amp; we’re all a lot more poor because of it. “ \\n\\n\\n - my brains thoughts in the early hours of the morning Desolate America   \n",
       "\n",
       "                                                                                                                                                                                                                                                                                                                                                                                                                                                                                           tokenized_fulltext  \\\n",
       "0                                                                                                                                 [if, you, happend, to, make, a, blog, ecommerce, store, about, sex, play, and, maybe, sex, toys, how, you, would, name, it, my, first, idea, was, whipped, but, domain, is, taken, www, com, i, would, like, something, that, is, not, straightforward, like, 69store, or, sexer, but, something, mysterious, and, fun, but, on, point, thank, you, asking, for, a, friend]   \n",
       "1                                                                                                                                                                                                       [the, floor, is, cold, like, it, was, that, that, night, i, had, tried, to, run, into, the, street, your, look, of, betrayal, burned, into, my, sight, i, am, nothing, but, a, bona, fide, creep, all, of, our, memories, now, a, blight, every, sunrise, is, a, burden, without, sleep, that, night]   \n",
       "2  [in, this, factory, of, memories, we, went, our, ways, for, a, while, like, a, pencil, writes, a, story, making, words, or, tracing, lines, drawing, worlds, or, coloring, skies, a, whole, new, life, for, you, and, i, even, though, sometimes, the, lead, broke, we, would, just, sharpen, up, our, hope, until, that, pencil, was, no, more, and, today, i, can, see, the, end, so, i, wanted, to, say, my, thanks, to, you, before, the, rubber, erases, the, memories, that, we, lived, in, factory]   \n",
       "3                                                                                                                                         [i'm, panicking, i, think, shoving, my, mouth, into, my, fist, silly, fool, slipping, backwards, for, a, regressive, wish, a, false, narrative, that, loops, reality, in, warmth, seeking, snakes, wriggling, with, stoic, discomfort, just, for, a, taste, but, i'm, tripping, into, trouble, with, you, i, hope, these, feelings, aren't, just, waste, delusions]   \n",
       "4                                                                                                                                                                                                                                                                                                            [america, no, longer, creates, prophets, only, profits, amp, we, re, all, a, lot, more, poor, because, of, it, my, brains, thoughts, in, the, early, hours, of, the, morning, desolate, america]   \n",
       "\n",
       "                                                                                                                                                                                                                                                                                                                                                                                                                                                                  lemmatized_tokenized_fulltext  \n",
       "0                                                                                                                     [if, you, happend, to, make, a, blog, ecommerce, store, about, sex, play, and, maybe, sex, toy, how, you, would, name, it, my, first, idea, wa, whipped, but, domain, is, taken, www, com, i, would, like, something, that, is, not, straightforward, like, 69store, or, sexer, but, something, mysterious, and, fun, but, on, point, thank, you, asking, for, a, friend]  \n",
       "1                                                                                                                                                                                            [the, floor, is, cold, like, it, wa, that, that, night, i, had, tried, to, run, into, the, street, your, look, of, betrayal, burned, into, my, sight, i, am, nothing, but, a, bona, fide, creep, all, of, our, memory, now, a, blight, every, sunrise, is, a, burden, without, sleep, that, night]  \n",
       "2  [in, this, factory, of, memory, we, went, our, way, for, a, while, like, a, pencil, writes, a, story, making, word, or, tracing, line, drawing, world, or, coloring, sky, a, whole, new, life, for, you, and, i, even, though, sometimes, the, lead, broke, we, would, just, sharpen, up, our, hope, until, that, pencil, wa, no, more, and, today, i, can, see, the, end, so, i, wanted, to, say, my, thanks, to, you, before, the, rubber, era, the, memory, that, we, lived, in, factory]  \n",
       "3                                                                                                                               [i'm, panicking, i, think, shoving, my, mouth, into, my, fist, silly, fool, slipping, backwards, for, a, regressive, wish, a, false, narrative, that, loop, reality, in, warmth, seeking, snake, wriggling, with, stoic, discomfort, just, for, a, taste, but, i'm, tripping, into, trouble, with, you, i, hope, these, feeling, aren't, just, waste, delusion]  \n",
       "4                                                                                                                                                                                                                                                                                                   [america, no, longer, creates, prophet, only, profit, amp, we, re, all, a, lot, more, poor, because, of, it, my, brain, thought, in, the, early, hour, of, the, morning, desolate, america]  "
      ]
     },
     "execution_count": 16,
     "metadata": {},
     "output_type": "execute_result"
    }
   ],
   "source": [
    "combo.head()"
   ]
  },
  {
   "cell_type": "markdown",
   "id": "2e699fef-c8dd-437a-bc3c-942108f159fd",
   "metadata": {
    "tags": []
   },
   "source": [
    "### Stemmatize text data"
   ]
  },
  {
   "cell_type": "code",
   "execution_count": 17,
   "id": "d4db46ab-7ad1-43d7-8c80-6113b3b2e1f5",
   "metadata": {},
   "outputs": [],
   "source": [
    "# making list of tockenized columns to stemmatize later\n",
    "cols_list=['lemmatize_tokenized_fulltext']"
   ]
  },
  {
   "cell_type": "code",
   "execution_count": 18,
   "id": "15059d4f-75b1-408e-925b-fc550f74ba4e",
   "metadata": {},
   "outputs": [],
   "source": [
    "\n",
    "def stemmad(words):\n",
    "    stemma=PorterStemmer()\n",
    "    stemmad_row = [stemma.stem(word) for word in words]\n",
    "    return stemmad_row"
   ]
  },
  {
   "cell_type": "code",
   "execution_count": 19,
   "id": "ff6f528d-a777-4dc5-aa42-3addcf2a0f0e",
   "metadata": {},
   "outputs": [],
   "source": [
    "# making function to stemmatize the text data\n",
    "combo['stemmatized_lemmatized_tokenized_fulltext']=combo['lemmatized_tokenized_fulltext'].apply(stemmad)\n",
    "\n"
   ]
  },
  {
   "cell_type": "code",
   "execution_count": 20,
   "id": "9232559d-2c5a-4577-b694-498aeb425830",
   "metadata": {},
   "outputs": [
    {
     "data": {
      "text/html": [
       "<div>\n",
       "<style scoped>\n",
       "    .dataframe tbody tr th:only-of-type {\n",
       "        vertical-align: middle;\n",
       "    }\n",
       "\n",
       "    .dataframe tbody tr th {\n",
       "        vertical-align: top;\n",
       "    }\n",
       "\n",
       "    .dataframe thead th {\n",
       "        text-align: right;\n",
       "    }\n",
       "</style>\n",
       "<table border=\"1\" class=\"dataframe\">\n",
       "  <thead>\n",
       "    <tr style=\"text-align: right;\">\n",
       "      <th></th>\n",
       "      <th>selftext</th>\n",
       "      <th>author</th>\n",
       "      <th>title</th>\n",
       "      <th>subreddit</th>\n",
       "      <th>fulltext</th>\n",
       "      <th>tokenized_fulltext</th>\n",
       "      <th>lemmatized_tokenized_fulltext</th>\n",
       "      <th>stemmatized_lemmatized_tokenized_fulltext</th>\n",
       "    </tr>\n",
       "  </thead>\n",
       "  <tbody>\n",
       "    <tr>\n",
       "      <th>0</th>\n",
       "      <td>if you happend to make a blog/ecommerce store  about sex play and maybe sex toys how you would name it ? My first idea was Whipped - but domain is taken .. www.....com.   \\ni would like something that is not straightforward like 69store or sexer but something mysterious and fun but on point   \\nThank you,</td>\n",
       "      <td>raygreeen</td>\n",
       "      <td>Asking for a friend</td>\n",
       "      <td>0</td>\n",
       "      <td>if you happend to make a blog/ecommerce store  about sex play and maybe sex toys how you would name it ? My first idea was Whipped - but domain is taken .. www.....com.   \\ni would like something that is not straightforward like 69store or sexer but something mysterious and fun but on point   \\nThank you, Asking for a friend</td>\n",
       "      <td>[if, you, happend, to, make, a, blog, ecommerce, store, about, sex, play, and, maybe, sex, toys, how, you, would, name, it, my, first, idea, was, whipped, but, domain, is, taken, www, com, i, would, like, something, that, is, not, straightforward, like, 69store, or, sexer, but, something, mysterious, and, fun, but, on, point, thank, you, asking, for, a, friend]</td>\n",
       "      <td>[if, you, happend, to, make, a, blog, ecommerce, store, about, sex, play, and, maybe, sex, toy, how, you, would, name, it, my, first, idea, wa, whipped, but, domain, is, taken, www, com, i, would, like, something, that, is, not, straightforward, like, 69store, or, sexer, but, something, mysterious, and, fun, but, on, point, thank, you, asking, for, a, friend]</td>\n",
       "      <td>[if, you, happend, to, make, a, blog, ecommerc, store, about, sex, play, and, mayb, sex, toy, how, you, would, name, it, my, first, idea, wa, whip, but, domain, is, taken, www, com, i, would, like, someth, that, is, not, straightforward, like, 69store, or, sexer, but, someth, mysteri, and, fun, but, on, point, thank, you, ask, for, a, friend]</td>\n",
       "    </tr>\n",
       "    <tr>\n",
       "      <th>1</th>\n",
       "      <td>The floor is cold like it was that  that night.\\n\\nI had tried to run into the street. \\n\\nYour look of betrayal burned into my sight. \\n\\nI am nothing but a bona-fide creep.\\n\\nAll of our memories now a blight.\\n\\nEvery sunrise is a burden without sleep.</td>\n",
       "      <td>a_deceased_person</td>\n",
       "      <td>That Night 🌙</td>\n",
       "      <td>0</td>\n",
       "      <td>The floor is cold like it was that  that night.\\n\\nI had tried to run into the street. \\n\\nYour look of betrayal burned into my sight. \\n\\nI am nothing but a bona-fide creep.\\n\\nAll of our memories now a blight.\\n\\nEvery sunrise is a burden without sleep. That Night 🌙</td>\n",
       "      <td>[the, floor, is, cold, like, it, was, that, that, night, i, had, tried, to, run, into, the, street, your, look, of, betrayal, burned, into, my, sight, i, am, nothing, but, a, bona, fide, creep, all, of, our, memories, now, a, blight, every, sunrise, is, a, burden, without, sleep, that, night]</td>\n",
       "      <td>[the, floor, is, cold, like, it, wa, that, that, night, i, had, tried, to, run, into, the, street, your, look, of, betrayal, burned, into, my, sight, i, am, nothing, but, a, bona, fide, creep, all, of, our, memory, now, a, blight, every, sunrise, is, a, burden, without, sleep, that, night]</td>\n",
       "      <td>[the, floor, is, cold, like, it, wa, that, that, night, i, had, tri, to, run, into, the, street, your, look, of, betray, burn, into, my, sight, i, am, noth, but, a, bona, fide, creep, all, of, our, memori, now, a, blight, everi, sunris, is, a, burden, without, sleep, that, night]</td>\n",
       "    </tr>\n",
       "    <tr>\n",
       "      <th>2</th>\n",
       "      <td>In this factory of memories\\n\\nWe went our ways for a while\\n\\nLike a pencil writes a story\\n\\nMaking words or tracing lines\\n\\nDrawing worlds or coloring skies\\n\\nA whole new life for you and i\\n\\n.\\nEven though sometimes the lead broke\\n\\nWe would just sharpen up our hope\\n\\nUntil that pencil was no more\\n\\nAnd today i can see the end\\n\\nSo I wanted to say my thanks\\n\\n.\\nTo you before the rubber erases\\n\\nThe memories that we lived in.</td>\n",
       "      <td>Luxrayguy</td>\n",
       "      <td>Factory</td>\n",
       "      <td>0</td>\n",
       "      <td>In this factory of memories\\n\\nWe went our ways for a while\\n\\nLike a pencil writes a story\\n\\nMaking words or tracing lines\\n\\nDrawing worlds or coloring skies\\n\\nA whole new life for you and i\\n\\n.\\nEven though sometimes the lead broke\\n\\nWe would just sharpen up our hope\\n\\nUntil that pencil was no more\\n\\nAnd today i can see the end\\n\\nSo I wanted to say my thanks\\n\\n.\\nTo you before the rubber erases\\n\\nThe memories that we lived in. Factory</td>\n",
       "      <td>[in, this, factory, of, memories, we, went, our, ways, for, a, while, like, a, pencil, writes, a, story, making, words, or, tracing, lines, drawing, worlds, or, coloring, skies, a, whole, new, life, for, you, and, i, even, though, sometimes, the, lead, broke, we, would, just, sharpen, up, our, hope, until, that, pencil, was, no, more, and, today, i, can, see, the, end, so, i, wanted, to, say, my, thanks, to, you, before, the, rubber, erases, the, memories, that, we, lived, in, factory]</td>\n",
       "      <td>[in, this, factory, of, memory, we, went, our, way, for, a, while, like, a, pencil, writes, a, story, making, word, or, tracing, line, drawing, world, or, coloring, sky, a, whole, new, life, for, you, and, i, even, though, sometimes, the, lead, broke, we, would, just, sharpen, up, our, hope, until, that, pencil, wa, no, more, and, today, i, can, see, the, end, so, i, wanted, to, say, my, thanks, to, you, before, the, rubber, era, the, memory, that, we, lived, in, factory]</td>\n",
       "      <td>[in, thi, factori, of, memori, we, went, our, way, for, a, while, like, a, pencil, write, a, stori, make, word, or, trace, line, draw, world, or, color, sky, a, whole, new, life, for, you, and, i, even, though, sometim, the, lead, broke, we, would, just, sharpen, up, our, hope, until, that, pencil, wa, no, more, and, today, i, can, see, the, end, so, i, want, to, say, my, thank, to, you, befor, the, rubber, era, the, memori, that, we, live, in, factori]</td>\n",
       "    </tr>\n",
       "    <tr>\n",
       "      <th>3</th>\n",
       "      <td>I'm panicking I think. Shoving my mouth into my fist. Silly fool slipping backwards for a regressive wish. A false narrative that loops reality in warmth seeking snakes....\\n\\nWriggling with stoic discomfort just for a taste. But I'm tripping into trouble with you. I hope these feelings aren't just waste.</td>\n",
       "      <td>a_deceased_person</td>\n",
       "      <td>delusions?</td>\n",
       "      <td>0</td>\n",
       "      <td>I'm panicking I think. Shoving my mouth into my fist. Silly fool slipping backwards for a regressive wish. A false narrative that loops reality in warmth seeking snakes....\\n\\nWriggling with stoic discomfort just for a taste. But I'm tripping into trouble with you. I hope these feelings aren't just waste. delusions?</td>\n",
       "      <td>[i'm, panicking, i, think, shoving, my, mouth, into, my, fist, silly, fool, slipping, backwards, for, a, regressive, wish, a, false, narrative, that, loops, reality, in, warmth, seeking, snakes, wriggling, with, stoic, discomfort, just, for, a, taste, but, i'm, tripping, into, trouble, with, you, i, hope, these, feelings, aren't, just, waste, delusions]</td>\n",
       "      <td>[i'm, panicking, i, think, shoving, my, mouth, into, my, fist, silly, fool, slipping, backwards, for, a, regressive, wish, a, false, narrative, that, loop, reality, in, warmth, seeking, snake, wriggling, with, stoic, discomfort, just, for, a, taste, but, i'm, tripping, into, trouble, with, you, i, hope, these, feeling, aren't, just, waste, delusion]</td>\n",
       "      <td>[i'm, panick, i, think, shove, my, mouth, into, my, fist, silli, fool, slip, backward, for, a, regress, wish, a, fals, narr, that, loop, realiti, in, warmth, seek, snake, wriggl, with, stoic, discomfort, just, for, a, tast, but, i'm, trip, into, troubl, with, you, i, hope, these, feel, aren't, just, wast, delus]</td>\n",
       "    </tr>\n",
       "    <tr>\n",
       "      <th>4</th>\n",
       "      <td>“america no longer creates prophets, only profits &amp;amp; we’re all a lot more poor because of it. “ \\n\\n\\n - my brains thoughts in the early hours of the morning</td>\n",
       "      <td>bmodelic</td>\n",
       "      <td>Desolate America</td>\n",
       "      <td>0</td>\n",
       "      <td>“america no longer creates prophets, only profits &amp;amp; we’re all a lot more poor because of it. “ \\n\\n\\n - my brains thoughts in the early hours of the morning Desolate America</td>\n",
       "      <td>[america, no, longer, creates, prophets, only, profits, amp, we, re, all, a, lot, more, poor, because, of, it, my, brains, thoughts, in, the, early, hours, of, the, morning, desolate, america]</td>\n",
       "      <td>[america, no, longer, creates, prophet, only, profit, amp, we, re, all, a, lot, more, poor, because, of, it, my, brain, thought, in, the, early, hour, of, the, morning, desolate, america]</td>\n",
       "      <td>[america, no, longer, creat, prophet, onli, profit, amp, we, re, all, a, lot, more, poor, becaus, of, it, my, brain, thought, in, the, earli, hour, of, the, morn, desol, america]</td>\n",
       "    </tr>\n",
       "  </tbody>\n",
       "</table>\n",
       "</div>"
      ],
      "text/plain": [
       "                                                                                                                                                                                                                                                                                                                                                                                                                                                     selftext  \\\n",
       "0                                                                                                                                          if you happend to make a blog/ecommerce store  about sex play and maybe sex toys how you would name it ? My first idea was Whipped - but domain is taken .. www.....com.   \\ni would like something that is not straightforward like 69store or sexer but something mysterious and fun but on point   \\nThank you,   \n",
       "1                                                                                                                                                                                             The floor is cold like it was that  that night.\\n\\nI had tried to run into the street. \\n\\nYour look of betrayal burned into my sight. \\n\\nI am nothing but a bona-fide creep.\\n\\nAll of our memories now a blight.\\n\\nEvery sunrise is a burden without sleep.   \n",
       "2  In this factory of memories\\n\\nWe went our ways for a while\\n\\nLike a pencil writes a story\\n\\nMaking words or tracing lines\\n\\nDrawing worlds or coloring skies\\n\\nA whole new life for you and i\\n\\n.\\nEven though sometimes the lead broke\\n\\nWe would just sharpen up our hope\\n\\nUntil that pencil was no more\\n\\nAnd today i can see the end\\n\\nSo I wanted to say my thanks\\n\\n.\\nTo you before the rubber erases\\n\\nThe memories that we lived in.   \n",
       "3                                                                                                                                          I'm panicking I think. Shoving my mouth into my fist. Silly fool slipping backwards for a regressive wish. A false narrative that loops reality in warmth seeking snakes....\\n\\nWriggling with stoic discomfort just for a taste. But I'm tripping into trouble with you. I hope these feelings aren't just waste.   \n",
       "4                                                                                                                                                                                                                                                                                            “america no longer creates prophets, only profits &amp; we’re all a lot more poor because of it. “ \\n\\n\\n - my brains thoughts in the early hours of the morning   \n",
       "\n",
       "              author                title  subreddit  \\\n",
       "0          raygreeen  Asking for a friend          0   \n",
       "1  a_deceased_person         That Night 🌙          0   \n",
       "2          Luxrayguy              Factory          0   \n",
       "3  a_deceased_person           delusions?          0   \n",
       "4           bmodelic     Desolate America          0   \n",
       "\n",
       "                                                                                                                                                                                                                                                                                                                                                                                                                                                             fulltext  \\\n",
       "0                                                                                                                              if you happend to make a blog/ecommerce store  about sex play and maybe sex toys how you would name it ? My first idea was Whipped - but domain is taken .. www.....com.   \\ni would like something that is not straightforward like 69store or sexer but something mysterious and fun but on point   \\nThank you, Asking for a friend   \n",
       "1                                                                                                                                                                                        The floor is cold like it was that  that night.\\n\\nI had tried to run into the street. \\n\\nYour look of betrayal burned into my sight. \\n\\nI am nothing but a bona-fide creep.\\n\\nAll of our memories now a blight.\\n\\nEvery sunrise is a burden without sleep. That Night 🌙   \n",
       "2  In this factory of memories\\n\\nWe went our ways for a while\\n\\nLike a pencil writes a story\\n\\nMaking words or tracing lines\\n\\nDrawing worlds or coloring skies\\n\\nA whole new life for you and i\\n\\n.\\nEven though sometimes the lead broke\\n\\nWe would just sharpen up our hope\\n\\nUntil that pencil was no more\\n\\nAnd today i can see the end\\n\\nSo I wanted to say my thanks\\n\\n.\\nTo you before the rubber erases\\n\\nThe memories that we lived in. Factory   \n",
       "3                                                                                                                                       I'm panicking I think. Shoving my mouth into my fist. Silly fool slipping backwards for a regressive wish. A false narrative that loops reality in warmth seeking snakes....\\n\\nWriggling with stoic discomfort just for a taste. But I'm tripping into trouble with you. I hope these feelings aren't just waste. delusions?   \n",
       "4                                                                                                                                                                                                                                                                                   “america no longer creates prophets, only profits &amp; we’re all a lot more poor because of it. “ \\n\\n\\n - my brains thoughts in the early hours of the morning Desolate America   \n",
       "\n",
       "                                                                                                                                                                                                                                                                                                                                                                                                                                                                                           tokenized_fulltext  \\\n",
       "0                                                                                                                                 [if, you, happend, to, make, a, blog, ecommerce, store, about, sex, play, and, maybe, sex, toys, how, you, would, name, it, my, first, idea, was, whipped, but, domain, is, taken, www, com, i, would, like, something, that, is, not, straightforward, like, 69store, or, sexer, but, something, mysterious, and, fun, but, on, point, thank, you, asking, for, a, friend]   \n",
       "1                                                                                                                                                                                                       [the, floor, is, cold, like, it, was, that, that, night, i, had, tried, to, run, into, the, street, your, look, of, betrayal, burned, into, my, sight, i, am, nothing, but, a, bona, fide, creep, all, of, our, memories, now, a, blight, every, sunrise, is, a, burden, without, sleep, that, night]   \n",
       "2  [in, this, factory, of, memories, we, went, our, ways, for, a, while, like, a, pencil, writes, a, story, making, words, or, tracing, lines, drawing, worlds, or, coloring, skies, a, whole, new, life, for, you, and, i, even, though, sometimes, the, lead, broke, we, would, just, sharpen, up, our, hope, until, that, pencil, was, no, more, and, today, i, can, see, the, end, so, i, wanted, to, say, my, thanks, to, you, before, the, rubber, erases, the, memories, that, we, lived, in, factory]   \n",
       "3                                                                                                                                         [i'm, panicking, i, think, shoving, my, mouth, into, my, fist, silly, fool, slipping, backwards, for, a, regressive, wish, a, false, narrative, that, loops, reality, in, warmth, seeking, snakes, wriggling, with, stoic, discomfort, just, for, a, taste, but, i'm, tripping, into, trouble, with, you, i, hope, these, feelings, aren't, just, waste, delusions]   \n",
       "4                                                                                                                                                                                                                                                                                                            [america, no, longer, creates, prophets, only, profits, amp, we, re, all, a, lot, more, poor, because, of, it, my, brains, thoughts, in, the, early, hours, of, the, morning, desolate, america]   \n",
       "\n",
       "                                                                                                                                                                                                                                                                                                                                                                                                                                                                  lemmatized_tokenized_fulltext  \\\n",
       "0                                                                                                                     [if, you, happend, to, make, a, blog, ecommerce, store, about, sex, play, and, maybe, sex, toy, how, you, would, name, it, my, first, idea, wa, whipped, but, domain, is, taken, www, com, i, would, like, something, that, is, not, straightforward, like, 69store, or, sexer, but, something, mysterious, and, fun, but, on, point, thank, you, asking, for, a, friend]   \n",
       "1                                                                                                                                                                                            [the, floor, is, cold, like, it, wa, that, that, night, i, had, tried, to, run, into, the, street, your, look, of, betrayal, burned, into, my, sight, i, am, nothing, but, a, bona, fide, creep, all, of, our, memory, now, a, blight, every, sunrise, is, a, burden, without, sleep, that, night]   \n",
       "2  [in, this, factory, of, memory, we, went, our, way, for, a, while, like, a, pencil, writes, a, story, making, word, or, tracing, line, drawing, world, or, coloring, sky, a, whole, new, life, for, you, and, i, even, though, sometimes, the, lead, broke, we, would, just, sharpen, up, our, hope, until, that, pencil, wa, no, more, and, today, i, can, see, the, end, so, i, wanted, to, say, my, thanks, to, you, before, the, rubber, era, the, memory, that, we, lived, in, factory]   \n",
       "3                                                                                                                               [i'm, panicking, i, think, shoving, my, mouth, into, my, fist, silly, fool, slipping, backwards, for, a, regressive, wish, a, false, narrative, that, loop, reality, in, warmth, seeking, snake, wriggling, with, stoic, discomfort, just, for, a, taste, but, i'm, tripping, into, trouble, with, you, i, hope, these, feeling, aren't, just, waste, delusion]   \n",
       "4                                                                                                                                                                                                                                                                                                   [america, no, longer, creates, prophet, only, profit, amp, we, re, all, a, lot, more, poor, because, of, it, my, brain, thought, in, the, early, hour, of, the, morning, desolate, america]   \n",
       "\n",
       "                                                                                                                                                                                                                                                                                                                                                                                                                                   stemmatized_lemmatized_tokenized_fulltext  \n",
       "0                                                                                                                   [if, you, happend, to, make, a, blog, ecommerc, store, about, sex, play, and, mayb, sex, toy, how, you, would, name, it, my, first, idea, wa, whip, but, domain, is, taken, www, com, i, would, like, someth, that, is, not, straightforward, like, 69store, or, sexer, but, someth, mysteri, and, fun, but, on, point, thank, you, ask, for, a, friend]  \n",
       "1                                                                                                                                                                                   [the, floor, is, cold, like, it, wa, that, that, night, i, had, tri, to, run, into, the, street, your, look, of, betray, burn, into, my, sight, i, am, noth, but, a, bona, fide, creep, all, of, our, memori, now, a, blight, everi, sunris, is, a, burden, without, sleep, that, night]  \n",
       "2  [in, thi, factori, of, memori, we, went, our, way, for, a, while, like, a, pencil, write, a, stori, make, word, or, trace, line, draw, world, or, color, sky, a, whole, new, life, for, you, and, i, even, though, sometim, the, lead, broke, we, would, just, sharpen, up, our, hope, until, that, pencil, wa, no, more, and, today, i, can, see, the, end, so, i, want, to, say, my, thank, to, you, befor, the, rubber, era, the, memori, that, we, live, in, factori]  \n",
       "3                                                                                                                                                  [i'm, panick, i, think, shove, my, mouth, into, my, fist, silli, fool, slip, backward, for, a, regress, wish, a, fals, narr, that, loop, realiti, in, warmth, seek, snake, wriggl, with, stoic, discomfort, just, for, a, tast, but, i'm, trip, into, troubl, with, you, i, hope, these, feel, aren't, just, wast, delus]  \n",
       "4                                                                                                                                                                                                                                                                                         [america, no, longer, creat, prophet, onli, profit, amp, we, re, all, a, lot, more, poor, becaus, of, it, my, brain, thought, in, the, earli, hour, of, the, morn, desol, america]  "
      ]
     },
     "execution_count": 20,
     "metadata": {},
     "output_type": "execute_result"
    }
   ],
   "source": [
    "combo.head()"
   ]
  },
  {
   "cell_type": "markdown",
   "id": "17bfed28-71c1-46bc-ae60-12ef96633cda",
   "metadata": {},
   "source": [
    "# EDA"
   ]
  },
  {
   "cell_type": "code",
   "execution_count": 21,
   "id": "d2b0d31f-ac0e-41e9-a116-a49226205dbc",
   "metadata": {},
   "outputs": [],
   "source": [
    "combo1=combo.copy()"
   ]
  },
  {
   "cell_type": "code",
   "execution_count": 22,
   "id": "21cbe5f8-ea03-4c97-9090-6ff82a113b27",
   "metadata": {},
   "outputs": [],
   "source": [
    "combo1['length']=[len(x) for x in combo1['stemmatized_lemmatized_tokenized_fulltext']]"
   ]
  },
  {
   "cell_type": "code",
   "execution_count": 27,
   "id": "f2068940-64d0-49f3-93da-543ae1cf3d46",
   "metadata": {},
   "outputs": [
    {
     "data": {
      "image/png": "[encoded data removed]",
      "text/plain": [
       "<Figure size 432x288 with 1 Axes>"
      ]
     },
     "metadata": {
      "needs_background": "light"
     },
     "output_type": "display_data"
    }
   ],
   "source": [
    "plt.hist(combo1['length'], bins=200)\n",
    "plt.xlabel('Average Number of Words Per Text Post')\n",
    "plt.ylabel('Count')\n",
    "plt.title('Distribution of Word Count per Text Post')\n",
    "plt.xlim(0,5000)\n",
    "plt.ylim(0, 1700);\n",
    "plt.savefig('wordcountdistribution')"
   ]
  },
  {
   "cell_type": "markdown",
   "id": "6d8c96db-a8f8-4095-b98a-bd1351631a71",
   "metadata": {},
   "source": [
    "n. This figure represents the distribution of word count per text post"
   ]
  },
  {
   "cell_type": "code",
   "execution_count": 24,
   "id": "2cb06799-8d12-4e55-a328-9bea0d2b17c3",
   "metadata": {},
   "outputs": [],
   "source": [
    "combo['stemmatized_lemmatized_tokenized_fulltext'] = [' '.join(l) for l in combo['stemmatized_lemmatized_tokenized_fulltext']]"
   ]
  },
  {
   "cell_type": "code",
   "execution_count": 25,
   "id": "4897d05e-abca-4397-a59e-25472e45989f",
   "metadata": {},
   "outputs": [
    {
     "data": {
      "text/html": [
       "<div>\n",
       "<style scoped>\n",
       "    .dataframe tbody tr th:only-of-type {\n",
       "        vertical-align: middle;\n",
       "    }\n",
       "\n",
       "    .dataframe tbody tr th {\n",
       "        vertical-align: top;\n",
       "    }\n",
       "\n",
       "    .dataframe thead th {\n",
       "        text-align: right;\n",
       "    }\n",
       "</style>\n",
       "<table border=\"1\" class=\"dataframe\">\n",
       "  <thead>\n",
       "    <tr style=\"text-align: right;\">\n",
       "      <th></th>\n",
       "      <th>selftext</th>\n",
       "      <th>author</th>\n",
       "      <th>title</th>\n",
       "      <th>subreddit</th>\n",
       "      <th>fulltext</th>\n",
       "      <th>tokenized_fulltext</th>\n",
       "      <th>lemmatized_tokenized_fulltext</th>\n",
       "      <th>stemmatized_lemmatized_tokenized_fulltext</th>\n",
       "    </tr>\n",
       "  </thead>\n",
       "  <tbody>\n",
       "    <tr>\n",
       "      <th>0</th>\n",
       "      <td>if you happend to make a blog/ecommerce store  about sex play and maybe sex toys how you would name it ? My first idea was Whipped - but domain is taken .. www.....com.   \\ni would like something that is not straightforward like 69store or sexer but something mysterious and fun but on point   \\nThank you,</td>\n",
       "      <td>raygreeen</td>\n",
       "      <td>Asking for a friend</td>\n",
       "      <td>0</td>\n",
       "      <td>if you happend to make a blog/ecommerce store  about sex play and maybe sex toys how you would name it ? My first idea was Whipped - but domain is taken .. www.....com.   \\ni would like something that is not straightforward like 69store or sexer but something mysterious and fun but on point   \\nThank you, Asking for a friend</td>\n",
       "      <td>[if, you, happend, to, make, a, blog, ecommerce, store, about, sex, play, and, maybe, sex, toys, how, you, would, name, it, my, first, idea, was, whipped, but, domain, is, taken, www, com, i, would, like, something, that, is, not, straightforward, like, 69store, or, sexer, but, something, mysterious, and, fun, but, on, point, thank, you, asking, for, a, friend]</td>\n",
       "      <td>[if, you, happend, to, make, a, blog, ecommerce, store, about, sex, play, and, maybe, sex, toy, how, you, would, name, it, my, first, idea, wa, whipped, but, domain, is, taken, www, com, i, would, like, something, that, is, not, straightforward, like, 69store, or, sexer, but, something, mysterious, and, fun, but, on, point, thank, you, asking, for, a, friend]</td>\n",
       "      <td>if you happend to make a blog ecommerc store about sex play and mayb sex toy how you would name it my first idea wa whip but domain is taken www com i would like someth that is not straightforward like 69store or sexer but someth mysteri and fun but on point thank you ask for a friend</td>\n",
       "    </tr>\n",
       "    <tr>\n",
       "      <th>1</th>\n",
       "      <td>The floor is cold like it was that  that night.\\n\\nI had tried to run into the street. \\n\\nYour look of betrayal burned into my sight. \\n\\nI am nothing but a bona-fide creep.\\n\\nAll of our memories now a blight.\\n\\nEvery sunrise is a burden without sleep.</td>\n",
       "      <td>a_deceased_person</td>\n",
       "      <td>That Night 🌙</td>\n",
       "      <td>0</td>\n",
       "      <td>The floor is cold like it was that  that night.\\n\\nI had tried to run into the street. \\n\\nYour look of betrayal burned into my sight. \\n\\nI am nothing but a bona-fide creep.\\n\\nAll of our memories now a blight.\\n\\nEvery sunrise is a burden without sleep. That Night 🌙</td>\n",
       "      <td>[the, floor, is, cold, like, it, was, that, that, night, i, had, tried, to, run, into, the, street, your, look, of, betrayal, burned, into, my, sight, i, am, nothing, but, a, bona, fide, creep, all, of, our, memories, now, a, blight, every, sunrise, is, a, burden, without, sleep, that, night]</td>\n",
       "      <td>[the, floor, is, cold, like, it, wa, that, that, night, i, had, tried, to, run, into, the, street, your, look, of, betrayal, burned, into, my, sight, i, am, nothing, but, a, bona, fide, creep, all, of, our, memory, now, a, blight, every, sunrise, is, a, burden, without, sleep, that, night]</td>\n",
       "      <td>the floor is cold like it wa that that night i had tri to run into the street your look of betray burn into my sight i am noth but a bona fide creep all of our memori now a blight everi sunris is a burden without sleep that night</td>\n",
       "    </tr>\n",
       "    <tr>\n",
       "      <th>2</th>\n",
       "      <td>In this factory of memories\\n\\nWe went our ways for a while\\n\\nLike a pencil writes a story\\n\\nMaking words or tracing lines\\n\\nDrawing worlds or coloring skies\\n\\nA whole new life for you and i\\n\\n.\\nEven though sometimes the lead broke\\n\\nWe would just sharpen up our hope\\n\\nUntil that pencil was no more\\n\\nAnd today i can see the end\\n\\nSo I wanted to say my thanks\\n\\n.\\nTo you before the rubber erases\\n\\nThe memories that we lived in.</td>\n",
       "      <td>Luxrayguy</td>\n",
       "      <td>Factory</td>\n",
       "      <td>0</td>\n",
       "      <td>In this factory of memories\\n\\nWe went our ways for a while\\n\\nLike a pencil writes a story\\n\\nMaking words or tracing lines\\n\\nDrawing worlds or coloring skies\\n\\nA whole new life for you and i\\n\\n.\\nEven though sometimes the lead broke\\n\\nWe would just sharpen up our hope\\n\\nUntil that pencil was no more\\n\\nAnd today i can see the end\\n\\nSo I wanted to say my thanks\\n\\n.\\nTo you before the rubber erases\\n\\nThe memories that we lived in. Factory</td>\n",
       "      <td>[in, this, factory, of, memories, we, went, our, ways, for, a, while, like, a, pencil, writes, a, story, making, words, or, tracing, lines, drawing, worlds, or, coloring, skies, a, whole, new, life, for, you, and, i, even, though, sometimes, the, lead, broke, we, would, just, sharpen, up, our, hope, until, that, pencil, was, no, more, and, today, i, can, see, the, end, so, i, wanted, to, say, my, thanks, to, you, before, the, rubber, erases, the, memories, that, we, lived, in, factory]</td>\n",
       "      <td>[in, this, factory, of, memory, we, went, our, way, for, a, while, like, a, pencil, writes, a, story, making, word, or, tracing, line, drawing, world, or, coloring, sky, a, whole, new, life, for, you, and, i, even, though, sometimes, the, lead, broke, we, would, just, sharpen, up, our, hope, until, that, pencil, wa, no, more, and, today, i, can, see, the, end, so, i, wanted, to, say, my, thanks, to, you, before, the, rubber, era, the, memory, that, we, lived, in, factory]</td>\n",
       "      <td>in thi factori of memori we went our way for a while like a pencil write a stori make word or trace line draw world or color sky a whole new life for you and i even though sometim the lead broke we would just sharpen up our hope until that pencil wa no more and today i can see the end so i want to say my thank to you befor the rubber era the memori that we live in factori</td>\n",
       "    </tr>\n",
       "    <tr>\n",
       "      <th>3</th>\n",
       "      <td>I'm panicking I think. Shoving my mouth into my fist. Silly fool slipping backwards for a regressive wish. A false narrative that loops reality in warmth seeking snakes....\\n\\nWriggling with stoic discomfort just for a taste. But I'm tripping into trouble with you. I hope these feelings aren't just waste.</td>\n",
       "      <td>a_deceased_person</td>\n",
       "      <td>delusions?</td>\n",
       "      <td>0</td>\n",
       "      <td>I'm panicking I think. Shoving my mouth into my fist. Silly fool slipping backwards for a regressive wish. A false narrative that loops reality in warmth seeking snakes....\\n\\nWriggling with stoic discomfort just for a taste. But I'm tripping into trouble with you. I hope these feelings aren't just waste. delusions?</td>\n",
       "      <td>[i'm, panicking, i, think, shoving, my, mouth, into, my, fist, silly, fool, slipping, backwards, for, a, regressive, wish, a, false, narrative, that, loops, reality, in, warmth, seeking, snakes, wriggling, with, stoic, discomfort, just, for, a, taste, but, i'm, tripping, into, trouble, with, you, i, hope, these, feelings, aren't, just, waste, delusions]</td>\n",
       "      <td>[i'm, panicking, i, think, shoving, my, mouth, into, my, fist, silly, fool, slipping, backwards, for, a, regressive, wish, a, false, narrative, that, loop, reality, in, warmth, seeking, snake, wriggling, with, stoic, discomfort, just, for, a, taste, but, i'm, tripping, into, trouble, with, you, i, hope, these, feeling, aren't, just, waste, delusion]</td>\n",
       "      <td>i'm panick i think shove my mouth into my fist silli fool slip backward for a regress wish a fals narr that loop realiti in warmth seek snake wriggl with stoic discomfort just for a tast but i'm trip into troubl with you i hope these feel aren't just wast delus</td>\n",
       "    </tr>\n",
       "    <tr>\n",
       "      <th>4</th>\n",
       "      <td>“america no longer creates prophets, only profits &amp;amp; we’re all a lot more poor because of it. “ \\n\\n\\n - my brains thoughts in the early hours of the morning</td>\n",
       "      <td>bmodelic</td>\n",
       "      <td>Desolate America</td>\n",
       "      <td>0</td>\n",
       "      <td>“america no longer creates prophets, only profits &amp;amp; we’re all a lot more poor because of it. “ \\n\\n\\n - my brains thoughts in the early hours of the morning Desolate America</td>\n",
       "      <td>[america, no, longer, creates, prophets, only, profits, amp, we, re, all, a, lot, more, poor, because, of, it, my, brains, thoughts, in, the, early, hours, of, the, morning, desolate, america]</td>\n",
       "      <td>[america, no, longer, creates, prophet, only, profit, amp, we, re, all, a, lot, more, poor, because, of, it, my, brain, thought, in, the, early, hour, of, the, morning, desolate, america]</td>\n",
       "      <td>america no longer creat prophet onli profit amp we re all a lot more poor becaus of it my brain thought in the earli hour of the morn desol america</td>\n",
       "    </tr>\n",
       "  </tbody>\n",
       "</table>\n",
       "</div>"
      ],
      "text/plain": [
       "                                                                                                                                                                                                                                                                                                                                                                                                                                                     selftext  \\\n",
       "0                                                                                                                                          if you happend to make a blog/ecommerce store  about sex play and maybe sex toys how you would name it ? My first idea was Whipped - but domain is taken .. www.....com.   \\ni would like something that is not straightforward like 69store or sexer but something mysterious and fun but on point   \\nThank you,   \n",
       "1                                                                                                                                                                                             The floor is cold like it was that  that night.\\n\\nI had tried to run into the street. \\n\\nYour look of betrayal burned into my sight. \\n\\nI am nothing but a bona-fide creep.\\n\\nAll of our memories now a blight.\\n\\nEvery sunrise is a burden without sleep.   \n",
       "2  In this factory of memories\\n\\nWe went our ways for a while\\n\\nLike a pencil writes a story\\n\\nMaking words or tracing lines\\n\\nDrawing worlds or coloring skies\\n\\nA whole new life for you and i\\n\\n.\\nEven though sometimes the lead broke\\n\\nWe would just sharpen up our hope\\n\\nUntil that pencil was no more\\n\\nAnd today i can see the end\\n\\nSo I wanted to say my thanks\\n\\n.\\nTo you before the rubber erases\\n\\nThe memories that we lived in.   \n",
       "3                                                                                                                                          I'm panicking I think. Shoving my mouth into my fist. Silly fool slipping backwards for a regressive wish. A false narrative that loops reality in warmth seeking snakes....\\n\\nWriggling with stoic discomfort just for a taste. But I'm tripping into trouble with you. I hope these feelings aren't just waste.   \n",
       "4                                                                                                                                                                                                                                                                                            “america no longer creates prophets, only profits &amp; we’re all a lot more poor because of it. “ \\n\\n\\n - my brains thoughts in the early hours of the morning   \n",
       "\n",
       "              author                title  subreddit  \\\n",
       "0          raygreeen  Asking for a friend          0   \n",
       "1  a_deceased_person         That Night 🌙          0   \n",
       "2          Luxrayguy              Factory          0   \n",
       "3  a_deceased_person           delusions?          0   \n",
       "4           bmodelic     Desolate America          0   \n",
       "\n",
       "                                                                                                                                                                                                                                                                                                                                                                                                                                                             fulltext  \\\n",
       "0                                                                                                                              if you happend to make a blog/ecommerce store  about sex play and maybe sex toys how you would name it ? My first idea was Whipped - but domain is taken .. www.....com.   \\ni would like something that is not straightforward like 69store or sexer but something mysterious and fun but on point   \\nThank you, Asking for a friend   \n",
       "1                                                                                                                                                                                        The floor is cold like it was that  that night.\\n\\nI had tried to run into the street. \\n\\nYour look of betrayal burned into my sight. \\n\\nI am nothing but a bona-fide creep.\\n\\nAll of our memories now a blight.\\n\\nEvery sunrise is a burden without sleep. That Night 🌙   \n",
       "2  In this factory of memories\\n\\nWe went our ways for a while\\n\\nLike a pencil writes a story\\n\\nMaking words or tracing lines\\n\\nDrawing worlds or coloring skies\\n\\nA whole new life for you and i\\n\\n.\\nEven though sometimes the lead broke\\n\\nWe would just sharpen up our hope\\n\\nUntil that pencil was no more\\n\\nAnd today i can see the end\\n\\nSo I wanted to say my thanks\\n\\n.\\nTo you before the rubber erases\\n\\nThe memories that we lived in. Factory   \n",
       "3                                                                                                                                       I'm panicking I think. Shoving my mouth into my fist. Silly fool slipping backwards for a regressive wish. A false narrative that loops reality in warmth seeking snakes....\\n\\nWriggling with stoic discomfort just for a taste. But I'm tripping into trouble with you. I hope these feelings aren't just waste. delusions?   \n",
       "4                                                                                                                                                                                                                                                                                   “america no longer creates prophets, only profits &amp; we’re all a lot more poor because of it. “ \\n\\n\\n - my brains thoughts in the early hours of the morning Desolate America   \n",
       "\n",
       "                                                                                                                                                                                                                                                                                                                                                                                                                                                                                           tokenized_fulltext  \\\n",
       "0                                                                                                                                 [if, you, happend, to, make, a, blog, ecommerce, store, about, sex, play, and, maybe, sex, toys, how, you, would, name, it, my, first, idea, was, whipped, but, domain, is, taken, www, com, i, would, like, something, that, is, not, straightforward, like, 69store, or, sexer, but, something, mysterious, and, fun, but, on, point, thank, you, asking, for, a, friend]   \n",
       "1                                                                                                                                                                                                       [the, floor, is, cold, like, it, was, that, that, night, i, had, tried, to, run, into, the, street, your, look, of, betrayal, burned, into, my, sight, i, am, nothing, but, a, bona, fide, creep, all, of, our, memories, now, a, blight, every, sunrise, is, a, burden, without, sleep, that, night]   \n",
       "2  [in, this, factory, of, memories, we, went, our, ways, for, a, while, like, a, pencil, writes, a, story, making, words, or, tracing, lines, drawing, worlds, or, coloring, skies, a, whole, new, life, for, you, and, i, even, though, sometimes, the, lead, broke, we, would, just, sharpen, up, our, hope, until, that, pencil, was, no, more, and, today, i, can, see, the, end, so, i, wanted, to, say, my, thanks, to, you, before, the, rubber, erases, the, memories, that, we, lived, in, factory]   \n",
       "3                                                                                                                                         [i'm, panicking, i, think, shoving, my, mouth, into, my, fist, silly, fool, slipping, backwards, for, a, regressive, wish, a, false, narrative, that, loops, reality, in, warmth, seeking, snakes, wriggling, with, stoic, discomfort, just, for, a, taste, but, i'm, tripping, into, trouble, with, you, i, hope, these, feelings, aren't, just, waste, delusions]   \n",
       "4                                                                                                                                                                                                                                                                                                            [america, no, longer, creates, prophets, only, profits, amp, we, re, all, a, lot, more, poor, because, of, it, my, brains, thoughts, in, the, early, hours, of, the, morning, desolate, america]   \n",
       "\n",
       "                                                                                                                                                                                                                                                                                                                                                                                                                                                                  lemmatized_tokenized_fulltext  \\\n",
       "0                                                                                                                     [if, you, happend, to, make, a, blog, ecommerce, store, about, sex, play, and, maybe, sex, toy, how, you, would, name, it, my, first, idea, wa, whipped, but, domain, is, taken, www, com, i, would, like, something, that, is, not, straightforward, like, 69store, or, sexer, but, something, mysterious, and, fun, but, on, point, thank, you, asking, for, a, friend]   \n",
       "1                                                                                                                                                                                            [the, floor, is, cold, like, it, wa, that, that, night, i, had, tried, to, run, into, the, street, your, look, of, betrayal, burned, into, my, sight, i, am, nothing, but, a, bona, fide, creep, all, of, our, memory, now, a, blight, every, sunrise, is, a, burden, without, sleep, that, night]   \n",
       "2  [in, this, factory, of, memory, we, went, our, way, for, a, while, like, a, pencil, writes, a, story, making, word, or, tracing, line, drawing, world, or, coloring, sky, a, whole, new, life, for, you, and, i, even, though, sometimes, the, lead, broke, we, would, just, sharpen, up, our, hope, until, that, pencil, wa, no, more, and, today, i, can, see, the, end, so, i, wanted, to, say, my, thanks, to, you, before, the, rubber, era, the, memory, that, we, lived, in, factory]   \n",
       "3                                                                                                                               [i'm, panicking, i, think, shoving, my, mouth, into, my, fist, silly, fool, slipping, backwards, for, a, regressive, wish, a, false, narrative, that, loop, reality, in, warmth, seeking, snake, wriggling, with, stoic, discomfort, just, for, a, taste, but, i'm, tripping, into, trouble, with, you, i, hope, these, feeling, aren't, just, waste, delusion]   \n",
       "4                                                                                                                                                                                                                                                                                                   [america, no, longer, creates, prophet, only, profit, amp, we, re, all, a, lot, more, poor, because, of, it, my, brain, thought, in, the, early, hour, of, the, morning, desolate, america]   \n",
       "\n",
       "                                                                                                                                                                                                                                                                                                                                                stemmatized_lemmatized_tokenized_fulltext  \n",
       "0                                                                                           if you happend to make a blog ecommerc store about sex play and mayb sex toy how you would name it my first idea wa whip but domain is taken www com i would like someth that is not straightforward like 69store or sexer but someth mysteri and fun but on point thank you ask for a friend  \n",
       "1                                                                                                                                                   the floor is cold like it wa that that night i had tri to run into the street your look of betray burn into my sight i am noth but a bona fide creep all of our memori now a blight everi sunris is a burden without sleep that night  \n",
       "2  in thi factori of memori we went our way for a while like a pencil write a stori make word or trace line draw world or color sky a whole new life for you and i even though sometim the lead broke we would just sharpen up our hope until that pencil wa no more and today i can see the end so i want to say my thank to you befor the rubber era the memori that we live in factori  \n",
       "3                                                                                                                   i'm panick i think shove my mouth into my fist silli fool slip backward for a regress wish a fals narr that loop realiti in warmth seek snake wriggl with stoic discomfort just for a tast but i'm trip into troubl with you i hope these feel aren't just wast delus  \n",
       "4                                                                                                                                                                                                                                     america no longer creat prophet onli profit amp we re all a lot more poor becaus of it my brain thought in the earli hour of the morn desol america  "
      ]
     },
     "execution_count": 25,
     "metadata": {},
     "output_type": "execute_result"
    }
   ],
   "source": [
    "combo.head()"
   ]
  },
  {
   "cell_type": "markdown",
   "id": "3143462d-188c-4ffe-8fb7-24c530a27cf6",
   "metadata": {},
   "source": [
    "## Exporting to CSV"
   ]
  },
  {
   "cell_type": "code",
   "execution_count": 26,
   "id": "37fee2de-431d-46da-8319-37427ef152d9",
   "metadata": {},
   "outputs": [],
   "source": [
    "combo.to_csv('data2/combo.csv',index=False)"
   ]
  }
 ],
 "metadata": {
  "kernelspec": {
   "display_name": "Python [conda env:dsi]",
   "language": "python",
   "name": "conda-env-dsi-py"
  },
  "language_info": {
   "codemirror_mode": {
    "name": "ipython",
    "version": 3
   },
   "file_extension": ".py",
   "mimetype": "text/x-python",
   "name": "python",
   "nbconvert_exporter": "python",
   "pygments_lexer": "ipython3",
   "version": "3.9.7"
  }
 },
 "nbformat": 4,
 "nbformat_minor": 5
}
