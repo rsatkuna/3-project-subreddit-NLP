{
 "cells": [
  {
   "cell_type": "markdown",
   "id": "c24e6a4e-69f2-4854-8050-66f580d63aef",
   "metadata": {},
   "source": [
    "# Project 3: Web APIs & NLP Part 5 Models and Conclusion"
   ]
  },
  {
   "cell_type": "markdown",
   "id": "49e32cb2-e221-4fa2-b047-120ea7e3710c",
   "metadata": {},
   "source": [
    "Revathi Satkuna | DSIR1010 "
   ]
  },
  {
   "cell_type": "code",
   "execution_count": 1,
   "id": "16e7bef5-3fd0-4990-8c4d-f8806680022f",
   "metadata": {},
   "outputs": [],
   "source": [
    "# Imports\n",
    "import numpy as np\n",
    "import pandas as pd\n",
    "import seaborn as sns\n",
    "import matplotlib.pyplot as plt\n",
    "%matplotlib inline\n",
    "from sklearn.linear_model import LogisticRegression\n",
    "from sklearn.ensemble import RandomForestClassifier, BaggingClassifier, GradientBoostingClassifier, AdaBoostClassifier\n",
    "from sklearn.model_selection import train_test_split, cross_val_score, GridSearchCV\n",
    "from sklearn.pipeline import Pipeline\n",
    "from sklearn.neighbors import KNeighborsClassifier\n",
    "from sklearn.preprocessing import StandardScaler\n",
    "from sklearn.feature_extraction.text import CountVectorizer, TfidfVectorizer\n",
    "from sklearn.naive_bayes import MultinomialNB\n",
    "from sklearn.metrics import confusion_matrix, classification_report\n",
    "\n",
    "import warnings\n",
    "warnings.filterwarnings('ignore')"
   ]
  },
  {
   "cell_type": "code",
   "execution_count": 2,
   "id": "b2f1620f-42c5-45af-b595-7239f943d755",
   "metadata": {},
   "outputs": [],
   "source": [
    "# to make DataFrames easier to navigate through during cleaning/EDA\n",
    "pd.set_option('display.max_columns',10000)\n",
    "pd.set_option('display.max_rows', 500)\n",
    "pd.set_option('display.max_colwidth', None)"
   ]
  },
  {
   "cell_type": "code",
   "execution_count": 3,
   "id": "861a8bdc-2afa-4fde-a2bd-b7c11f40439f",
   "metadata": {},
   "outputs": [],
   "source": [
    "combo = pd.read_csv('data2/combo.csv')"
   ]
  },
  {
   "cell_type": "code",
   "execution_count": 4,
   "id": "11581446-7f33-4c8e-9246-ca7419fb4a51",
   "metadata": {},
   "outputs": [],
   "source": [
    "# defining X and y and splitting into traintest sets\n",
    "X = combo['stemmatized_lemmatized_tokenized_fulltext']\n",
    "y = combo['subreddit']\n",
    "X_train, X_test, y_train, y_test = train_test_split(X, y, test_size=.30, random_state=42)"
   ]
  },
  {
   "cell_type": "markdown",
   "id": "37139c33-200b-468c-a66f-8817a10ab1b4",
   "metadata": {},
   "source": [
    "## Baseline "
   ]
  },
  {
   "cell_type": "code",
   "execution_count": 5,
   "id": "9a47c1d7-9352-41a5-ba15-bfb6bbc388f0",
   "metadata": {},
   "outputs": [
    {
     "data": {
      "text/plain": [
       "0    0.575033\n",
       "1    0.424967\n",
       "Name: subreddit, dtype: float64"
      ]
     },
     "execution_count": 5,
     "metadata": {},
     "output_type": "execute_result"
    }
   ],
   "source": [
    "y.value_counts(normalize=True)"
   ]
  },
  {
   "cell_type": "markdown",
   "id": "a8bc6a40-ee01-4a3f-a2cc-93f4e6cc742b",
   "metadata": {},
   "source": [
    "Baseline value is 42.4% because there were much more posts in the creative subreddit in our dataframe. Predicting that every post will come from the creative writing subreddit would be accurate 42.4%."
   ]
  },
  {
   "cell_type": "markdown",
   "id": "39618796-319e-4958-bd2f-617dd05912ae",
   "metadata": {},
   "source": [
    "## Evaluating Model"
   ]
  },
  {
   "cell_type": "markdown",
   "id": "1933dbad-52d5-4627-8846-db14aeac909f",
   "metadata": {},
   "source": [
    "dslfkjadlsfjpepeeppe"
   ]
  },
  {
   "cell_type": "markdown",
   "id": "fe73d845-939e-4f04-9365-438061292081",
   "metadata": {},
   "source": [
    "##  Tfidf Vectorizer"
   ]
  },
  {
   "cell_type": "code",
   "execution_count": 6,
   "id": "0f87346e-5bae-4820-a580-56cdf67e1313",
   "metadata": {},
   "outputs": [],
   "source": [
    "# transforming X_train using TfidVectorizer\n",
    "tvec = TfidfVectorizer(stop_words='english',ngram_range=(1,3), max_features= 14681 )\n",
    "Z_train=tvec.fit_transform(X_train)\n",
    "# 12642 is old max features"
   ]
  },
  {
   "cell_type": "code",
   "execution_count": 7,
   "id": "745f7588-8a1b-4b5a-a00e-8eb5b4c0954b",
   "metadata": {},
   "outputs": [
    {
     "data": {
      "text/plain": [
       "{'process': 9324,\n",
       " 'replac': 9802,\n",
       " 'comput': 2207,\n",
       " 'build': 1517,\n",
       " 'upgrad': 13007,\n",
       " 'new': 8125,\n",
       " 'temp': 11819,\n",
       " 'hire': 5595,\n",
       " 'brought': 1484,\n",
       " 'tech': 11750,\n",
       " 'guy': 4998,\n",
       " 'multipl': 7945,\n",
       " 'depart': 2865,\n",
       " 'oper': 8561,\n",
       " 'good': 4634,\n",
       " 'chanc': 1779,\n",
       " 'actual': 261,\n",
       " 'job': 6199,\n",
       " 'alway': 432,\n",
       " 'peopl': 8825,\n",
       " 'thi': 11901,\n",
       " 'citi': 1926,\n",
       " 'caus': 1725,\n",
       " 'tri': 12711,\n",
       " 'flex': 4269,\n",
       " 'lot': 7258,\n",
       " 'real': 9578,\n",
       " 'pain': 8679,\n",
       " 'understand': 12919,\n",
       " 'everyon': 3802,\n",
       " 'want': 13883,\n",
       " 'wa': 13313,\n",
       " 'work': 14333,\n",
       " 'im': 5823,\n",
       " 'familiar': 4031,\n",
       " 'softwar': 10901,\n",
       " 'shit': 10609,\n",
       " 'admin': 285,\n",
       " 'box': 1403,\n",
       " 'room': 10024,\n",
       " 'make': 7393,\n",
       " 'mistak': 7792,\n",
       " 'appar': 684,\n",
       " 'monitor': 7850,\n",
       " 'tower': 12647,\n",
       " 'power': 9188,\n",
       " 'cord': 2377,\n",
       " 'differ': 3077,\n",
       " 'need': 8027,\n",
       " 'store': 11349,\n",
       " 'separ': 10473,\n",
       " 'suppos': 11549,\n",
       " 'filter': 4179,\n",
       " 'giant': 4561,\n",
       " 'look': 7158,\n",
       " 'mark': 7543,\n",
       " 'thank': 11866,\n",
       " 'experienc': 3899,\n",
       " 'point': 9106,\n",
       " 'teach': 11732,\n",
       " 'target': 11712,\n",
       " 'employe': 3630,\n",
       " 'sure': 11556,\n",
       " 'guarante': 4970,\n",
       " 'employ': 3629,\n",
       " 'right': 9928,\n",
       " 'everi': 3778,\n",
       " 'opportun': 8565,\n",
       " 'explain': 3903,\n",
       " 'basic': 1008,\n",
       " 'act': 255,\n",
       " 'like': 6880,\n",
       " 'knew': 6484,\n",
       " 'didnt': 3070,\n",
       " 'know': 6504,\n",
       " 'annoy': 576,\n",
       " 'toler': 12586,\n",
       " 'dont': 3329,\n",
       " 'absolut': 201,\n",
       " 'major': 7392,\n",
       " 'fun': 4480,\n",
       " 'stori': 11353,\n",
       " 'blow': 1314,\n",
       " 'repeat': 9799,\n",
       " 'seri': 10480,\n",
       " 'promis': 9353,\n",
       " 'end': 3645,\n",
       " 'user': 13064,\n",
       " 'minor': 7757,\n",
       " 'confront': 2282,\n",
       " 'anyon': 637,\n",
       " 'direct': 3117,\n",
       " 'superior': 11519,\n",
       " 'mistaken': 7793,\n",
       " 'shift': 10596,\n",
       " 'blame': 1277,\n",
       " 'hi': 5368,\n",
       " 'exampl': 3860,\n",
       " 'result': 9869,\n",
       " 'sometim': 10999,\n",
       " 'spoken': 11135,\n",
       " 'rule': 10067,\n",
       " 'pretend': 9243,\n",
       " 'someth': 10953,\n",
       " 'screw': 10372,\n",
       " 'shame': 10558,\n",
       " 'becaus': 1049,\n",
       " 'quit': 9489,\n",
       " 'knowledg': 6605,\n",
       " 'smart': 10840,\n",
       " 'skill': 10762,\n",
       " 'person': 8891,\n",
       " 'trait': 12670,\n",
       " 'year': 14611,\n",
       " 'dure': 3463,\n",
       " 'season': 10392,\n",
       " 'realli': 9594,\n",
       " 'common': 2145,\n",
       " 'fresh': 4426,\n",
       " 'colleg': 2075,\n",
       " 'technic': 11767,\n",
       " 'say': 10255,\n",
       " '80': 157,\n",
       " '90': 161,\n",
       " 'hear': 5261,\n",
       " 'prefer': 9220,\n",
       " 'self': 10435,\n",
       " 'taught': 11722,\n",
       " 'dude': 3443,\n",
       " 'think': 12250,\n",
       " 'number': 8304,\n",
       " 'main': 7380,\n",
       " 'sourc': 11051,\n",
       " 'kid': 6452,\n",
       " 'potenti': 9178,\n",
       " 'shoot': 10621,\n",
       " 'themselv': 11893,\n",
       " 'ive': 6103,\n",
       " 'figur': 4163,\n",
       " 'properli': 9370,\n",
       " 'sad': 10105,\n",
       " 'everyth': 3813,\n",
       " 'tech guy': 11753,\n",
       " 'peopl thi': 8855,\n",
       " 'thi caus': 11933,\n",
       " 'new guy': 8140,\n",
       " 'guy tri': 5018,\n",
       " 'everyon want': 3812,\n",
       " 'job wa': 6206,\n",
       " 'wa work': 13803,\n",
       " 'room wa': 10036,\n",
       " 'wa make': 13576,\n",
       " 'make mistak': 7420,\n",
       " 'power cord': 9192,\n",
       " 'wa suppos': 13743,\n",
       " 'work look': 14389,\n",
       " 'explain wa': 3914,\n",
       " 'act like': 256,\n",
       " 'didnt know': 3071,\n",
       " 'like know': 6922,\n",
       " 'end user': 3657,\n",
       " 'knew wa': 6493,\n",
       " 'hi wa': 5556,\n",
       " 'wa brought': 13364,\n",
       " 'know someth': 6579,\n",
       " 'guy wa': 5019,\n",
       " 'wa actual': 13318,\n",
       " 'like thi': 6962,\n",
       " 'thi everi': 11967,\n",
       " 'everi year': 3799,\n",
       " 'alway make': 447,\n",
       " 'know everyth': 6534,\n",
       " 'flp': 4299,\n",
       " 'short': 10625,\n",
       " 'book': 1365,\n",
       " 'day': 2680,\n",
       " 'ted': 11774,\n",
       " 'order': 8580,\n",
       " 'reserv': 9830,\n",
       " 'copi': 2372,\n",
       " 'today': 12548,\n",
       " 'extend': 3928,\n",
       " 'medit': 7638,\n",
       " 'love': 7273,\n",
       " 'natur': 8003,\n",
       " 'memori': 7658,\n",
       " 'grow': 4833,\n",
       " 'older': 8456,\n",
       " 'contempl': 2331,\n",
       " 'mortal': 7895,\n",
       " 'follow': 4326,\n",
       " 'young': 14653,\n",
       " 'coupl': 2425,\n",
       " 'romant': 10019,\n",
       " 'chaotic': 1800,\n",
       " 'drunken': 3435,\n",
       " 'struggl': 11429,\n",
       " 'hard': 5179,\n",
       " 'truth': 12815,\n",
       " 'come': 2091,\n",
       " 'intact': 5983,\n",
       " 'debat': 2777,\n",
       " 'rel': 9733,\n",
       " 'nurs': 8310,\n",
       " 'hangov': 5137,\n",
       " 'check': 1829,\n",
       " 'student': 11435,\n",
       " 'health': 5257,\n",
       " 'center': 1754,\n",
       " 'lost': 7256,\n",
       " 'soul': 11041,\n",
       " 'glass': 4581,\n",
       " 'drink': 3405,\n",
       " 'problem': 9304,\n",
       " 'away': 898,\n",
       " 'cigarett': 1916,\n",
       " 'lover': 7300,\n",
       " 'steep': 11283,\n",
       " 'pop': 9142,\n",
       " 'cultur': 2559,\n",
       " 'life': 6836,\n",
       " 'battl': 1025,\n",
       " 'biggest': 1230,\n",
       " 'vice': 13245,\n",
       " 'fiction': 4153,\n",
       " 'univers': 12961,\n",
       " 'write': 14506,\n",
       " 'charact': 1806,\n",
       " 'suffer': 11480,\n",
       " 'arrest': 740,\n",
       " 'develop': 2927,\n",
       " 'usual': 13126,\n",
       " 'watch': 13995,\n",
       " 'listen': 7009,\n",
       " 'ha': 5023,\n",
       " 'appear': 688,\n",
       " 'review': 9899,\n",
       " 'literari': 7016,\n",
       " 'diagram': 2944,\n",
       " 'letter': 6817,\n",
       " 'lo': 7091,\n",
       " 'angel': 518,\n",
       " 'elsewher': 3586,\n",
       " 'best': 1189,\n",
       " 'net': 8106,\n",
       " 'award': 897,\n",
       " 'collect': 2073,\n",
       " 'advanc': 304,\n",
       " 'prais': 9205,\n",
       " 'centuri': 1757,\n",
       " 'fantast': 4038,\n",
       " 'gift': 4562,\n",
       " 'percept': 8869,\n",
       " 'writer': 14523,\n",
       " 'lane': 6644,\n",
       " 'author': 878,\n",
       " 'black': 1263,\n",
       " 'lake': 6634,\n",
       " 'balanc': 966,\n",
       " 'reveal': 9890,\n",
       " 'tightli': 12393,\n",
       " 'connect': 2288,\n",
       " 'assembl': 824,\n",
       " 'honest': 5652,\n",
       " 'amus': 501,\n",
       " 'puzzl': 9448,\n",
       " 'desper': 2908,\n",
       " 'lie': 6833,\n",
       " 'just': 6254,\n",
       " 'outsid': 8622,\n",
       " 'grasp': 4763,\n",
       " 'feel': 4091,\n",
       " 'deliv': 2844,\n",
       " 'ear': 3492,\n",
       " 'dark': 2644,\n",
       " 'bar': 985,\n",
       " 'long': 7132,\n",
       " 'friend': 4436,\n",
       " 'joke': 6217,\n",
       " 'choke': 1890,\n",
       " 'sob': 10889,\n",
       " 'anoth': 581,\n",
       " 'round': 10047,\n",
       " 'told': 12567,\n",
       " 'tale': 11680,\n",
       " 'addict': 276,\n",
       " 'decept': 2789,\n",
       " 'mike': 7721,\n",
       " 'cours': 2440,\n",
       " 'human': 5750,\n",
       " 'event': 3775,\n",
       " 'time': 12400,\n",
       " 'melancholi': 7649,\n",
       " 'slip': 10806,\n",
       " 'neatli': 8021,\n",
       " 'fine': 4199,\n",
       " 'line': 6991,\n",
       " 'romanc': 10018,\n",
       " 'comedi': 2133,\n",
       " 'awar': 895,\n",
       " 'insecur': 5946,\n",
       " 'uncertainti': 12906,\n",
       " 'relationship': 9736,\n",
       " 'term': 11840,\n",
       " 'lone': 7130,\n",
       " 'delus': 2847,\n",
       " 'pleas': 9036,\n",
       " 'share': 10563,\n",
       " 'repost': 9812,\n",
       " 'promo': 9357,\n",
       " 'flpauthor': 4304,\n",
       " 'preorder': 9223,\n",
       " 'awesomecoverart': 914,\n",
       " 'prose': 9376,\n",
       " 'read': 9563,\n",
       " 'short stori': 10627,\n",
       " 'book day': 1366,\n",
       " 'order reserv': 8582,\n",
       " 'reserv copi': 9831,\n",
       " 'copi today': 2374,\n",
       " 'hi work': 5563,\n",
       " 'work ha': 14369,\n",
       " 'ha appear': 5028,\n",
       " 'lo angel': 7092,\n",
       " 'advanc prais': 305,\n",
       " 'stori thi': 11374,\n",
       " 'long lost': 7140,\n",
       " 'hi life': 5477,\n",
       " 'come term': 2124,\n",
       " 'pleas share': 9053,\n",
       " 'share pleas': 10565,\n",
       " 'pleas repost': 9051,\n",
       " 'repost promo': 9815,\n",
       " 'promo flpauthor': 9358,\n",
       " 'flpauthor preorder': 4305,\n",
       " 'preorder awesomecoverart': 9224,\n",
       " 'order reserv copi': 8583,\n",
       " 'reserv copi today': 9832,\n",
       " 'pleas share pleas': 9054,\n",
       " 'share pleas repost': 10566,\n",
       " 'pleas repost promo': 9052,\n",
       " 'repost promo flpauthor': 9816,\n",
       " 'promo flpauthor preorder': 9359,\n",
       " 'flpauthor preorder awesomecoverart': 4306,\n",
       " 'happen': 5143,\n",
       " 'lemm': 6774,\n",
       " 'walk': 13841,\n",
       " 'compani': 2153,\n",
       " 'contract': 2343,\n",
       " 'parti': 8725,\n",
       " 'fix': 4231,\n",
       " 'hardwar': 5194,\n",
       " 'relat': 9734,\n",
       " 'issu': 6076,\n",
       " 'network': 8108,\n",
       " 'big': 1220,\n",
       " 'did': 2954,\n",
       " 'dumb': 3448,\n",
       " 'ticket': 12367,\n",
       " 'slow': 10815,\n",
       " 'die': 3072,\n",
       " 'domain': 3252,\n",
       " 'log': 7114,\n",
       " 'access': 216,\n",
       " 'desktop': 2901,\n",
       " 'stuff': 11439,\n",
       " 'open': 8542,\n",
       " 'sale': 10189,\n",
       " 'spreadsheet': 11147,\n",
       " 'import': 5850,\n",
       " 'document': 3206,\n",
       " 'save': 10239,\n",
       " 'cloud': 2024,\n",
       " 'noth': 8262,\n",
       " 'fail': 4001,\n",
       " 'ask': 761,\n",
       " 'distract': 3176,\n",
       " 'pay': 8786,\n",
       " 'attent': 855,\n",
       " 'window': 14246,\n",
       " 'mess': 7683,\n",
       " 'corrupt': 2391,\n",
       " 'data': 2664,\n",
       " '10': 12,\n",
       " 'imag': 5825,\n",
       " 'backup': 942,\n",
       " 'behold': 1165,\n",
       " 'delet': 2837,\n",
       " 'becam': 1048,\n",
       " 'thi happen': 11991,\n",
       " 'happen today': 5160,\n",
       " 'relat issu': 9735,\n",
       " 'big compani': 1223,\n",
       " 'user ticket': 13109,\n",
       " 'user thi': 13107,\n",
       " 'thi compani': 11942,\n",
       " 'user access': 13065,\n",
       " 'stuff wa': 11442,\n",
       " 'wa user': 13783,\n",
       " 'open ticket': 8557,\n",
       " 'ticket wa': 12382,\n",
       " 'pay attent': 8787,\n",
       " 'window wa': 14255,\n",
       " 'wa mess': 13587,\n",
       " 'just did': 6281,\n",
       " 'window 10': 14247,\n",
       " 'lo behold': 7093,\n",
       " 'drawn': 3388,\n",
       " 'style': 11451,\n",
       " 'ellen': 3576,\n",
       " 'seen': 10422,\n",
       " 'horror': 5685,\n",
       " 'sci': 10338,\n",
       " 'fi': 4148,\n",
       " 'curiou': 2570,\n",
       " 'appreci': 698,\n",
       " 'ani': 527,\n",
       " 'respons': 9850,\n",
       " 'poetri': 9099,\n",
       " 'write style': 14520,\n",
       " 'sci fi': 10339,\n",
       " 'think thi': 12285,\n",
       " 'thi someth': 12114,\n",
       " 'actual work': 269,\n",
       " 'type': 12870,\n",
       " 'exact': 3848,\n",
       " 'convers': 2354,\n",
       " 'word': 14318,\n",
       " 'site': 10748,\n",
       " 'certain': 1764,\n",
       " 'login': 7124,\n",
       " 'portal': 9157,\n",
       " 'java': 6130,\n",
       " 'crash': 2477,\n",
       " 'bypass': 1569,\n",
       " 'doe': 3209,\n",
       " 'english': 3673,\n",
       " 'awesom': 913,\n",
       " 'receiv': 9648,\n",
       " 'weekli': 14098,\n",
       " 'email': 3588,\n",
       " 'latest': 6681,\n",
       " 'rememb': 9760,\n",
       " 'pair': 8684,\n",
       " 'blah': 1274,\n",
       " 'thing': 12186,\n",
       " 'eve': 3773,\n",
       " 'bc': 1029,\n",
       " 'lol': 7128,\n",
       " 'click': 1977,\n",
       " 'shortcut': 10632,\n",
       " 'left': 6753,\n",
       " 'bookmark': 1369,\n",
       " 'tab': 11666,\n",
       " 'discuss': 3144,\n",
       " 'alreadi': 416,\n",
       " 'onc': 8471,\n",
       " 'delay': 2835,\n",
       " 'load': 7094,\n",
       " '30': 112,\n",
       " 'second': 10397,\n",
       " 'whatev': 14141,\n",
       " 'tone': 12595,\n",
       " 'week': 14083,\n",
       " 'instruct': 5977,\n",
       " 'help': 5317,\n",
       " 'liter': 7014,\n",
       " 'onli': 8485,\n",
       " 'way': 14012,\n",
       " 'otherwis': 8600,\n",
       " 'sorri': 11027,\n",
       " '20': 69,\n",
       " 'later': 6670,\n",
       " 'ok': 8409,\n",
       " 'wait': 13824,\n",
       " 'word word': 14330,\n",
       " 'someth like': 10972,\n",
       " 'blah blah': 1275,\n",
       " 'fix comput': 4234,\n",
       " '30 second': 116,\n",
       " 'come thi': 2125,\n",
       " 'thi problem': 12081,\n",
       " 'everi week': 3797,\n",
       " 'ask just': 786,\n",
       " 'just follow': 6297,\n",
       " 'follow instruct': 4333,\n",
       " 'tri help': 12733,\n",
       " 'onli way': 8530,\n",
       " 'know help': 6544,\n",
       " 'second later': 10400,\n",
       " 'someth like thi': 10973,\n",
       " 'post': 9169,\n",
       " 'revis': 9900,\n",
       " 'hope': 5664,\n",
       " 'yesterday': 14647,\n",
       " 'came': 1611,\n",
       " 'befor': 1099,\n",
       " 'enjoy': 3677,\n",
       " 'ace': 246,\n",
       " 'eye': 3940,\n",
       " 'pick': 8954,\n",
       " 'question': 9466,\n",
       " 'piec': 8963,\n",
       " 'wasn': 13972,\n",
       " 'hey': 5358,\n",
       " 'atla': 844,\n",
       " 'let': 6788,\n",
       " 'alon': 407,\n",
       " 'grab': 4736,\n",
       " 'twist': 12866,\n",
       " 'pull': 9413,\n",
       " 'remov': 9786,\n",
       " 'said': 10117,\n",
       " 'chirp': 1886,\n",
       " 'wouldn': 14485,\n",
       " 'hurt': 5775,\n",
       " 'notic': 8281,\n",
       " 'isn': 6065,\n",
       " 'crack': 2466,\n",
       " 'took': 12602,\n",
       " 'regular': 9721,\n",
       " 'deterior': 2922,\n",
       " 'materi': 7571,\n",
       " 'hundr': 5760,\n",
       " 'twenti': 12856,\n",
       " 'nod': 8227,\n",
       " 'miss': 7785,\n",
       " 'anyth': 647,\n",
       " 'combat': 2088,\n",
       " 'knife': 6497,\n",
       " 'blue': 1316,\n",
       " 'ting': 12524,\n",
       " 'sheath': 10582,\n",
       " 'facil': 3989,\n",
       " 'saw': 10249,\n",
       " 'old': 8438,\n",
       " 'world': 14464,\n",
       " 'hell': 5307,\n",
       " 'great': 4776,\n",
       " 'war': 13955,\n",
       " 'known': 6606,\n",
       " 'wast': 13992,\n",
       " 'radiat': 9504,\n",
       " 'scan': 10311,\n",
       " 'locat': 7103,\n",
       " 'map': 7527,\n",
       " 'glow': 4600,\n",
       " 'repli': 9805,\n",
       " 'whi': 14156,\n",
       " 'ahead': 355,\n",
       " 'approach': 700,\n",
       " 'ruin': 10066,\n",
       " 'light': 6863,\n",
       " 'shine': 10601,\n",
       " 'brightli': 1459,\n",
       " 'closer': 2017,\n",
       " 'start': 11213,\n",
       " 'becom': 1089,\n",
       " 'red': 9683,\n",
       " 'monster': 7858,\n",
       " 'drip': 3408,\n",
       " 'blood': 1304,\n",
       " 'bodi': 1348,\n",
       " 'spike': 11117,\n",
       " 'scream': 10361,\n",
       " 'charg': 1809,\n",
       " 'readi': 9574,\n",
       " 'gun': 4989,\n",
       " 'shot': 10636,\n",
       " 'bleed': 1289,\n",
       " 'shock': 10614,\n",
       " 'state': 11263,\n",
       " 'heard': 5270,\n",
       " 'groan': 4817,\n",
       " 'chest': 1865,\n",
       " 'stomach': 11326,\n",
       " 'split': 11130,\n",
       " 'grotesqu': 4824,\n",
       " 'broken': 1476,\n",
       " 'rib': 9912,\n",
       " 'sharp': 10576,\n",
       " 'individu': 5898,\n",
       " 'finger': 4206,\n",
       " 'curdl': 2567,\n",
       " 'cri': 2506,\n",
       " 'jaw': 6131,\n",
       " 'half': 5084,\n",
       " 'drop': 3424,\n",
       " 'eat': 3520,\n",
       " 'floor': 4284,\n",
       " 'fell': 4123,\n",
       " 'fuck': 4466,\n",
       " 'got': 4685,\n",
       " 'dead': 2755,\n",
       " 'ran': 9529,\n",
       " 'switch': 11635,\n",
       " 'handgun': 5127,\n",
       " 'kept': 6440,\n",
       " 'bullet': 1528,\n",
       " 'stab': 11172,\n",
       " 'howl': 5732,\n",
       " 'wipe': 14265,\n",
       " 'use': 13030,\n",
       " 'hum': 5749,\n",
       " 'pierc': 8970,\n",
       " 'shell': 10589,\n",
       " 'aliv': 398,\n",
       " 'reload': 9750,\n",
       " 'rifl': 9925,\n",
       " 'went': 14111,\n",
       " 'kill': 6455,\n",
       " 'don': 3258,\n",
       " 'softli': 10900,\n",
       " 'scanner': 10312,\n",
       " 'll': 7046,\n",
       " 'better': 1204,\n",
       " 'chip': 1885,\n",
       " 'head': 5234,\n",
       " 'abl': 181,\n",
       " 'didn': 3015,\n",
       " 'bag': 961,\n",
       " 'worri': 14476,\n",
       " 'okay': 8422,\n",
       " 'nsfw': 8296,\n",
       " 'descript': 2886,\n",
       " 'enemi': 3666,\n",
       " 'origin': 8593,\n",
       " 'wolf': 14288,\n",
       " 'scale': 10308,\n",
       " 'chang': 1780,\n",
       " 'wanna': 13882,\n",
       " 'dive': 3183,\n",
       " 'say thi': 10296,\n",
       " 'thi post': 12076,\n",
       " 'post thi': 9171,\n",
       " 'thi ha': 11989,\n",
       " 'guy like': 5010,\n",
       " 'like wa': 6972,\n",
       " 'everyth fine': 3817,\n",
       " 'thi stori': 12123,\n",
       " 'look eye': 7178,\n",
       " 'question wa': 9474,\n",
       " 'wa new': 13603,\n",
       " 'let alon': 6789,\n",
       " 'word say': 14326,\n",
       " 'make eye': 7402,\n",
       " 'hi new': 5498,\n",
       " 'new friend': 8139,\n",
       " 'pull hi': 9417,\n",
       " 'hi right': 5523,\n",
       " 'right eye': 9939,\n",
       " 'eye hi': 3947,\n",
       " 'wasn work': 13989,\n",
       " 'isn work': 6071,\n",
       " 'look like': 7197,\n",
       " 'took hi': 12609,\n",
       " 'hi left': 5474,\n",
       " 'left hi': 6759,\n",
       " 'twenti year': 12858,\n",
       " 'saw hi': 10250,\n",
       " 'hi old': 5501,\n",
       " 'happen wa': 5162,\n",
       " 'world war': 14473,\n",
       " 'light shine': 6871,\n",
       " 'start becom': 11215,\n",
       " 'bodi like': 1350,\n",
       " 'hi gun': 5449,\n",
       " 'hell wa': 5310,\n",
       " 'wa wa': 13787,\n",
       " 'point hi': 9109,\n",
       " 'wa anoth': 13331,\n",
       " 'thi time': 12145,\n",
       " 'stomach wa': 11327,\n",
       " 'wa broken': 13363,\n",
       " 'second befor': 10398,\n",
       " 'befor make': 1129,\n",
       " 'fuck wa': 4471,\n",
       " 'multipl time': 7946,\n",
       " 'wipe away': 14266,\n",
       " 'wa ask': 13336,\n",
       " 'like use': 6970,\n",
       " 'second wa': 10406,\n",
       " 'wa aliv': 13320,\n",
       " 'check make': 1839,\n",
       " 'make sure': 7431,\n",
       " 'sure don': 11560,\n",
       " 'thi right': 12094,\n",
       " 'll abl': 7047,\n",
       " 'told didn': 12569,\n",
       " 'didn know': 3035,\n",
       " 'know long': 6556,\n",
       " 'hi bag': 5378,\n",
       " 'don worri': 3323,\n",
       " 'thi wa': 12162,\n",
       " 'wa lot': 13571,\n",
       " 'like read': 6947,\n",
       " 'thank time': 11883,\n",
       " 'time time': 12495,\n",
       " 'time read': 12472,\n",
       " 'read thi': 9571,\n",
       " 'thi hope': 11998,\n",
       " 'hope enjoy': 5668,\n",
       " 'check make sure': 1840,\n",
       " 'recent': 9652,\n",
       " 'introduct': 6029,\n",
       " 'thought': 12308,\n",
       " 'anxieti': 630,\n",
       " 'level': 6818,\n",
       " 'door': 3333,\n",
       " 'shut': 10654,\n",
       " 'footstep': 4351,\n",
       " 'echo': 3525,\n",
       " 'narrow': 7995,\n",
       " 'hallway': 5098,\n",
       " 'amp': 478,\n",
       " 'nbsp': 8008,\n",
       " 'reach': 9555,\n",
       " 'entranc': 3705,\n",
       " 'loung': 7272,\n",
       " 'paus': 8780,\n",
       " 'slight': 10800,\n",
       " 'frame': 4403,\n",
       " 'stream': 11403,\n",
       " 'immedi': 5833,\n",
       " 'knee': 6481,\n",
       " 'previous': 9262,\n",
       " 'smile': 10848,\n",
       " 'form': 4374,\n",
       " 'face': 3974,\n",
       " 'step': 11289,\n",
       " 'grew': 4798,\n",
       " 'desir': 2891,\n",
       " 'contain': 2329,\n",
       " 'mmm': 7802,\n",
       " 'mumbl': 7948,\n",
       " 'boy': 1406,\n",
       " 'hold': 5617,\n",
       " 'waist': 13823,\n",
       " 'convinc': 2361,\n",
       " 'directli': 3118,\n",
       " 'stand': 11196,\n",
       " 'revel': 9891,\n",
       " 'held': 5301,\n",
       " 'recent start': 9653,\n",
       " 'start write': 11255,\n",
       " 'came thi': 1618,\n",
       " 'thought share': 12323,\n",
       " 'door open': 3340,\n",
       " 'amp nbsp': 479,\n",
       " 'nbsp amp': 8009,\n",
       " 'took time': 12619,\n",
       " 'time walk': 12509,\n",
       " 'walk step': 13862,\n",
       " 'wa struggl': 13736,\n",
       " 'step outsid': 11297,\n",
       " 'wa desper': 13418,\n",
       " 'feel wa': 4121,\n",
       " 'wa convinc': 13396,\n",
       " 'amp nbsp amp': 480,\n",
       " 'nbsp amp nbsp': 8010,\n",
       " 'mobil': 7805,\n",
       " 'background': 936,\n",
       " 'broadband': 1472,\n",
       " 'cabl': 1578,\n",
       " 'tv': 12851,\n",
       " 'landlin': 6641,\n",
       " 'phone': 8922,\n",
       " 'internet': 6002,\n",
       " 'instal': 5961,\n",
       " 'troubl': 12797,\n",
       " 'tho': 12302,\n",
       " 'strang': 11392,\n",
       " '2007': 82,\n",
       " 'special': 11082,\n",
       " 'request': 9823,\n",
       " 'kind': 6459,\n",
       " 'cam': 1609,\n",
       " 'cover': 2450,\n",
       " 'ground': 4825,\n",
       " 'servic': 10498,\n",
       " 'simpli': 10695,\n",
       " 'caller': 1602,\n",
       " 'neighbor': 8091,\n",
       " 'steal': 11280,\n",
       " 'cool': 2366,\n",
       " 'unit': 12957,\n",
       " 'fast': 4050,\n",
       " 'close': 2006,\n",
       " 'apart': 672,\n",
       " 'custom': 2584,\n",
       " 'hous': 5721,\n",
       " 'insid': 5948,\n",
       " 'termin': 11841,\n",
       " 'earlier': 3498,\n",
       " 'stair': 11185,\n",
       " 'set': 10505,\n",
       " 'hall': 5095,\n",
       " 'someon': 10936,\n",
       " 'run': 10073,\n",
       " 'ye': 14576,\n",
       " 'buddi': 1510,\n",
       " 'closet': 2021,\n",
       " 'storag': 11347,\n",
       " 'lock': 7105,\n",
       " 'free': 4413,\n",
       " 'game': 4508,\n",
       " 'expect': 3892,\n",
       " 'offici': 8372,\n",
       " 'reflect': 9705,\n",
       " 'vest': 13236,\n",
       " 'anywher': 667,\n",
       " 'attic': 857,\n",
       " 'larg': 6657,\n",
       " 'board': 1342,\n",
       " 'middl': 7711,\n",
       " 'junk': 6252,\n",
       " 'variou': 13160,\n",
       " 'low': 7301,\n",
       " 'rent': 9793,\n",
       " 'forgotten': 4372,\n",
       " 'smell': 10845,\n",
       " 'corner': 2379,\n",
       " 'earli': 3494,\n",
       " 'fall': 4013,\n",
       " 'bit': 1250,\n",
       " 'morn': 7885,\n",
       " 'news': 8181,\n",
       " 'polic': 9126,\n",
       " 'discoveri': 3142,\n",
       " 'badli': 958,\n",
       " 'oh': 8375,\n",
       " 'sh': 10541,\n",
       " 'yup': 14669,\n",
       " 'bo': 1329,\n",
       " 'answer': 605,\n",
       " 'offic': 8355,\n",
       " 'tell': 11784,\n",
       " 'payment': 8790,\n",
       " 'desk': 2892,\n",
       " 'yeah': 14600,\n",
       " 'legal': 6769,\n",
       " 'permiss': 8886,\n",
       " 'talk': 11685,\n",
       " 'hour': 5701,\n",
       " 'decid': 2790,\n",
       " 'crime': 2513,\n",
       " 'scene': 10323,\n",
       " 'interview': 6019,\n",
       " 'local': 7100,\n",
       " 'cop': 2370,\n",
       " 'inform': 5914,\n",
       " 'ad': 270,\n",
       " 'report': 9810,\n",
       " 'le': 6714,\n",
       " 'foot': 4344,\n",
       " 'solid': 10921,\n",
       " 'death': 2775,\n",
       " 'fluid': 4307,\n",
       " 'leak': 6722,\n",
       " 'stain': 11184,\n",
       " 'ceil': 1745,\n",
       " 'bed': 1090,\n",
       " 'woman': 14289,\n",
       " 'man': 7461,\n",
       " 'month': 7861,\n",
       " 'nearbi': 8016,\n",
       " 'ga': 4501,\n",
       " 'station': 11268,\n",
       " 'dealer': 2766,\n",
       " 'overdos': 8635,\n",
       " 'prove': 9388,\n",
       " 'dump': 3453,\n",
       " 'coher': 2062,\n",
       " 'challeng': 1776,\n",
       " 'beat': 1039,\n",
       " 'elabor': 3556,\n",
       " 'paid': 8678,\n",
       " 'compani year': 2172,\n",
       " 'work say': 14423,\n",
       " 'time thought': 12494,\n",
       " 'thought thing': 12327,\n",
       " 'work order': 14407,\n",
       " 'job thi': 6205,\n",
       " 'thi kind': 12012,\n",
       " 'chang someth': 1792,\n",
       " 'build wa': 1521,\n",
       " 'wa simpli': 13708,\n",
       " 'thi build': 11926,\n",
       " 'onli ha': 8498,\n",
       " 'custom start': 2595,\n",
       " 'start check': 11216,\n",
       " 'step thi': 11299,\n",
       " 'someon ha': 10940,\n",
       " 'ha just': 5043,\n",
       " 'just run': 6364,\n",
       " 'thi cabl': 11929,\n",
       " 'door look': 3339,\n",
       " 'door lock': 3338,\n",
       " 'open door': 8548,\n",
       " 'year thi': 14635,\n",
       " 'smell like': 10846,\n",
       " 'long wa': 7150,\n",
       " 'wa earli': 13435,\n",
       " 'wa bit': 13355,\n",
       " 'morn wa': 7892,\n",
       " 'don ani': 3261,\n",
       " 'heard thi': 5274,\n",
       " 'thi went': 12175,\n",
       " 'wa just': 13533,\n",
       " 'bodi wa': 1351,\n",
       " 'servic desk': 10499,\n",
       " 'becaus wa': 1083,\n",
       " 'thing say': 12230,\n",
       " 'noth like': 8272,\n",
       " 'onli took': 8526,\n",
       " 'took hour': 12611,\n",
       " 'yeah wa': 14609,\n",
       " 'got someth': 4715,\n",
       " 'later wa': 6680,\n",
       " 'wa le': 13547,\n",
       " 'wa man': 13577,\n",
       " 'ga station': 4502,\n",
       " 'want check': 13892,\n",
       " 'went hi': 14116,\n",
       " 'sure know': 11569,\n",
       " 'tri rememb': 12751,\n",
       " 'ask question': 798,\n",
       " 'whi said': 14180,\n",
       " 'phone just': 8928,\n",
       " 'blah blah blah': 1276,\n",
       " 'doubl': 3353,\n",
       " 'robin': 9999,\n",
       " 'poet': 9097,\n",
       " 'editor': 3537,\n",
       " 'master': 7565,\n",
       " 'degre': 2832,\n",
       " 'school': 10330,\n",
       " 'journal': 6230,\n",
       " 'poem': 9093,\n",
       " 'fifth': 4159,\n",
       " 'estat': 3753,\n",
       " 'star': 11204,\n",
       " 'halfway': 5094,\n",
       " 'tini': 12526,\n",
       " 'spoon': 11138,\n",
       " 'unicorn': 12948,\n",
       " 'neg': 8087,\n",
       " 'capabl': 1645,\n",
       " 'public': 9406,\n",
       " 'antholog': 623,\n",
       " 'partner': 8733,\n",
       " 'product': 9331,\n",
       " 'written': 14526,\n",
       " 'edit': 3535,\n",
       " 'contribut': 2347,\n",
       " 'sixti': 10755,\n",
       " 'includ': 5871,\n",
       " 'john': 6212,\n",
       " 'current': 2574,\n",
       " 'posit': 9163,\n",
       " 'project': 9347,\n",
       " 'director': 3119,\n",
       " 'publish': 9408,\n",
       " 'lunch': 7331,\n",
       " 'alex': 387,\n",
       " 'togeth': 12559,\n",
       " 'ourselv': 8605,\n",
       " 'beg': 1148,\n",
       " 'trace': 12653,\n",
       " 'retrospect': 9884,\n",
       " 'interpret': 6012,\n",
       " 'intersect': 6015,\n",
       " 'histori': 5598,\n",
       " 'artifact': 749,\n",
       " 'braid': 1415,\n",
       " 'divorc': 3189,\n",
       " 'attend': 854,\n",
       " 'past': 8754,\n",
       " 'care': 1666,\n",
       " 'observ': 8330,\n",
       " 'shadow': 10546,\n",
       " 'inherit': 5929,\n",
       " 'lesson': 6785,\n",
       " 've': 13164,\n",
       " 'laugh': 6683,\n",
       " 'funni': 4486,\n",
       " 'mysteri': 7975,\n",
       " 'conceal': 2250,\n",
       " 'render': 9789,\n",
       " 'space': 11057,\n",
       " 'recoveri': 9676,\n",
       " 'faith': 4011,\n",
       " 'st': 11171,\n",
       " 'rage': 9509,\n",
       " 'vault': 13162,\n",
       " 'speak': 11071,\n",
       " 'voic': 13289,\n",
       " 'delic': 2841,\n",
       " 'famili': 4026,\n",
       " 'eleph': 3568,\n",
       " ...}"
      ]
     },
     "execution_count": 7,
     "metadata": {},
     "output_type": "execute_result"
    }
   ],
   "source": [
    "# looking at vocabulary\n",
    "tvec.vocabulary_"
   ]
  },
  {
   "cell_type": "code",
   "execution_count": 8,
   "id": "e20e39e4-dfcf-432f-91ed-6ec57d68ba79",
   "metadata": {},
   "outputs": [],
   "source": [
    "# gets the feature names, commented out bc super long\n",
    "# tvec.get_feature_names()"
   ]
  },
  {
   "cell_type": "code",
   "execution_count": 9,
   "id": "f9fc68d4-d389-4118-83ee-c93f26346dc3",
   "metadata": {},
   "outputs": [
    {
     "data": {
      "text/plain": [
       "scipy.sparse.csr.csr_matrix"
      ]
     },
     "execution_count": 9,
     "metadata": {},
     "output_type": "execute_result"
    }
   ],
   "source": [
    "type(Z_train)"
   ]
  },
  {
   "cell_type": "code",
   "execution_count": 10,
   "id": "1b2a770d-1946-4209-a4fc-ebe2d34bea0d",
   "metadata": {},
   "outputs": [
    {
     "data": {
      "image/png": "[encoded data removed]",
      "text/plain": [
       "<Figure size 432x288 with 1 Axes>"
      ]
     },
     "metadata": {
      "needs_background": "light"
     },
     "output_type": "display_data"
    }
   ],
   "source": [
    "# Convert X_train into a DataFrame.\n",
    "Z_train_df = pd.DataFrame(Z_train.toarray(), columns=tvec.get_feature_names())\n",
    "\n",
    "# plot top occuring words\n",
    "Z_train_df.sum().sort_values(ascending=False).head(10).plot(kind='barh');"
   ]
  },
  {
   "cell_type": "markdown",
   "id": "2018819a-a9e4-4715-9690-91ee7196b7ad",
   "metadata": {},
   "source": [
    "### Logistic Regression Model Scoring"
   ]
  },
  {
   "cell_type": "code",
   "execution_count": 11,
   "id": "04bd83a8-e595-4d0a-b3bf-df82515f80b6",
   "metadata": {},
   "outputs": [
    {
     "data": {
      "text/plain": [
       "0.9943080754180007"
      ]
     },
     "execution_count": 11,
     "metadata": {},
     "output_type": "execute_result"
    }
   ],
   "source": [
    "# instantiate and fit model\n",
    "lr = LogisticRegression(solver = 'lbfgs', max_iter=5000)\n",
    "lr.fit(Z_train_df, y_train)\n",
    "# scoring train data model\n",
    "lr.score(Z_train,y_train)"
   ]
  },
  {
   "cell_type": "code",
   "execution_count": 12,
   "id": "875026e4-0c93-4f06-a590-9d08f9d6a102",
   "metadata": {},
   "outputs": [
    {
     "data": {
      "text/plain": [
       "0.9868373107870457"
      ]
     },
     "execution_count": 12,
     "metadata": {},
     "output_type": "execute_result"
    }
   ],
   "source": [
    "cross_val_score(lr, Z_train_df, y_train, cv=5).mean()"
   ]
  },
  {
   "cell_type": "code",
   "execution_count": 13,
   "id": "c9d14069-8ce9-4b7b-96d7-3f42db31a0c3",
   "metadata": {},
   "outputs": [],
   "source": [
    "# transform test\n",
    "Z_test=tvec.transform(X_test)"
   ]
  },
  {
   "cell_type": "code",
   "execution_count": 14,
   "id": "b8d94202-6a46-4f12-aefa-62efbf442cc1",
   "metadata": {},
   "outputs": [],
   "source": [
    "# creating Z_test DataFrame\n",
    "Z_test_df = pd.DataFrame(Z_test.toarray(), columns=tvec.get_feature_names())\n"
   ]
  },
  {
   "cell_type": "code",
   "execution_count": 15,
   "id": "f7369eba-c334-4072-8a07-26f066ed815f",
   "metadata": {},
   "outputs": [
    {
     "data": {
      "text/plain": [
       "0.9908713692946058"
      ]
     },
     "execution_count": 15,
     "metadata": {},
     "output_type": "execute_result"
    }
   ],
   "source": [
    "# scoring test data model\n",
    "lr.score(Z_test,y_test)"
   ]
  },
  {
   "cell_type": "markdown",
   "id": "106c227b-6cb9-49b3-8084-2a154b9a2f9e",
   "metadata": {},
   "source": [
    "### Random Forest Classifier Model Scoring"
   ]
  },
  {
   "cell_type": "code",
   "execution_count": 16,
   "id": "7157efae-e6cd-4832-b548-74abc3073974",
   "metadata": {},
   "outputs": [
    {
     "data": {
      "text/plain": [
       "0.9989327641408752"
      ]
     },
     "execution_count": 16,
     "metadata": {},
     "output_type": "execute_result"
    }
   ],
   "source": [
    "# instantiate and fit model\n",
    "rf = RandomForestClassifier(n_estimators=200, \n",
    "                            max_depth=None, \n",
    "                            max_features='log2', \n",
    "                            min_samples_split=50)\n",
    "rf.fit(Z_train_df, y_train)\n",
    "# scoring train model data\n",
    "rf.score(Z_train, y_train)"
   ]
  },
  {
   "cell_type": "code",
   "execution_count": 17,
   "id": "ebdb0e93-5d58-4c75-91d6-400c34cd06c7",
   "metadata": {},
   "outputs": [
    {
     "data": {
      "text/plain": [
       "0.9856514930657369"
      ]
     },
     "execution_count": 17,
     "metadata": {},
     "output_type": "execute_result"
    }
   ],
   "source": [
    "cross_val_score(rf,Z_train_df,y_train,cv=5).mean()"
   ]
  },
  {
   "cell_type": "code",
   "execution_count": 18,
   "id": "787f8d87-40d0-4cae-87bf-609a17dfc152",
   "metadata": {},
   "outputs": [
    {
     "data": {
      "text/plain": [
       "0.9869986168741356"
      ]
     },
     "execution_count": 18,
     "metadata": {},
     "output_type": "execute_result"
    }
   ],
   "source": [
    "rf.score(Z_test,y_test)"
   ]
  },
  {
   "cell_type": "markdown",
   "id": "84241550-665a-4dc9-b69d-5e2fee06bb78",
   "metadata": {},
   "source": [
    "### Logistic Regression Model Features Strength"
   ]
  },
  {
   "cell_type": "code",
   "execution_count": 19,
   "id": "c03a2b68-e830-4765-9d04-ca900e6334a6",
   "metadata": {},
   "outputs": [
    {
     "data": {
      "text/plain": [
       "wa        472.870665\n",
       "thi       339.963547\n",
       "hi        279.978048\n",
       "gt        262.470357\n",
       "just      202.529865\n",
       "work      196.976697\n",
       "like      192.663292\n",
       "time      174.686860\n",
       "know      165.552989\n",
       "look      150.386364\n",
       "want      146.752229\n",
       "user      145.698723\n",
       "don       140.631350\n",
       "write     139.630146\n",
       "day       139.227789\n",
       "need      128.158764\n",
       "feel      127.892802\n",
       "love      127.022463\n",
       "amp       124.363469\n",
       "comput    122.206176\n",
       "dtype: float64"
      ]
     },
     "execution_count": 19,
     "metadata": {},
     "output_type": "execute_result"
    }
   ],
   "source": [
    "Z_train_df.sum().sort_values(ascending=False).head(20)"
   ]
  },
  {
   "cell_type": "code",
   "execution_count": 20,
   "id": "37225b49-ef78-4f79-a9bf-dd0f37a2a088",
   "metadata": {},
   "outputs": [
    {
     "data": {
      "text/plain": [
       "wa       205.109820\n",
       "thi      144.647927\n",
       "hi       122.559307\n",
       "gt       114.509535\n",
       "just      89.778614\n",
       "like      84.398255\n",
       "work      82.801795\n",
       "time      73.684790\n",
       "know      73.429447\n",
       "want      67.690871\n",
       "look      64.384850\n",
       "user      63.136178\n",
       "love      62.226365\n",
       "don       61.115540\n",
       "write     60.002654\n",
       "day       59.905134\n",
       "feel      56.664539\n",
       "need      55.479236\n",
       "make      54.334998\n",
       "tri       53.164820\n",
       "dtype: float64"
      ]
     },
     "execution_count": 20,
     "metadata": {},
     "output_type": "execute_result"
    }
   ],
   "source": [
    "Z_test_df.sum().sort_values(ascending=False).head(20)"
   ]
  },
  {
   "cell_type": "markdown",
   "id": "77db50de-ef0c-4777-aaff-89455110d9ef",
   "metadata": {},
   "source": [
    "Looking at the strength of the features can help in predicting the subreddits.  Since we classified the creative writing subreddit posts as 0 and the tech support subreddit posts as 1, features with a negative correlation will correspond with the creative writing subreddit and features with a positive correlation will correspond with the tech support subreddit."
   ]
  },
  {
   "cell_type": "markdown",
   "id": "85e84e4d-7cc6-4b23-a86e-bd31811015fb",
   "metadata": {},
   "source": [
    "## Feature Plots"
   ]
  },
  {
   "cell_type": "code",
   "execution_count": 21,
   "id": "0ab88ddf-0950-48fe-a808-0ecabb78feff",
   "metadata": {},
   "outputs": [
    {
     "data": {
      "text/plain": [
       "[(-4.413926884477267, 'write'),\n",
       " (-3.26363835682511, 'love'),\n",
       " (-3.0690186182181423, 'feel'),\n",
       " (-2.9350376077128746, 'life'),\n",
       " (-2.583191811387755, 'eye'),\n",
       " (-2.5418051581676284, 'creativ'),\n",
       " (-2.329417031880311, 'world'),\n",
       " (-2.1409958057949856, 'poem'),\n",
       " (-1.9699033917223847, 'writer'),\n",
       " (-1.8629999138012536, 'book'),\n",
       " (3.4757353112216314, 'laptop'),\n",
       " (3.5796495043889904, 'phone'),\n",
       " (3.657954863975696, 'email'),\n",
       " (3.672177168373572, 'support'),\n",
       " (3.7963536751817397, 'custom'),\n",
       " (4.200313115793163, 'tech'),\n",
       " (5.356575822026303, 'user'),\n",
       " (5.395534255117865, 'work'),\n",
       " (5.56144263199051, 'comput'),\n",
       " (5.686537668678329, 'gt')]"
      ]
     },
     "execution_count": 21,
     "metadata": {},
     "output_type": "execute_result"
    }
   ],
   "source": [
    "# getting the most positively correlated and negatively correlated features \n",
    "# which would correspond to the creative writing and tech support subreddits \n",
    "best_features = sorted(list(zip(lr.coef_[0], tvec.get_feature_names())))\n",
    "best_features[:10] + best_features[-10:]"
   ]
  },
  {
   "cell_type": "code",
   "execution_count": 22,
   "id": "297ad579-c9b3-452d-bb49-914fb0987d1d",
   "metadata": {},
   "outputs": [
    {
     "data": {
      "text/html": [
       "<div>\n",
       "<style scoped>\n",
       "    .dataframe tbody tr th:only-of-type {\n",
       "        vertical-align: middle;\n",
       "    }\n",
       "\n",
       "    .dataframe tbody tr th {\n",
       "        vertical-align: top;\n",
       "    }\n",
       "\n",
       "    .dataframe thead th {\n",
       "        text-align: right;\n",
       "    }\n",
       "</style>\n",
       "<table border=\"1\" class=\"dataframe\">\n",
       "  <thead>\n",
       "    <tr style=\"text-align: right;\">\n",
       "      <th></th>\n",
       "      <th>feature</th>\n",
       "      <th>corr_coef_</th>\n",
       "    </tr>\n",
       "  </thead>\n",
       "  <tbody>\n",
       "    <tr>\n",
       "      <th>0</th>\n",
       "      <td>write</td>\n",
       "      <td>-4.413927</td>\n",
       "    </tr>\n",
       "    <tr>\n",
       "      <th>1</th>\n",
       "      <td>love</td>\n",
       "      <td>-3.263638</td>\n",
       "    </tr>\n",
       "    <tr>\n",
       "      <th>2</th>\n",
       "      <td>feel</td>\n",
       "      <td>-3.069019</td>\n",
       "    </tr>\n",
       "    <tr>\n",
       "      <th>3</th>\n",
       "      <td>life</td>\n",
       "      <td>-2.935038</td>\n",
       "    </tr>\n",
       "    <tr>\n",
       "      <th>4</th>\n",
       "      <td>eye</td>\n",
       "      <td>-2.583192</td>\n",
       "    </tr>\n",
       "    <tr>\n",
       "      <th>5</th>\n",
       "      <td>creativ</td>\n",
       "      <td>-2.541805</td>\n",
       "    </tr>\n",
       "    <tr>\n",
       "      <th>6</th>\n",
       "      <td>world</td>\n",
       "      <td>-2.329417</td>\n",
       "    </tr>\n",
       "    <tr>\n",
       "      <th>7</th>\n",
       "      <td>poem</td>\n",
       "      <td>-2.140996</td>\n",
       "    </tr>\n",
       "    <tr>\n",
       "      <th>8</th>\n",
       "      <td>writer</td>\n",
       "      <td>-1.969903</td>\n",
       "    </tr>\n",
       "    <tr>\n",
       "      <th>9</th>\n",
       "      <td>book</td>\n",
       "      <td>-1.863000</td>\n",
       "    </tr>\n",
       "    <tr>\n",
       "      <th>10</th>\n",
       "      <td>heart</td>\n",
       "      <td>-1.697136</td>\n",
       "    </tr>\n",
       "    <tr>\n",
       "      <th>11</th>\n",
       "      <td>like</td>\n",
       "      <td>-1.660384</td>\n",
       "    </tr>\n",
       "    <tr>\n",
       "      <th>12</th>\n",
       "      <td>charact</td>\n",
       "      <td>-1.625305</td>\n",
       "    </tr>\n",
       "    <tr>\n",
       "      <th>13</th>\n",
       "      <td>mind</td>\n",
       "      <td>-1.565785</td>\n",
       "    </tr>\n",
       "    <tr>\n",
       "      <th>14</th>\n",
       "      <td>man</td>\n",
       "      <td>-1.560343</td>\n",
       "    </tr>\n",
       "    <tr>\n",
       "      <th>15</th>\n",
       "      <td>ve</td>\n",
       "      <td>-1.524380</td>\n",
       "    </tr>\n",
       "    <tr>\n",
       "      <th>16</th>\n",
       "      <td>beauti</td>\n",
       "      <td>-1.469044</td>\n",
       "    </tr>\n",
       "    <tr>\n",
       "      <th>17</th>\n",
       "      <td>thought</td>\n",
       "      <td>-1.451811</td>\n",
       "    </tr>\n",
       "    <tr>\n",
       "      <th>18</th>\n",
       "      <td>stori</td>\n",
       "      <td>-1.446349</td>\n",
       "    </tr>\n",
       "    <tr>\n",
       "      <th>19</th>\n",
       "      <td>felt</td>\n",
       "      <td>-1.424398</td>\n",
       "    </tr>\n",
       "  </tbody>\n",
       "</table>\n",
       "</div>"
      ],
      "text/plain": [
       "    feature  corr_coef_\n",
       "0     write   -4.413927\n",
       "1      love   -3.263638\n",
       "2      feel   -3.069019\n",
       "3      life   -2.935038\n",
       "4       eye   -2.583192\n",
       "5   creativ   -2.541805\n",
       "6     world   -2.329417\n",
       "7      poem   -2.140996\n",
       "8    writer   -1.969903\n",
       "9      book   -1.863000\n",
       "10    heart   -1.697136\n",
       "11     like   -1.660384\n",
       "12  charact   -1.625305\n",
       "13     mind   -1.565785\n",
       "14      man   -1.560343\n",
       "15       ve   -1.524380\n",
       "16   beauti   -1.469044\n",
       "17  thought   -1.451811\n",
       "18    stori   -1.446349\n",
       "19     felt   -1.424398"
      ]
     },
     "execution_count": 22,
     "metadata": {},
     "output_type": "execute_result"
    }
   ],
   "source": [
    "# making feature list for creative writing and converting to dataframe\n",
    "creative_features = []\n",
    "for a,b in best_features[:20]:\n",
    "    features = {}\n",
    "    features['feature'] = b\n",
    "    features['corr_coef_'] = a\n",
    "    creative_features.append(features)\n",
    "creative_df = pd.DataFrame(creative_features)\n",
    "creative_df.head(20)\n",
    "    "
   ]
  },
  {
   "cell_type": "code",
   "execution_count": 23,
   "id": "1f248e63-c3b5-4ee2-81f4-889725fc7858",
   "metadata": {},
   "outputs": [
    {
     "data": {
      "text/html": [
       "<div>\n",
       "<style scoped>\n",
       "    .dataframe tbody tr th:only-of-type {\n",
       "        vertical-align: middle;\n",
       "    }\n",
       "\n",
       "    .dataframe tbody tr th {\n",
       "        vertical-align: top;\n",
       "    }\n",
       "\n",
       "    .dataframe thead th {\n",
       "        text-align: right;\n",
       "    }\n",
       "</style>\n",
       "<table border=\"1\" class=\"dataframe\">\n",
       "  <thead>\n",
       "    <tr style=\"text-align: right;\">\n",
       "      <th></th>\n",
       "      <th>feature</th>\n",
       "      <th>corr_coef_</th>\n",
       "    </tr>\n",
       "  </thead>\n",
       "  <tbody>\n",
       "    <tr>\n",
       "      <th>0</th>\n",
       "      <td>gt</td>\n",
       "      <td>5.686538</td>\n",
       "    </tr>\n",
       "    <tr>\n",
       "      <th>1</th>\n",
       "      <td>comput</td>\n",
       "      <td>5.561443</td>\n",
       "    </tr>\n",
       "    <tr>\n",
       "      <th>2</th>\n",
       "      <td>work</td>\n",
       "      <td>5.395534</td>\n",
       "    </tr>\n",
       "    <tr>\n",
       "      <th>3</th>\n",
       "      <td>user</td>\n",
       "      <td>5.356576</td>\n",
       "    </tr>\n",
       "    <tr>\n",
       "      <th>4</th>\n",
       "      <td>tech</td>\n",
       "      <td>4.200313</td>\n",
       "    </tr>\n",
       "    <tr>\n",
       "      <th>5</th>\n",
       "      <td>custom</td>\n",
       "      <td>3.796354</td>\n",
       "    </tr>\n",
       "    <tr>\n",
       "      <th>6</th>\n",
       "      <td>support</td>\n",
       "      <td>3.672177</td>\n",
       "    </tr>\n",
       "    <tr>\n",
       "      <th>7</th>\n",
       "      <td>email</td>\n",
       "      <td>3.657955</td>\n",
       "    </tr>\n",
       "    <tr>\n",
       "      <th>8</th>\n",
       "      <td>phone</td>\n",
       "      <td>3.579650</td>\n",
       "    </tr>\n",
       "    <tr>\n",
       "      <th>9</th>\n",
       "      <td>laptop</td>\n",
       "      <td>3.475735</td>\n",
       "    </tr>\n",
       "    <tr>\n",
       "      <th>10</th>\n",
       "      <td>fix</td>\n",
       "      <td>3.277960</td>\n",
       "    </tr>\n",
       "    <tr>\n",
       "      <th>11</th>\n",
       "      <td>issu</td>\n",
       "      <td>3.184344</td>\n",
       "    </tr>\n",
       "    <tr>\n",
       "      <th>12</th>\n",
       "      <td>printer</td>\n",
       "      <td>3.083788</td>\n",
       "    </tr>\n",
       "    <tr>\n",
       "      <th>13</th>\n",
       "      <td>ticket</td>\n",
       "      <td>2.960208</td>\n",
       "    </tr>\n",
       "    <tr>\n",
       "      <th>14</th>\n",
       "      <td>password</td>\n",
       "      <td>2.954885</td>\n",
       "    </tr>\n",
       "    <tr>\n",
       "      <th>15</th>\n",
       "      <td>server</td>\n",
       "      <td>2.895395</td>\n",
       "    </tr>\n",
       "    <tr>\n",
       "      <th>16</th>\n",
       "      <td>problem</td>\n",
       "      <td>2.880766</td>\n",
       "    </tr>\n",
       "    <tr>\n",
       "      <th>17</th>\n",
       "      <td>bo</td>\n",
       "      <td>2.827968</td>\n",
       "    </tr>\n",
       "    <tr>\n",
       "      <th>18</th>\n",
       "      <td>offic</td>\n",
       "      <td>2.742299</td>\n",
       "    </tr>\n",
       "    <tr>\n",
       "      <th>19</th>\n",
       "      <td>manag</td>\n",
       "      <td>2.715066</td>\n",
       "    </tr>\n",
       "  </tbody>\n",
       "</table>\n",
       "</div>"
      ],
      "text/plain": [
       "     feature  corr_coef_\n",
       "0         gt    5.686538\n",
       "1     comput    5.561443\n",
       "2       work    5.395534\n",
       "3       user    5.356576\n",
       "4       tech    4.200313\n",
       "5     custom    3.796354\n",
       "6    support    3.672177\n",
       "7      email    3.657955\n",
       "8      phone    3.579650\n",
       "9     laptop    3.475735\n",
       "10       fix    3.277960\n",
       "11      issu    3.184344\n",
       "12   printer    3.083788\n",
       "13    ticket    2.960208\n",
       "14  password    2.954885\n",
       "15    server    2.895395\n",
       "16   problem    2.880766\n",
       "17        bo    2.827968\n",
       "18     offic    2.742299\n",
       "19     manag    2.715066"
      ]
     },
     "execution_count": 23,
     "metadata": {},
     "output_type": "execute_result"
    }
   ],
   "source": [
    "# making feature list for tech support \n",
    "tech_features = []\n",
    "for a,b in best_features[:-21:-1]:\n",
    "    features = {}\n",
    "    features['feature'] = b\n",
    "    features['corr_coef_'] = a\n",
    "    tech_features.append(features)\n",
    "tech_df = pd.DataFrame(tech_features)\n",
    "tech_df.head(20)"
   ]
  },
  {
   "cell_type": "code",
   "execution_count": 44,
   "id": "60c2581a-6f72-48c3-be7f-dacd17885d21",
   "metadata": {},
   "outputs": [
    {
     "data": {
      "image/png": "[encoded data removed]",
      "text/plain": [
       "<Figure size 720x576 with 1 Axes>"
      ]
     },
     "metadata": {},
     "output_type": "display_data"
    }
   ],
   "source": [
    "# plotting features with strongest correlations for creative writing subreddit\n",
    "plt.figure(figsize=(10,8))\n",
    "sns.barplot(data=creative_df, x='corr_coef_', y='feature').invert_xaxis()\n",
    "plt.xlabel('Coefficient Strength', size=14)\n",
    "plt.ylabel('Words', size=14)\n",
    "plt.yticks(size=14)\n",
    "plt.xticks(size=14)\n",
    "plt.title('Top 20 Words Predictive Correlation for Creative Writing Subreddit', size=20)\n",
    "sns.despine(left=True, bottom=True)\n",
    "plt.savefig('20wordscreativewriting');"
   ]
  },
  {
   "cell_type": "markdown",
   "id": "d22fb7e4-8ba1-447a-99af-c7020639c1ae",
   "metadata": {},
   "source": [
    "n: The above image represents the words in the Creative Writing subreddit with the highest negative coefficients."
   ]
  },
  {
   "cell_type": "code",
   "execution_count": 43,
   "id": "b0230a7d-7b30-499d-8682-fd36e1ee3167",
   "metadata": {},
   "outputs": [
    {
     "data": {
      "image/png": "[encoded data removed]",
      "text/plain": [
       "<Figure size 720x576 with 1 Axes>"
      ]
     },
     "metadata": {},
     "output_type": "display_data"
    }
   ],
   "source": [
    "# plotting features with strongest correlations for creative writing subreddit\n",
    "plt.figure(figsize=(10,8))\n",
    "sns.barplot(data=tech_df, x='corr_coef_', y='feature')\n",
    "plt.xlabel('Coefficient Strength', size=14)\n",
    "plt.ylabel('Words', size=14)\n",
    "plt.yticks(size=14)\n",
    "plt.xticks(size=14)\n",
    "plt.title('Top 20 Words Predictive Correlation for Tech Support Subreddit', size=20)\n",
    "sns.despine(left=True, bottom=True);\n",
    "plt.savefig('20wordstechsupport')"
   ]
  },
  {
   "cell_type": "markdown",
   "id": "ca898ee1-b077-4261-a5da-eb4b1ef52499",
   "metadata": {},
   "source": [
    "n: The above image represents the words in the Tech Support subreddit with the highest positive coefficients."
   ]
  },
  {
   "cell_type": "code",
   "execution_count": 26,
   "id": "d4115a4a-0643-4b9f-9d9e-6750a223c08a",
   "metadata": {},
   "outputs": [],
   "source": [
    "prob= lr.predict_proba(Z_test)[:,0]"
   ]
  },
  {
   "cell_type": "code",
   "execution_count": 27,
   "id": "0b300440-65ce-4454-85bd-67be201df04e",
   "metadata": {},
   "outputs": [
    {
     "data": {
      "text/plain": [
       "array([0.87963231, 0.99461967, 0.01764154, 0.99233143, 0.09367417,\n",
       "       0.76428238, 0.92119506, 0.03920905, 0.90855767, 0.92395499])"
      ]
     },
     "execution_count": 27,
     "metadata": {},
     "output_type": "execute_result"
    }
   ],
   "source": [
    "prob[:10]"
   ]
  },
  {
   "cell_type": "code",
   "execution_count": 28,
   "id": "a9613d24-eda4-45d6-89f5-685aa1ba26d1",
   "metadata": {},
   "outputs": [
    {
     "data": {
      "text/plain": [
       "array([0, 0, 1, 0, 1, 0, 0, 1, 0, 0])"
      ]
     },
     "execution_count": 28,
     "metadata": {},
     "output_type": "execute_result"
    }
   ],
   "source": [
    "pred = lr.predict(Z_test)\n",
    "pred[:10]"
   ]
  },
  {
   "cell_type": "code",
   "execution_count": 29,
   "id": "665fce5c-dafd-4e7d-bce5-5d367f2938be",
   "metadata": {},
   "outputs": [],
   "source": [
    "cm=confusion_matrix(y_test,pred)"
   ]
  },
  {
   "cell_type": "code",
   "execution_count": 30,
   "id": "97b203fa-3007-41e2-9a86-d0ee098b6502",
   "metadata": {},
   "outputs": [
    {
     "data": {
      "text/html": [
       "<div>\n",
       "<style scoped>\n",
       "    .dataframe tbody tr th:only-of-type {\n",
       "        vertical-align: middle;\n",
       "    }\n",
       "\n",
       "    .dataframe tbody tr th {\n",
       "        vertical-align: top;\n",
       "    }\n",
       "\n",
       "    .dataframe thead th {\n",
       "        text-align: right;\n",
       "    }\n",
       "</style>\n",
       "<table border=\"1\" class=\"dataframe\">\n",
       "  <thead>\n",
       "    <tr style=\"text-align: right;\">\n",
       "      <th></th>\n",
       "      <th>Predicted Creative Writing</th>\n",
       "      <th>Predicted Tech Support</th>\n",
       "    </tr>\n",
       "  </thead>\n",
       "  <tbody>\n",
       "    <tr>\n",
       "      <th>Actual Creative Writing</th>\n",
       "      <td>2101</td>\n",
       "      <td>6</td>\n",
       "    </tr>\n",
       "    <tr>\n",
       "      <th>Actual Tech Support</th>\n",
       "      <td>27</td>\n",
       "      <td>1481</td>\n",
       "    </tr>\n",
       "  </tbody>\n",
       "</table>\n",
       "</div>"
      ],
      "text/plain": [
       "                         Predicted Creative Writing  Predicted Tech Support\n",
       "Actual Creative Writing                        2101                       6\n",
       "Actual Tech Support                              27                    1481"
      ]
     },
     "execution_count": 30,
     "metadata": {},
     "output_type": "execute_result"
    }
   ],
   "source": [
    "# creating a confusion matrix to determine other metrics\n",
    "df_cm=pd.DataFrame(cm,columns=['Predicted Creative Writing', 'Predicted Tech Support'], index = ['Actual Creative Writing','Actual Tech Support'])\n",
    "df_cm"
   ]
  },
  {
   "cell_type": "code",
   "execution_count": 42,
   "id": "c7838e8c-2e49-4328-a2c8-585455185581",
   "metadata": {},
   "outputs": [
    {
     "data": {
      "image/png": "[encoded data removed]",
      "text/plain": [
       "<Figure size 792x576 with 2 Axes>"
      ]
     },
     "metadata": {},
     "output_type": "display_data"
    }
   ],
   "source": [
    "plt.figure(figsize=(11,8))\n",
    "sns.heatmap(df_cm, annot=True, cmap='BuPu')\n",
    "sns.set(font_scale=2)\n",
    "plt.yticks(fontsize=12)\n",
    "plt.xticks(fontsize=12)\n",
    "plt.title('Confusion Matrix', size=20);\n",
    "plt.savefig('confusion_matrix')"
   ]
  },
  {
   "cell_type": "markdown",
   "id": "2165ca4f-d4c8-4836-937c-7f9f320fed21",
   "metadata": {},
   "source": [
    "n: The above image represents the confusion matrix of the predictions of y_test set describing the ratio of true negatives, false positives, false negatives and true positives. "
   ]
  },
  {
   "cell_type": "code",
   "execution_count": 41,
   "id": "6999beaf-ed53-446b-883d-6248079b55c3",
   "metadata": {},
   "outputs": [
    {
     "data": {
      "image/png": "[encoded data removed]",
      "text/plain": [
       "<Figure size 792x576 with 2 Axes>"
      ]
     },
     "metadata": {},
     "output_type": "display_data"
    }
   ],
   "source": [
    "plt.figure(figsize=(11,8))\n",
    "sns.heatmap(df_cm/np.sum(df_cm), annot=True, \n",
    "            fmt='.2%', cmap='Blues')\n",
    "sns.set(font_scale=1.5)\n",
    "plt.yticks(fontsize=12)\n",
    "plt.xticks(fontsize=12)\n",
    "plt.title('Confusion Matrix', size=20);\n",
    "plt.savefig('confusion_matrix_percents')"
   ]
  },
  {
   "cell_type": "markdown",
   "id": "734af827-f2da-4727-a74c-47e5efae6234",
   "metadata": {},
   "source": [
    "n: The above image represents the confusion matrix of the predictions of y_test set describing the ratio of true negatives, false positives, false negatives and true positives, in percents. "
   ]
  },
  {
   "cell_type": "code",
   "execution_count": 33,
   "id": "9bfd6e58-a7de-4edf-b3ee-776e0bc3d95e",
   "metadata": {},
   "outputs": [],
   "source": [
    "# raveling confusion matrix to get values for tn,fp,fn,tp to calculate sensitivity and other metrics\n",
    "tn,fp,fn,tp=confusion_matrix(y_test,pred).ravel()"
   ]
  },
  {
   "cell_type": "code",
   "execution_count": 34,
   "id": "69406f53-5040-42dd-a0ca-e0cce96e0dca",
   "metadata": {},
   "outputs": [
    {
     "data": {
      "text/plain": [
       "'              precision    recall  f1-score   support\\n\\n           0       0.99      1.00      0.99      2107\\n           1       1.00      0.98      0.99      1508\\n\\n    accuracy                           0.99      3615\\n   macro avg       0.99      0.99      0.99      3615\\nweighted avg       0.99      0.99      0.99      3615\\n'"
      ]
     },
     "execution_count": 34,
     "metadata": {},
     "output_type": "execute_result"
    }
   ],
   "source": [
    "# classification report\n",
    "classification_report(y_test,pred)"
   ]
  },
  {
   "cell_type": "code",
   "execution_count": 35,
   "id": "1d5a6864-83fe-4354-8b91-89c4c36452af",
   "metadata": {},
   "outputs": [
    {
     "data": {
      "text/plain": [
       "0.9908713692946058"
      ]
     },
     "execution_count": 35,
     "metadata": {},
     "output_type": "execute_result"
    }
   ],
   "source": [
    "# accuracy\n",
    "(tp+tn)/(tp+tn+fp+fn)"
   ]
  },
  {
   "cell_type": "code",
   "execution_count": 36,
   "id": "f7b0458e-a0ee-48dc-9587-7943842a8b9f",
   "metadata": {},
   "outputs": [
    {
     "data": {
      "text/plain": [
       "0.995965030262273"
      ]
     },
     "execution_count": 36,
     "metadata": {},
     "output_type": "execute_result"
    }
   ],
   "source": [
    "# sensitivity\n",
    "tp/(tp+fp)"
   ]
  },
  {
   "cell_type": "code",
   "execution_count": 37,
   "id": "770b7c9c-9ebd-4792-84f6-ceae397fa394",
   "metadata": {},
   "outputs": [
    {
     "data": {
      "text/plain": [
       "0.009128630705394191"
      ]
     },
     "execution_count": 37,
     "metadata": {},
     "output_type": "execute_result"
    }
   ],
   "source": [
    "# misclassification rate\n",
    "(fp+fn)/(fp+fn+tp+tn)"
   ]
  },
  {
   "cell_type": "code",
   "execution_count": 38,
   "id": "5cc8977a-33af-467c-8a89-592d6dc883a2",
   "metadata": {},
   "outputs": [
    {
     "data": {
      "text/plain": [
       "0.987312030075188"
      ]
     },
     "execution_count": 38,
     "metadata": {},
     "output_type": "execute_result"
    }
   ],
   "source": [
    "# specificity\n",
    "tn/(tn+fn)"
   ]
  },
  {
   "cell_type": "code",
   "execution_count": 39,
   "id": "70f7fce3-974a-432b-8627-ebe6f2e9366c",
   "metadata": {},
   "outputs": [
    {
     "data": {
      "text/plain": [
       "0.9820954907161804"
      ]
     },
     "execution_count": 39,
     "metadata": {},
     "output_type": "execute_result"
    }
   ],
   "source": [
    "# precision\n",
    "tp/(tp+fn)"
   ]
  },
  {
   "cell_type": "code",
   "execution_count": 40,
   "id": "ed93184d-9123-4ede-9d90-a7f44ce418a8",
   "metadata": {},
   "outputs": [
    {
     "data": {
      "text/plain": [
       "0.41715076071922547"
      ]
     },
     "execution_count": 40,
     "metadata": {},
     "output_type": "execute_result"
    }
   ],
   "source": [
    "# baseline accuracy\n",
    "y_test.value_counts(normalize=True)[1]"
   ]
  },
  {
   "cell_type": "markdown",
   "id": "a2adf848-039d-42e8-b857-3dc6c0c54205",
   "metadata": {
    "tags": []
   },
   "source": [
    "## Executive Summary"
   ]
  },
  {
   "cell_type": "markdown",
   "id": "727fbe18-7e68-4af4-a1e8-cf06b2ad005c",
   "metadata": {},
   "source": [
    "This project focuses on three major concepts we learned in class: data wrangling/gathering/acquisition, natural language processing, and classification modeling. We first used Pushshift's API to collect posts from the r/creativewriting and the r/talesfromtechsupport subreddits. We then clean the data and then perform a binary classification by using Natural Language Processing to train a classifier on which subreddit a given post came from. We clean the data by selecting relevant features from the raw data and removing null values and creating new relevant columns via column transformations. Our most relevant columns were the 'selftext' and the 'title' columns, and we combined those to create a 'fulltext' column. We also assigned a binary value 0 or 1 to the creative writing subreddit posts and the tech support subreddit post in a new column called 'subreddit' so that we can use for Classification modeling later. To prepare our cleaned data for Natural Language Processing, we first used a tokenizer on the fulltext column and then lemmatized and stemmatized it to better prepare it for NLP. We then wanted to perform either a CountVectorizer or a TfidfVectorizer to see which one had a better score, we then compare the best scores between a Pipeline with a TfidfVectorizer running into a Multinomial Naive Bayes and then s setting up a BayesSearchCV and then CountVectorizer running into a Multinomial Naive Bayes and then setting up a BayesSearchCV.  TfidfVectorizer had a higher best score, so we used its best parameters it gave for max_features.  We would use the 'stemmatized_lemmatized_tokenized_fulltext' column as our feature and the 'subreddit' column as our target.  We then created and compared two models, a Random Forest Classifier and a Logistic Regression Classifier. From there, we compared the baseline score to the accuracy scores of the models, the higher the accuracy score the more successful you have trained your computer to predict whether a phrase corresponds to the Creative Writing and Technical Support subreddits. Since our Logistic Regression model had the highest score, we used it for our models.  We  visualized the models by displaying the top positive and negative correlations of the features, corresponding to the Technical Support and Creative Writing subreddits, respectively. We also plotted the confusion matrix and its metrics to show how effective our model is at predicting whether a set of words will belong into either subreddit.\n"
   ]
  },
  {
   "cell_type": "markdown",
   "id": "514343c2-82f3-4af1-91ee-fe676b9afbbe",
   "metadata": {
    "tags": []
   },
   "source": [
    "## Conclusion"
   ]
  },
  {
   "cell_type": "markdown",
   "id": "5bc6bda9-209d-4020-b96d-ff38bc6d3097",
   "metadata": {},
   "source": [
    "For calculating for whether the text post will be predicted to come from the creative writing subreddit or the tech support subreddit, if you predict that all the posts came from the creative writing subreddit, you would be correct about 58.2 % of the time.  This is because we had more posts from the creative writing subreddit.  For the tech support subreddit, if you predicted that all the posts came from it, you would be right about 41.7% of the time. Since the true positive of this classification matrix would correspond to the tech support reddit, the baseline accuracy would be 41.7%\n",
    "\n",
    "Our Logistic Regression model had an accuracy of 99.4% for the training data and  99.1% for the testing data, and our Random Forest Classifier had an accuracy of 99.8% for our training data and 98.6% for our testing data.  Since our testing data scored higher in our Logistic Regression model, we went forward to do our analysis on the Logistic Regression model. \n",
    "\n",
    "After analyzing the confusion matrix generated with the Logistic Regression model, the accuracy was 99.1%.  The sensitivity was 99.6%.  The misclassification rate was 0.9%.  The specificity is 98.7%. The precision is 98.2%.\n",
    "\n"
   ]
  },
  {
   "cell_type": "markdown",
   "id": "4ce8361c-ee62-48c3-81ab-b356a928a80e",
   "metadata": {},
   "source": [
    "## Recommendation"
   ]
  },
  {
   "cell_type": "markdown",
   "id": "fb2a401d-5721-4637-b1c4-cc46b398f9ca",
   "metadata": {},
   "source": [
    "Seeing the results of this model, I am confident that it can be used to classify whether or not a text came from the r/creativewriting and r/talesfromtechsupport.  The class that requested help in this matter will be delighted.  Using this sort of modeling can help us develop any sort of classification model, and mayhaps models more relevant to stakeholders in businesses where money and power are involved. (Assuming there is enough data to work off of!) Since we are just working with college students, the goal is to further their education, but given the goal of financial profit, like in the stock market, you can apply it to a variety of more potentially fruitful circumstances."
   ]
  }
 ],
 "metadata": {
  "kernelspec": {
   "display_name": "Python [conda env:dsi]",
   "language": "python",
   "name": "conda-env-dsi-py"
  },
  "language_info": {
   "codemirror_mode": {
    "name": "ipython",
    "version": 3
   },
   "file_extension": ".py",
   "mimetype": "text/x-python",
   "name": "python",
   "nbconvert_exporter": "python",
   "pygments_lexer": "ipython3",
   "version": "3.9.7"
  }
 },
 "nbformat": 4,
 "nbformat_minor": 5
}
