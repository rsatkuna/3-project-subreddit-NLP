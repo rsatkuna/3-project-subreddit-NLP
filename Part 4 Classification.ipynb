{
 "cells": [
  {
   "cell_type": "markdown",
   "id": "d9b5c7c5-b6d0-4777-8d79-5c594e8153dd",
   "metadata": {},
   "source": [
    "# Project 3: Web APIs & NLP Part 4 Classification Models"
   ]
  },
  {
   "cell_type": "code",
   "execution_count": 1,
   "id": "cd98be13-766f-444c-9e22-4f6ee109f2f9",
   "metadata": {},
   "outputs": [],
   "source": [
    "#imports\n",
    "import pandas as pd\n",
    "import matplotlib.pyplot as plt\n",
    "import numpy as np\n",
    "import warnings\n",
    "warnings.filterwarnings('ignore')\n",
    "from sklearn.model_selection import train_test_split, cross_val_score, cross_val_predict, KFold, GridSearchCV\n",
    "from sklearn.linear_model import LogisticRegression\n",
    "from sklearn.pipeline import Pipeline\n",
    "from sklearn.feature_extraction.text import CountVectorizer, TfidfVectorizer\n",
    "from sklearn.metrics import confusion_matrix, plot_confusion_matrix, classification_report\n",
    "from sklearn.naive_bayes import MultinomialNB\n",
    "from sklearn.neighbors import KNeighborsClassifier\n",
    "from sklearn.preprocessing import StandardScaler\n",
    "from sklearn.ensemble import RandomForestClassifier, BaggingClassifier, GradientBoostingClassifier, AdaBoostClassifier\n",
    "from sklearn.svm import SVC\n",
    "from skopt.space import Integer, Real, Categorical\n",
    "from skopt import BayesSearchCV"
   ]
  },
  {
   "cell_type": "code",
   "execution_count": 2,
   "id": "bc0954ec-71a6-4d2e-81ca-3db0cc8a1d50",
   "metadata": {},
   "outputs": [],
   "source": [
    "combo=pd.read_csv('data2/combo.csv')"
   ]
  },
  {
   "cell_type": "code",
   "execution_count": 3,
   "id": "b416e45b-f03b-4757-9fc0-1f866f0ff49e",
   "metadata": {},
   "outputs": [
    {
     "data": {
      "text/html": [
       "<div>\n",
       "<style scoped>\n",
       "    .dataframe tbody tr th:only-of-type {\n",
       "        vertical-align: middle;\n",
       "    }\n",
       "\n",
       "    .dataframe tbody tr th {\n",
       "        vertical-align: top;\n",
       "    }\n",
       "\n",
       "    .dataframe thead th {\n",
       "        text-align: right;\n",
       "    }\n",
       "</style>\n",
       "<table border=\"1\" class=\"dataframe\">\n",
       "  <thead>\n",
       "    <tr style=\"text-align: right;\">\n",
       "      <th></th>\n",
       "      <th>selftext</th>\n",
       "      <th>author</th>\n",
       "      <th>title</th>\n",
       "      <th>subreddit</th>\n",
       "      <th>fulltext</th>\n",
       "      <th>tokenized_fulltext</th>\n",
       "      <th>lemmatized_tokenized_fulltext</th>\n",
       "      <th>stemmatized_lemmatized_tokenized_fulltext</th>\n",
       "    </tr>\n",
       "  </thead>\n",
       "  <tbody>\n",
       "    <tr>\n",
       "      <th>0</th>\n",
       "      <td>if you happend to make a blog/ecommerce store ...</td>\n",
       "      <td>raygreeen</td>\n",
       "      <td>Asking for a friend</td>\n",
       "      <td>0</td>\n",
       "      <td>if you happend to make a blog/ecommerce store ...</td>\n",
       "      <td>['if', 'you', 'happend', 'to', 'make', 'a', 'b...</td>\n",
       "      <td>['if', 'you', 'happend', 'to', 'make', 'a', 'b...</td>\n",
       "      <td>if you happend to make a blog ecommerc store a...</td>\n",
       "    </tr>\n",
       "    <tr>\n",
       "      <th>1</th>\n",
       "      <td>The floor is cold like it was that  that night...</td>\n",
       "      <td>a_deceased_person</td>\n",
       "      <td>That Night 🌙</td>\n",
       "      <td>0</td>\n",
       "      <td>The floor is cold like it was that  that night...</td>\n",
       "      <td>['the', 'floor', 'is', 'cold', 'like', 'it', '...</td>\n",
       "      <td>['the', 'floor', 'is', 'cold', 'like', 'it', '...</td>\n",
       "      <td>the floor is cold like it wa that that night i...</td>\n",
       "    </tr>\n",
       "    <tr>\n",
       "      <th>2</th>\n",
       "      <td>In this factory of memories\\n\\nWe went our way...</td>\n",
       "      <td>Luxrayguy</td>\n",
       "      <td>Factory</td>\n",
       "      <td>0</td>\n",
       "      <td>In this factory of memories\\n\\nWe went our way...</td>\n",
       "      <td>['in', 'this', 'factory', 'of', 'memories', 'w...</td>\n",
       "      <td>['in', 'this', 'factory', 'of', 'memory', 'we'...</td>\n",
       "      <td>in thi factori of memori we went our way for a...</td>\n",
       "    </tr>\n",
       "    <tr>\n",
       "      <th>3</th>\n",
       "      <td>I'm panicking I think. Shoving my mouth into m...</td>\n",
       "      <td>a_deceased_person</td>\n",
       "      <td>delusions?</td>\n",
       "      <td>0</td>\n",
       "      <td>I'm panicking I think. Shoving my mouth into m...</td>\n",
       "      <td>[\"i'm\", 'panicking', 'i', 'think', 'shoving', ...</td>\n",
       "      <td>[\"i'm\", 'panicking', 'i', 'think', 'shoving', ...</td>\n",
       "      <td>i'm panick i think shove my mouth into my fist...</td>\n",
       "    </tr>\n",
       "    <tr>\n",
       "      <th>4</th>\n",
       "      <td>“america no longer creates prophets, only prof...</td>\n",
       "      <td>bmodelic</td>\n",
       "      <td>Desolate America</td>\n",
       "      <td>0</td>\n",
       "      <td>“america no longer creates prophets, only prof...</td>\n",
       "      <td>['america', 'no', 'longer', 'creates', 'prophe...</td>\n",
       "      <td>['america', 'no', 'longer', 'creates', 'prophe...</td>\n",
       "      <td>america no longer creat prophet onli profit am...</td>\n",
       "    </tr>\n",
       "  </tbody>\n",
       "</table>\n",
       "</div>"
      ],
      "text/plain": [
       "                                            selftext             author  \\\n",
       "0  if you happend to make a blog/ecommerce store ...          raygreeen   \n",
       "1  The floor is cold like it was that  that night...  a_deceased_person   \n",
       "2  In this factory of memories\\n\\nWe went our way...          Luxrayguy   \n",
       "3  I'm panicking I think. Shoving my mouth into m...  a_deceased_person   \n",
       "4  “america no longer creates prophets, only prof...           bmodelic   \n",
       "\n",
       "                 title  subreddit  \\\n",
       "0  Asking for a friend          0   \n",
       "1         That Night 🌙          0   \n",
       "2              Factory          0   \n",
       "3           delusions?          0   \n",
       "4     Desolate America          0   \n",
       "\n",
       "                                            fulltext  \\\n",
       "0  if you happend to make a blog/ecommerce store ...   \n",
       "1  The floor is cold like it was that  that night...   \n",
       "2  In this factory of memories\\n\\nWe went our way...   \n",
       "3  I'm panicking I think. Shoving my mouth into m...   \n",
       "4  “america no longer creates prophets, only prof...   \n",
       "\n",
       "                                  tokenized_fulltext  \\\n",
       "0  ['if', 'you', 'happend', 'to', 'make', 'a', 'b...   \n",
       "1  ['the', 'floor', 'is', 'cold', 'like', 'it', '...   \n",
       "2  ['in', 'this', 'factory', 'of', 'memories', 'w...   \n",
       "3  [\"i'm\", 'panicking', 'i', 'think', 'shoving', ...   \n",
       "4  ['america', 'no', 'longer', 'creates', 'prophe...   \n",
       "\n",
       "                       lemmatized_tokenized_fulltext  \\\n",
       "0  ['if', 'you', 'happend', 'to', 'make', 'a', 'b...   \n",
       "1  ['the', 'floor', 'is', 'cold', 'like', 'it', '...   \n",
       "2  ['in', 'this', 'factory', 'of', 'memory', 'we'...   \n",
       "3  [\"i'm\", 'panicking', 'i', 'think', 'shoving', ...   \n",
       "4  ['america', 'no', 'longer', 'creates', 'prophe...   \n",
       "\n",
       "           stemmatized_lemmatized_tokenized_fulltext  \n",
       "0  if you happend to make a blog ecommerc store a...  \n",
       "1  the floor is cold like it wa that that night i...  \n",
       "2  in thi factori of memori we went our way for a...  \n",
       "3  i'm panick i think shove my mouth into my fist...  \n",
       "4  america no longer creat prophet onli profit am...  "
      ]
     },
     "execution_count": 3,
     "metadata": {},
     "output_type": "execute_result"
    }
   ],
   "source": [
    "combo.head()"
   ]
  },
  {
   "cell_type": "markdown",
   "id": "0dae5e09-6897-4ca1-8ea0-dae0e9e155d5",
   "metadata": {},
   "source": [
    "## Vectorizing Hyperparameters"
   ]
  },
  {
   "cell_type": "markdown",
   "id": "95c2eb7f-6803-4206-b8bf-0f959a0acca3",
   "metadata": {},
   "source": [
    "## Creative Writing Features"
   ]
  },
  {
   "cell_type": "code",
   "execution_count": 4,
   "id": "16fda61e-7a44-4a12-99c8-e8e5b62ad55c",
   "metadata": {},
   "outputs": [],
   "source": [
    "# Creative Writing Subreddit\n",
    "X=combo.loc[combo['subreddit']==0, 'stemmatized_lemmatized_tokenized_fulltext']\n",
    "y=combo.loc[combo['subreddit']==0, 'subreddit']\n",
    "X_train, X_test, y_train, y_test = train_test_split(X,y,test_size=0.3, random_state=42)\n",
    "cv=CountVectorizer(stop_words='english', max_df=0.95, min_df=0.05, max_features=100, ngram_range=(1,5))\n",
    "cv.fit(X_train)\n",
    "X1_train = cv.transform(X_train)\n",
    "X1_train_df = pd.DataFrame(X1_train.toarray(), columns = cv.get_feature_names())"
   ]
  },
  {
   "cell_type": "code",
   "execution_count": 5,
   "id": "ac8a320a-1bf3-49d4-b225-775a33f21ba3",
   "metadata": {},
   "outputs": [
    {
     "data": {
      "text/plain": [
       "wa       26758\n",
       "hi       17548\n",
       "thi      12783\n",
       "like      9113\n",
       "just      7723\n",
       "look      6757\n",
       "time      6334\n",
       "know      6023\n",
       "said      5863\n",
       "want      5129\n",
       "feel      4400\n",
       "don       4224\n",
       "day       4063\n",
       "eye       4048\n",
       "make      3980\n",
       "onli      3834\n",
       "love      3810\n",
       "life      3764\n",
       "way       3622\n",
       "think     3506\n",
       "dtype: int64"
      ]
     },
     "execution_count": 5,
     "metadata": {},
     "output_type": "execute_result"
    }
   ],
   "source": [
    "X1_train_df.sum().sort_values(ascending=False).head(20)"
   ]
  },
  {
   "cell_type": "markdown",
   "id": "3826863b-1a69-4731-9ab7-4109d87ddbc6",
   "metadata": {
    "tags": []
   },
   "source": [
    "## Technical Support Features"
   ]
  },
  {
   "cell_type": "code",
   "execution_count": 6,
   "id": "772de14e-c92c-4819-ba84-39d562355d85",
   "metadata": {},
   "outputs": [],
   "source": [
    "# Creative Writing Subreddit\n",
    "X=combo.loc[combo['subreddit']==1, 'stemmatized_lemmatized_tokenized_fulltext']\n",
    "y=combo.loc[combo['subreddit']==1, 'subreddit']\n",
    "X_train, X_test, y_train, y_test = train_test_split(X,y,test_size=0.3, random_state=42)\n",
    "cv1=CountVectorizer(stop_words='english', max_df=0.95, min_df=0.05, max_features=100, ngram_range=(1,5))\n",
    "cv1.fit(X_train)\n",
    "X2_train = cv1.transform(X_train)\n",
    "X2_train_df = pd.DataFrame(X2_train.toarray(), columns = cv1.get_feature_names())"
   ]
  },
  {
   "cell_type": "code",
   "execution_count": 7,
   "id": "2e32ede4-e7ac-4381-8b4d-f79254c28dbe",
   "metadata": {},
   "outputs": [
    {
     "data": {
      "text/plain": [
       "wa        17982\n",
       "thi       15331\n",
       "gt        12097\n",
       "work       9068\n",
       "just       6615\n",
       "time       5302\n",
       "hi         5139\n",
       "user       4779\n",
       "comput     4377\n",
       "need       4374\n",
       "know       4140\n",
       "use        3926\n",
       "like       3874\n",
       "day        3663\n",
       "look       3484\n",
       "don        3435\n",
       "tri        3390\n",
       "new        3379\n",
       "ask        3299\n",
       "phone      3236\n",
       "dtype: int64"
      ]
     },
     "execution_count": 7,
     "metadata": {},
     "output_type": "execute_result"
    }
   ],
   "source": [
    "X2_train_df.sum().sort_values(ascending=False).head(20)"
   ]
  },
  {
   "cell_type": "markdown",
   "id": "c1600ffc-1576-4078-a32a-34ec6785b233",
   "metadata": {
    "tags": []
   },
   "source": [
    "## Pipeline with Count Vectorizer Running Into A Multinomial Naive Bayes"
   ]
  },
  {
   "cell_type": "code",
   "execution_count": 8,
   "id": "2b8d6229-db60-484a-bc45-c611bb7cbaaa",
   "metadata": {},
   "outputs": [
    {
     "data": {
      "text/html": [
       "<div>\n",
       "<style scoped>\n",
       "    .dataframe tbody tr th:only-of-type {\n",
       "        vertical-align: middle;\n",
       "    }\n",
       "\n",
       "    .dataframe tbody tr th {\n",
       "        vertical-align: top;\n",
       "    }\n",
       "\n",
       "    .dataframe thead th {\n",
       "        text-align: right;\n",
       "    }\n",
       "</style>\n",
       "<table border=\"1\" class=\"dataframe\">\n",
       "  <thead>\n",
       "    <tr style=\"text-align: right;\">\n",
       "      <th></th>\n",
       "      <th>selftext</th>\n",
       "      <th>author</th>\n",
       "      <th>title</th>\n",
       "      <th>subreddit</th>\n",
       "      <th>fulltext</th>\n",
       "      <th>tokenized_fulltext</th>\n",
       "      <th>lemmatized_tokenized_fulltext</th>\n",
       "      <th>stemmatized_lemmatized_tokenized_fulltext</th>\n",
       "    </tr>\n",
       "  </thead>\n",
       "  <tbody>\n",
       "    <tr>\n",
       "      <th>0</th>\n",
       "      <td>if you happend to make a blog/ecommerce store ...</td>\n",
       "      <td>raygreeen</td>\n",
       "      <td>Asking for a friend</td>\n",
       "      <td>0</td>\n",
       "      <td>if you happend to make a blog/ecommerce store ...</td>\n",
       "      <td>['if', 'you', 'happend', 'to', 'make', 'a', 'b...</td>\n",
       "      <td>['if', 'you', 'happend', 'to', 'make', 'a', 'b...</td>\n",
       "      <td>if you happend to make a blog ecommerc store a...</td>\n",
       "    </tr>\n",
       "    <tr>\n",
       "      <th>1</th>\n",
       "      <td>The floor is cold like it was that  that night...</td>\n",
       "      <td>a_deceased_person</td>\n",
       "      <td>That Night 🌙</td>\n",
       "      <td>0</td>\n",
       "      <td>The floor is cold like it was that  that night...</td>\n",
       "      <td>['the', 'floor', 'is', 'cold', 'like', 'it', '...</td>\n",
       "      <td>['the', 'floor', 'is', 'cold', 'like', 'it', '...</td>\n",
       "      <td>the floor is cold like it wa that that night i...</td>\n",
       "    </tr>\n",
       "    <tr>\n",
       "      <th>2</th>\n",
       "      <td>In this factory of memories\\n\\nWe went our way...</td>\n",
       "      <td>Luxrayguy</td>\n",
       "      <td>Factory</td>\n",
       "      <td>0</td>\n",
       "      <td>In this factory of memories\\n\\nWe went our way...</td>\n",
       "      <td>['in', 'this', 'factory', 'of', 'memories', 'w...</td>\n",
       "      <td>['in', 'this', 'factory', 'of', 'memory', 'we'...</td>\n",
       "      <td>in thi factori of memori we went our way for a...</td>\n",
       "    </tr>\n",
       "    <tr>\n",
       "      <th>3</th>\n",
       "      <td>I'm panicking I think. Shoving my mouth into m...</td>\n",
       "      <td>a_deceased_person</td>\n",
       "      <td>delusions?</td>\n",
       "      <td>0</td>\n",
       "      <td>I'm panicking I think. Shoving my mouth into m...</td>\n",
       "      <td>[\"i'm\", 'panicking', 'i', 'think', 'shoving', ...</td>\n",
       "      <td>[\"i'm\", 'panicking', 'i', 'think', 'shoving', ...</td>\n",
       "      <td>i'm panick i think shove my mouth into my fist...</td>\n",
       "    </tr>\n",
       "    <tr>\n",
       "      <th>4</th>\n",
       "      <td>“america no longer creates prophets, only prof...</td>\n",
       "      <td>bmodelic</td>\n",
       "      <td>Desolate America</td>\n",
       "      <td>0</td>\n",
       "      <td>“america no longer creates prophets, only prof...</td>\n",
       "      <td>['america', 'no', 'longer', 'creates', 'prophe...</td>\n",
       "      <td>['america', 'no', 'longer', 'creates', 'prophe...</td>\n",
       "      <td>america no longer creat prophet onli profit am...</td>\n",
       "    </tr>\n",
       "  </tbody>\n",
       "</table>\n",
       "</div>"
      ],
      "text/plain": [
       "                                            selftext             author  \\\n",
       "0  if you happend to make a blog/ecommerce store ...          raygreeen   \n",
       "1  The floor is cold like it was that  that night...  a_deceased_person   \n",
       "2  In this factory of memories\\n\\nWe went our way...          Luxrayguy   \n",
       "3  I'm panicking I think. Shoving my mouth into m...  a_deceased_person   \n",
       "4  “america no longer creates prophets, only prof...           bmodelic   \n",
       "\n",
       "                 title  subreddit  \\\n",
       "0  Asking for a friend          0   \n",
       "1         That Night 🌙          0   \n",
       "2              Factory          0   \n",
       "3           delusions?          0   \n",
       "4     Desolate America          0   \n",
       "\n",
       "                                            fulltext  \\\n",
       "0  if you happend to make a blog/ecommerce store ...   \n",
       "1  The floor is cold like it was that  that night...   \n",
       "2  In this factory of memories\\n\\nWe went our way...   \n",
       "3  I'm panicking I think. Shoving my mouth into m...   \n",
       "4  “america no longer creates prophets, only prof...   \n",
       "\n",
       "                                  tokenized_fulltext  \\\n",
       "0  ['if', 'you', 'happend', 'to', 'make', 'a', 'b...   \n",
       "1  ['the', 'floor', 'is', 'cold', 'like', 'it', '...   \n",
       "2  ['in', 'this', 'factory', 'of', 'memories', 'w...   \n",
       "3  [\"i'm\", 'panicking', 'i', 'think', 'shoving', ...   \n",
       "4  ['america', 'no', 'longer', 'creates', 'prophe...   \n",
       "\n",
       "                       lemmatized_tokenized_fulltext  \\\n",
       "0  ['if', 'you', 'happend', 'to', 'make', 'a', 'b...   \n",
       "1  ['the', 'floor', 'is', 'cold', 'like', 'it', '...   \n",
       "2  ['in', 'this', 'factory', 'of', 'memory', 'we'...   \n",
       "3  [\"i'm\", 'panicking', 'i', 'think', 'shoving', ...   \n",
       "4  ['america', 'no', 'longer', 'creates', 'prophe...   \n",
       "\n",
       "           stemmatized_lemmatized_tokenized_fulltext  \n",
       "0  if you happend to make a blog ecommerc store a...  \n",
       "1  the floor is cold like it wa that that night i...  \n",
       "2  in thi factori of memori we went our way for a...  \n",
       "3  i'm panick i think shove my mouth into my fist...  \n",
       "4  america no longer creat prophet onli profit am...  "
      ]
     },
     "execution_count": 8,
     "metadata": {},
     "output_type": "execute_result"
    }
   ],
   "source": [
    "combo.head()"
   ]
  },
  {
   "cell_type": "code",
   "execution_count": 9,
   "id": "147539ec-cec3-4cea-8695-4b5061044441",
   "metadata": {},
   "outputs": [],
   "source": [
    "# defining X and y and splitting into traintest sets\n",
    "X=combo['stemmatized_lemmatized_tokenized_fulltext']\n",
    "y=combo['subreddit']\n",
    "X_train,X_test,y_train,y_test = train_test_split(X,y, test_size=.30, random_state=42)"
   ]
  },
  {
   "cell_type": "code",
   "execution_count": 10,
   "id": "f41257d0-c228-46e3-bbc0-7c246b4dd722",
   "metadata": {},
   "outputs": [],
   "source": [
    "# setting up pipeline and its parameters\n",
    "# setting up pipeline and its parameters\n",
    "pipe = Pipeline([\n",
    "    ('cv', CountVectorizer(stop_words='english', ngram_range = (1,3))),\n",
    "    ('mnb', MultinomialNB())\n",
    "])\n",
    "bs_params = {\n",
    "    'cv__max_features':Integer(1,10000)\n",
    "}"
   ]
  },
  {
   "cell_type": "code",
   "execution_count": 11,
   "id": "c504ac1c-998c-40be-b082-679b22a1ede2",
   "metadata": {},
   "outputs": [
    {
     "name": "stdout",
     "output_type": "stream",
     "text": [
      "Fitting 5 folds for each of 1 candidates, totalling 5 fits\n",
      "Fitting 5 folds for each of 1 candidates, totalling 5 fits\n",
      "Fitting 5 folds for each of 1 candidates, totalling 5 fits\n",
      "Fitting 5 folds for each of 1 candidates, totalling 5 fits\n",
      "Fitting 5 folds for each of 1 candidates, totalling 5 fits\n",
      "Fitting 5 folds for each of 1 candidates, totalling 5 fits\n",
      "Fitting 5 folds for each of 1 candidates, totalling 5 fits\n",
      "Fitting 5 folds for each of 1 candidates, totalling 5 fits\n",
      "Fitting 5 folds for each of 1 candidates, totalling 5 fits\n",
      "Fitting 5 folds for each of 1 candidates, totalling 5 fits\n",
      "Fitting 5 folds for each of 1 candidates, totalling 5 fits\n",
      "Fitting 5 folds for each of 1 candidates, totalling 5 fits\n",
      "Fitting 5 folds for each of 1 candidates, totalling 5 fits\n",
      "Fitting 5 folds for each of 1 candidates, totalling 5 fits\n",
      "Fitting 5 folds for each of 1 candidates, totalling 5 fits\n",
      "Fitting 5 folds for each of 1 candidates, totalling 5 fits\n",
      "Fitting 5 folds for each of 1 candidates, totalling 5 fits\n",
      "Fitting 5 folds for each of 1 candidates, totalling 5 fits\n",
      "Fitting 5 folds for each of 1 candidates, totalling 5 fits\n",
      "Fitting 5 folds for each of 1 candidates, totalling 5 fits\n",
      "Fitting 5 folds for each of 1 candidates, totalling 5 fits\n",
      "Fitting 5 folds for each of 1 candidates, totalling 5 fits\n",
      "Fitting 5 folds for each of 1 candidates, totalling 5 fits\n",
      "Fitting 5 folds for each of 1 candidates, totalling 5 fits\n",
      "Fitting 5 folds for each of 1 candidates, totalling 5 fits\n",
      "Fitting 5 folds for each of 1 candidates, totalling 5 fits\n",
      "Fitting 5 folds for each of 1 candidates, totalling 5 fits\n",
      "Fitting 5 folds for each of 1 candidates, totalling 5 fits\n",
      "Fitting 5 folds for each of 1 candidates, totalling 5 fits\n",
      "Fitting 5 folds for each of 1 candidates, totalling 5 fits\n",
      "Fitting 5 folds for each of 1 candidates, totalling 5 fits\n",
      "Fitting 5 folds for each of 1 candidates, totalling 5 fits\n",
      "Fitting 5 folds for each of 1 candidates, totalling 5 fits\n",
      "Fitting 5 folds for each of 1 candidates, totalling 5 fits\n",
      "Fitting 5 folds for each of 1 candidates, totalling 5 fits\n",
      "Fitting 5 folds for each of 1 candidates, totalling 5 fits\n",
      "Fitting 5 folds for each of 1 candidates, totalling 5 fits\n",
      "Fitting 5 folds for each of 1 candidates, totalling 5 fits\n",
      "Fitting 5 folds for each of 1 candidates, totalling 5 fits\n",
      "Fitting 5 folds for each of 1 candidates, totalling 5 fits\n",
      "Fitting 5 folds for each of 1 candidates, totalling 5 fits\n",
      "Fitting 5 folds for each of 1 candidates, totalling 5 fits\n",
      "Fitting 5 folds for each of 1 candidates, totalling 5 fits\n",
      "Fitting 5 folds for each of 1 candidates, totalling 5 fits\n",
      "Fitting 5 folds for each of 1 candidates, totalling 5 fits\n",
      "Fitting 5 folds for each of 1 candidates, totalling 5 fits\n",
      "Fitting 5 folds for each of 1 candidates, totalling 5 fits\n",
      "Fitting 5 folds for each of 1 candidates, totalling 5 fits\n",
      "Fitting 5 folds for each of 1 candidates, totalling 5 fits\n",
      "Fitting 5 folds for each of 1 candidates, totalling 5 fits\n"
     ]
    },
    {
     "data": {
      "text/plain": [
       "BayesSearchCV(cv=5,\n",
       "              estimator=Pipeline(steps=[('cv',\n",
       "                                         CountVectorizer(ngram_range=(1, 3),\n",
       "                                                         stop_words='english')),\n",
       "                                        ('mnb', MultinomialNB())]),\n",
       "              n_jobs=-1, random_state=42, scoring='f1_weighted',\n",
       "              search_spaces={'cv__max_features': Integer(low=1, high=10000, prior='uniform', transform='normalize')},\n",
       "              verbose=1)"
      ]
     },
     "execution_count": 11,
     "metadata": {},
     "output_type": "execute_result"
    }
   ],
   "source": [
    "# setting and fitting up bayessearchcv\n",
    "bs = BayesSearchCV(estimator = pipe,\n",
    "                     search_spaces = bs_params,\n",
    "                     scoring = 'f1_weighted',\n",
    "                     n_iter = 50,\n",
    "                     cv = 5,\n",
    "                     verbose = 1, n_jobs=-1,\n",
    "                     random_state=42)\n",
    "bs.fit(X_train,y_train)"
   ]
  },
  {
   "cell_type": "code",
   "execution_count": 12,
   "id": "699f34cf-1496-459f-90d6-669da591481c",
   "metadata": {},
   "outputs": [
    {
     "data": {
      "text/plain": [
       "0.9814203101877574"
      ]
     },
     "execution_count": 12,
     "metadata": {},
     "output_type": "execute_result"
    }
   ],
   "source": [
    "bs.best_score_"
   ]
  },
  {
   "cell_type": "code",
   "execution_count": 13,
   "id": "3bb3aa87-491b-4941-a5a4-8d5c85f2b1f0",
   "metadata": {},
   "outputs": [
    {
     "data": {
      "text/plain": [
       "OrderedDict([('cv__max_features', 10000)])"
      ]
     },
     "execution_count": 13,
     "metadata": {},
     "output_type": "execute_result"
    }
   ],
   "source": [
    "bs.best_params_"
   ]
  },
  {
   "cell_type": "markdown",
   "id": "ae1b2f61-63f2-48c7-9ebe-7677b7412721",
   "metadata": {
    "tags": []
   },
   "source": [
    "## Pipeline with TFIDF Vectorizer Running into a Multinomial Naive Bayes"
   ]
  },
  {
   "cell_type": "code",
   "execution_count": 14,
   "id": "74afabee-8b6f-41b3-94a7-018b439d6f22",
   "metadata": {},
   "outputs": [],
   "source": [
    "# defining X and y and splitting into traintest sets\n",
    "X=combo['stemmatized_lemmatized_tokenized_fulltext']\n",
    "y=combo['subreddit']\n",
    "X_train,X_test,y_train,y_test = train_test_split(X,y, test_size=.30, random_state=42)"
   ]
  },
  {
   "cell_type": "code",
   "execution_count": 15,
   "id": "c2df71a4-03e9-4816-9a05-bf8e6d29cc0b",
   "metadata": {},
   "outputs": [],
   "source": [
    "# setting up pipeline and its parameters\n",
    "pipe2 = Pipeline([\n",
    "    ('tvec', TfidfVectorizer(stop_words='english', ngram_range = (1,3))),\n",
    "    ('mnb', MultinomialNB())\n",
    "])\n",
    "bs_params2 = {\n",
    "    'tvec__max_features':Integer(1,20000)}"
   ]
  },
  {
   "cell_type": "code",
   "execution_count": 16,
   "id": "e327efcc-927e-4331-9acb-cd01629c1d3f",
   "metadata": {},
   "outputs": [
    {
     "name": "stdout",
     "output_type": "stream",
     "text": [
      "Fitting 5 folds for each of 1 candidates, totalling 5 fits\n",
      "Fitting 5 folds for each of 1 candidates, totalling 5 fits\n",
      "Fitting 5 folds for each of 1 candidates, totalling 5 fits\n",
      "Fitting 5 folds for each of 1 candidates, totalling 5 fits\n",
      "Fitting 5 folds for each of 1 candidates, totalling 5 fits\n",
      "Fitting 5 folds for each of 1 candidates, totalling 5 fits\n",
      "Fitting 5 folds for each of 1 candidates, totalling 5 fits\n",
      "Fitting 5 folds for each of 1 candidates, totalling 5 fits\n",
      "Fitting 5 folds for each of 1 candidates, totalling 5 fits\n",
      "Fitting 5 folds for each of 1 candidates, totalling 5 fits\n",
      "Fitting 5 folds for each of 1 candidates, totalling 5 fits\n",
      "Fitting 5 folds for each of 1 candidates, totalling 5 fits\n",
      "Fitting 5 folds for each of 1 candidates, totalling 5 fits\n",
      "Fitting 5 folds for each of 1 candidates, totalling 5 fits\n",
      "Fitting 5 folds for each of 1 candidates, totalling 5 fits\n",
      "Fitting 5 folds for each of 1 candidates, totalling 5 fits\n",
      "Fitting 5 folds for each of 1 candidates, totalling 5 fits\n",
      "Fitting 5 folds for each of 1 candidates, totalling 5 fits\n",
      "Fitting 5 folds for each of 1 candidates, totalling 5 fits\n",
      "Fitting 5 folds for each of 1 candidates, totalling 5 fits\n",
      "Fitting 5 folds for each of 1 candidates, totalling 5 fits\n",
      "Fitting 5 folds for each of 1 candidates, totalling 5 fits\n",
      "Fitting 5 folds for each of 1 candidates, totalling 5 fits\n",
      "Fitting 5 folds for each of 1 candidates, totalling 5 fits\n",
      "Fitting 5 folds for each of 1 candidates, totalling 5 fits\n",
      "Fitting 5 folds for each of 1 candidates, totalling 5 fits\n",
      "Fitting 5 folds for each of 1 candidates, totalling 5 fits\n",
      "Fitting 5 folds for each of 1 candidates, totalling 5 fits\n",
      "Fitting 5 folds for each of 1 candidates, totalling 5 fits\n",
      "Fitting 5 folds for each of 1 candidates, totalling 5 fits\n",
      "Fitting 5 folds for each of 1 candidates, totalling 5 fits\n",
      "Fitting 5 folds for each of 1 candidates, totalling 5 fits\n",
      "Fitting 5 folds for each of 1 candidates, totalling 5 fits\n",
      "Fitting 5 folds for each of 1 candidates, totalling 5 fits\n",
      "Fitting 5 folds for each of 1 candidates, totalling 5 fits\n",
      "Fitting 5 folds for each of 1 candidates, totalling 5 fits\n",
      "Fitting 5 folds for each of 1 candidates, totalling 5 fits\n",
      "Fitting 5 folds for each of 1 candidates, totalling 5 fits\n",
      "Fitting 5 folds for each of 1 candidates, totalling 5 fits\n",
      "Fitting 5 folds for each of 1 candidates, totalling 5 fits\n",
      "Fitting 5 folds for each of 1 candidates, totalling 5 fits\n",
      "Fitting 5 folds for each of 1 candidates, totalling 5 fits\n",
      "Fitting 5 folds for each of 1 candidates, totalling 5 fits\n",
      "Fitting 5 folds for each of 1 candidates, totalling 5 fits\n",
      "Fitting 5 folds for each of 1 candidates, totalling 5 fits\n",
      "Fitting 5 folds for each of 1 candidates, totalling 5 fits\n",
      "Fitting 5 folds for each of 1 candidates, totalling 5 fits\n",
      "Fitting 5 folds for each of 1 candidates, totalling 5 fits\n",
      "Fitting 5 folds for each of 1 candidates, totalling 5 fits\n",
      "Fitting 5 folds for each of 1 candidates, totalling 5 fits\n"
     ]
    },
    {
     "data": {
      "text/plain": [
       "BayesSearchCV(cv=5,\n",
       "              estimator=Pipeline(steps=[('tvec',\n",
       "                                         TfidfVectorizer(ngram_range=(1, 3),\n",
       "                                                         stop_words='english')),\n",
       "                                        ('mnb', MultinomialNB())]),\n",
       "              n_jobs=-1, random_state=42, scoring='f1_weighted',\n",
       "              search_spaces={'tvec__max_features': Integer(low=1, high=20000, prior='uniform', transform='normalize')},\n",
       "              verbose=1)"
      ]
     },
     "execution_count": 16,
     "metadata": {},
     "output_type": "execute_result"
    }
   ],
   "source": [
    "# setting and fitting up bayessearchcv\n",
    "bs2 = BayesSearchCV(estimator = pipe2,\n",
    "                     search_spaces = bs_params2,\n",
    "                     scoring = 'f1_weighted',\n",
    "                     n_iter = 50,\n",
    "                     cv = 5,\n",
    "                     verbose = 1, n_jobs=-1,\n",
    "                     random_state=42)\n",
    "bs2.fit(X_train,y_train)\n",
    "\n",
    "# check dis"
   ]
  },
  {
   "cell_type": "code",
   "execution_count": 17,
   "id": "dd08547b-fdeb-4334-90a2-c4e7e12d11c7",
   "metadata": {},
   "outputs": [
    {
     "data": {
      "text/plain": [
       "0.9921781861058072"
      ]
     },
     "execution_count": 17,
     "metadata": {},
     "output_type": "execute_result"
    }
   ],
   "source": [
    "bs2.best_score_"
   ]
  },
  {
   "cell_type": "code",
   "execution_count": 18,
   "id": "bf244b7f-608f-4b99-93e6-ee5a19c64c56",
   "metadata": {},
   "outputs": [
    {
     "data": {
      "text/plain": [
       "OrderedDict([('tvec__max_features', 14681)])"
      ]
     },
     "execution_count": 18,
     "metadata": {},
     "output_type": "execute_result"
    }
   ],
   "source": [
    "bs2.best_params_"
   ]
  },
  {
   "cell_type": "code",
   "execution_count": 19,
   "id": "f9c96725-d6f4-4334-862f-8e59349061b2",
   "metadata": {},
   "outputs": [],
   "source": [
    "# getting predictions and saving confusion matrix values\n",
    "preds = bs2.predict(X_test)\n",
    "tn,fp,fn,tp=confusion_matrix(y_test,preds).ravel()"
   ]
  },
  {
   "cell_type": "code",
   "execution_count": 20,
   "id": "050cff69-5144-412d-b1ab-c4596dab51d4",
   "metadata": {},
   "outputs": [
    {
     "data": {
      "image/png": "[encoded data removed]",
      "text/plain": [
       "<Figure size 432x288 with 2 Axes>"
      ]
     },
     "metadata": {
      "needs_background": "light"
     },
     "output_type": "display_data"
    }
   ],
   "source": [
    "# viewing confusion matrix \n",
    "plot_confusion_matrix(bs2, X_test,y_test,cmap='Blues', display_labels=['creative writing','tech support']);"
   ]
  },
  {
   "cell_type": "code",
   "execution_count": 21,
   "id": "e6a406cf-ad36-4dc4-8c41-cd82960b6201",
   "metadata": {},
   "outputs": [
    {
     "name": "stdout",
     "output_type": "stream",
     "text": [
      "Specificity is 0.9876601803512103\n"
     ]
    }
   ],
   "source": [
    "# calculating specificity \n",
    "spec=tn/(tn+fp)\n",
    "print(f'Specificity is {spec}')"
   ]
  },
  {
   "cell_type": "code",
   "execution_count": 22,
   "id": "09ad702e-d4d1-403e-9e7d-9a700592ae1a",
   "metadata": {},
   "outputs": [
    {
     "name": "stdout",
     "output_type": "stream",
     "text": [
      "Precision is 0.9829172141918529\n"
     ]
    }
   ],
   "source": [
    "# calculating precision \n",
    "precision=tp/(tp+fp)\n",
    "print(f'Precision is {precision}')"
   ]
  },
  {
   "cell_type": "code",
   "execution_count": 23,
   "id": "11cc1685-36ce-4994-8a44-bfee6e81c69c",
   "metadata": {},
   "outputs": [
    {
     "name": "stdout",
     "output_type": "stream",
     "text": [
      "                  precision    recall  f1-score   support\n",
      "\n",
      "creative writing      0.994     0.988     0.991      2107\n",
      "    tech support      0.983     0.992     0.987      1508\n",
      "\n",
      "        accuracy                          0.989      3615\n",
      "       macro avg      0.989     0.990     0.989      3615\n",
      "    weighted avg      0.990     0.989     0.989      3615\n",
      "\n"
     ]
    }
   ],
   "source": [
    "print(classification_report(y_test, preds, target_names=['creative writing', 'tech support'], digits=3))"
   ]
  }
 ],
 "metadata": {
  "kernelspec": {
   "display_name": "Python [conda env:dsi]",
   "language": "python",
   "name": "conda-env-dsi-py"
  },
  "language_info": {
   "codemirror_mode": {
    "name": "ipython",
    "version": 3
   },
   "file_extension": ".py",
   "mimetype": "text/x-python",
   "name": "python",
   "nbconvert_exporter": "python",
   "pygments_lexer": "ipython3",
   "version": "3.9.7"
  }
 },
 "nbformat": 4,
 "nbformat_minor": 5
}
